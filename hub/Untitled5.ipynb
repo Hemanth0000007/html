{
 "cells": [
  {
   "cell_type": "code",
   "execution_count": null,
   "id": "28a867a7",
   "metadata": {},
   "outputs": [],
   "source": [
    "t=int(input())\n",
    "for i in range(t):\n",
    "    n=int(input())\n",
    "    l=list(map(int,input().split()))\n",
    "    d={}\n",
    "    for i in l:\n",
    "        if i not in d.keys():\n",
    "            d[i]=1\n",
    "        else:\n",
    "            d[i]+=1\n",
    "    m=max(d.values())\n",
    "    c=0\n",
    "    for i in d.values():\n",
    "        if(i==m):\n",
    "            c+=1\n",
    "    if c==1:\n",
    "        print(\"Yes\")\n",
    "    \n",
    "    else:\n",
    "        print(\"No\")"
   ]
  },
  {
   "cell_type": "code",
   "execution_count": null,
   "id": "3e352327",
   "metadata": {},
   "outputs": [],
   "source": [
    "t=int(input())\n",
    "for i in range(t):\n",
    "    n=int(input())\n",
    "    d = {}\n",
    "    for j in range(n):\n",
    "        e = int(input())\n",
    "        if i not in d.keys():\n",
    "            d[e]=1\n",
    "        else:\n",
    "            d[e]+=1\n",
    "    k = d.items()\n",
    "    for x,y in k:\n",
    "        if y%2 !=0 :\n",
    "            print(x)\n"
   ]
  },
  {
   "cell_type": "code",
   "execution_count": null,
   "id": "db2ecd6a",
   "metadata": {},
   "outputs": [],
   "source": [
    "t=int(input())\n",
    "for i in range(t):\n",
    "    n=int(input())\n",
    "    d={}\n",
    "    for j in range(n):\n",
    "        e=int(input())\n",
    "        if e not in d.keys():\n",
    "            d[e]=1\n",
    "        else:\n",
    "            d[e]+=1\n",
    "    k=d.items()\n",
    "    for x,y in k:\n",
    "        if(y%2!=0):\n",
    "            print(x)"
   ]
  },
  {
   "cell_type": "code",
   "execution_count": null,
   "id": "64de0ff1",
   "metadata": {},
   "outputs": [],
   "source": [
    "t=int(input())\n",
    "for i in range(t):\n",
    "    n=int(input())\n",
    "    d={}\n",
    "    for j in range(n):\n",
    "        e=int(input())\n",
    "        if e not in d.keys():\n",
    "            d[e]=1\n",
    "        else:\n",
    "            d[e]+=1\n",
    "    k=d.items()\n",
    "    for x,y in k:\n",
    "        if(y%2!=0):\n",
    "            print(x)"
   ]
  },
  {
   "cell_type": "code",
   "execution_count": null,
   "id": "f848ed4d",
   "metadata": {},
   "outputs": [],
   "source": []
  },
  {
   "cell_type": "code",
   "execution_count": null,
   "id": "0a484fa0",
   "metadata": {},
   "outputs": [],
   "source": []
  },
  {
   "cell_type": "code",
   "execution_count": null,
   "id": "52cbaf52",
   "metadata": {},
   "outputs": [],
   "source": []
  },
  {
   "cell_type": "code",
   "execution_count": null,
   "id": "1f38abc3",
   "metadata": {},
   "outputs": [],
   "source": []
  },
  {
   "cell_type": "code",
   "execution_count": null,
   "id": "69ed7d9b",
   "metadata": {},
   "outputs": [],
   "source": []
  }
 ],
 "metadata": {
  "kernelspec": {
   "display_name": "Python 3 (ipykernel)",
   "language": "python",
   "name": "python3"
  },
  "language_info": {
   "codemirror_mode": {
    "name": "ipython",
    "version": 3
   },
   "file_extension": ".py",
   "mimetype": "text/x-python",
   "name": "python",
   "nbconvert_exporter": "python",
   "pygments_lexer": "ipython3",
   "version": "3.9.12"
  }
 },
 "nbformat": 4,
 "nbformat_minor": 5
}
