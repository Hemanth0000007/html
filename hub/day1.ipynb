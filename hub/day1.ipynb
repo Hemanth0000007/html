{
 "cells": [
  {
   "cell_type": "code",
   "execution_count": 1,
   "id": "edc5740f",
   "metadata": {},
   "outputs": [
    {
     "name": "stdout",
     "output_type": "stream",
     "text": [
      "[10, 20, 30, 'h', 'e', 'l', 'l', 'o']\n"
     ]
    }
   ],
   "source": [
    "lst = [10,20,30]\n",
    "lst.extend('hello')\n",
    "print(lst)"
   ]
  },
  {
   "cell_type": "code",
   "execution_count": 4,
   "id": "2c8848d2",
   "metadata": {},
   "outputs": [
    {
     "name": "stdout",
     "output_type": "stream",
     "text": [
      "[10, 20, 30, 40, 50, 60]\n"
     ]
    }
   ],
   "source": [
    "lst1 = [10,20,30]\n",
    "lst2 = [40,50,60]\n",
    "lst1.extend(lst2)\n",
    "print(lst1)"
   ]
  },
  {
   "cell_type": "code",
   "execution_count": 5,
   "id": "737b554d",
   "metadata": {},
   "outputs": [
    {
     "name": "stdout",
     "output_type": "stream",
     "text": [
      "[10, 20, 30, 'h', 'e', 'l', 'l', 'o']\n"
     ]
    }
   ],
   "source": [
    "lst = [10,20,30]\n",
    "lst.extend('hello')\n",
    "print(lst)"
   ]
  },
  {
   "cell_type": "code",
   "execution_count": 2,
   "id": "c64bd247",
   "metadata": {},
   "outputs": [
    {
     "ename": "TypeError",
     "evalue": "'int' object is not iterable",
     "output_type": "error",
     "traceback": [
      "\u001b[1;31m---------------------------------------------------------------------------\u001b[0m",
      "\u001b[1;31mTypeError\u001b[0m                                 Traceback (most recent call last)",
      "Input \u001b[1;32mIn [2]\u001b[0m, in \u001b[0;36m<cell line: 2>\u001b[1;34m()\u001b[0m\n\u001b[0;32m      1\u001b[0m lst \u001b[38;5;241m=\u001b[39m [\u001b[38;5;241m10\u001b[39m,\u001b[38;5;241m20\u001b[39m,\u001b[38;5;241m30\u001b[39m]\n\u001b[1;32m----> 2\u001b[0m \u001b[43mlst\u001b[49m\u001b[38;5;241;43m.\u001b[39;49m\u001b[43mextend\u001b[49m\u001b[43m(\u001b[49m\u001b[38;5;241;43m10\u001b[39;49m\u001b[43m)\u001b[49m\n\u001b[0;32m      3\u001b[0m \u001b[38;5;28mprint\u001b[39m(lst)\n",
      "\u001b[1;31mTypeError\u001b[0m: 'int' object is not iterable"
     ]
    }
   ],
   "source": [
    "lst = [10,20,30]\n",
    "lst.extend(10)\n",
    "print(lst)"
   ]
  },
  {
   "cell_type": "code",
   "execution_count": 3,
   "id": "bc842ffa",
   "metadata": {},
   "outputs": [
    {
     "name": "stdout",
     "output_type": "stream",
     "text": [
      "[10, 20, 30, '1', '0']\n"
     ]
    }
   ],
   "source": [
    "lst = [10,20,30]\n",
    "lst.extend('10')\n",
    "print(lst)"
   ]
  },
  {
   "cell_type": "code",
   "execution_count": 6,
   "id": "20d5ee40",
   "metadata": {},
   "outputs": [
    {
     "name": "stdout",
     "output_type": "stream",
     "text": [
      "[1, 2, 3, 4, 5, 6, 7, 8, 9, 10, 11, 12, 13, 14, 15, 16, 17, 18, 19, 20, 21, 22, 23, 24, 25, 26, 27, 28, 29, 30, 31, 32, 33, 34, 35, 36, 37, 38, 39, 40, 41, 42, 43, 44, 45, 46, 47, 48, 49, 50, 51, 52, 53, 54, 55, 56, 57, 58, 59, 60, 61, 62, 63, 64, 65, 66, 67, 68, 69, 70, 71, 72, 73, 74, 75, 76, 77, 78, 79, 80, 81, 82, 83, 84, 85, 86, 87, 88, 89, 90, 91, 92, 93, 94, 95, 96, 97, 98, 99]\n"
     ]
    }
   ],
   "source": [
    "lst = []\n",
    "lst.extend(range(1,100))\n",
    "print(lst)"
   ]
  },
  {
   "cell_type": "markdown",
   "id": "9b2a0a04",
   "metadata": {},
   "source": [
    "# insert method\n"
   ]
  },
  {
   "cell_type": "code",
   "execution_count": 7,
   "id": "ee98ce58",
   "metadata": {},
   "outputs": [
    {
     "name": "stdout",
     "output_type": "stream",
     "text": [
      "[40, 10, 20, 30]\n"
     ]
    }
   ],
   "source": [
    "lst = [10,20,30]\n",
    "lst.insert(0,40)\n",
    "print(lst)"
   ]
  },
  {
   "cell_type": "code",
   "execution_count": 8,
   "id": "dc4085d8",
   "metadata": {},
   "outputs": [
    {
     "name": "stdout",
     "output_type": "stream",
     "text": [
      "[10, 20, 30, 40]\n"
     ]
    }
   ],
   "source": [
    "lst = [10,20,30]\n",
    "lst.insert(4,40)\n",
    "print(lst)"
   ]
  },
  {
   "cell_type": "markdown",
   "id": "8003b3b2",
   "metadata": {},
   "source": [
    "# lst.sort()"
   ]
  },
  {
   "cell_type": "code",
   "execution_count": 9,
   "id": "b1d2bd76",
   "metadata": {},
   "outputs": [
    {
     "name": "stdout",
     "output_type": "stream",
     "text": [
      "[-14, 2, 4, 6, 7, 10, 14]\n"
     ]
    }
   ],
   "source": [
    "lst = [10,-14,6,7,14,2,4]\n",
    "# list are mutable\n",
    "lst.sort()#sorts the list in asc_order inplace\n",
    "print(lst)"
   ]
  },
  {
   "cell_type": "code",
   "execution_count": 12,
   "id": "e6538ad8",
   "metadata": {},
   "outputs": [
    {
     "name": "stdout",
     "output_type": "stream",
     "text": [
      "[14, 10, 7, 6, 4, 2, -14]\n"
     ]
    }
   ],
   "source": [
    "lst = [10,-14,6,7,14,2,4]\n",
    "# list are mutable\n",
    "lst.sort(reverse=True)#sorts the list in asc_order inplace\n",
    "print(lst)"
   ]
  },
  {
   "cell_type": "code",
   "execution_count": null,
   "id": "15033022",
   "metadata": {},
   "outputs": [],
   "source": [
    "l = [10,-14,6,7,14,2,4]"
   ]
  },
  {
   "cell_type": "code",
   "execution_count": null,
   "id": "6b49b1cd",
   "metadata": {},
   "outputs": [],
   "source": [
    "# mutability\n",
    "-ablitiy to be changed even after creation\n",
    "-lists,sets,dictionaries-->mutable\n",
    "-int,float,str,tuble-->immutable\n"
   ]
  },
  {
   "cell_type": "markdown",
   "id": "f4d55cbb",
   "metadata": {},
   "source": [
    "# sets() \n"
   ]
  },
  {
   "cell_type": "code",
   "execution_count": 1,
   "id": "f5d1ad9e",
   "metadata": {},
   "outputs": [
    {
     "name": "stdout",
     "output_type": "stream",
     "text": [
      "{40, 10, 20, 30}\n"
     ]
    }
   ],
   "source": [
    "s = {10,20,30,40,10}\n",
    "print(s)"
   ]
  },
  {
   "cell_type": "code",
   "execution_count": null,
   "id": "44f80b6a",
   "metadata": {},
   "outputs": [],
   "source": [
    "c={a,b,c,d,r}\n",
    "print(c)\n"
   ]
  },
  {
   "cell_type": "code",
   "execution_count": null,
   "id": "c9897348",
   "metadata": {},
   "outputs": [],
   "source": [
    "s1 = {10,20,30}\n",
    "s2 = {20,30}\n",
    "print(s1.intersection)"
   ]
  },
  {
   "cell_type": "code",
   "execution_count": 4,
   "id": "f978de33",
   "metadata": {},
   "outputs": [
    {
     "name": "stdout",
     "output_type": "stream",
     "text": [
      "{'a'}\n"
     ]
    }
   ],
   "source": [
    "s = 'aaaaaaaaaaaaaaaaaa'\n",
    "print(set(s))"
   ]
  },
  {
   "cell_type": "code",
   "execution_count": 6,
   "id": "babf3d73",
   "metadata": {},
   "outputs": [
    {
     "name": "stdout",
     "output_type": "stream",
     "text": [
      "60\n",
      "30\n"
     ]
    }
   ],
   "source": [
    "s = {10,20,30}\n",
    "print(sum(s))\n",
    "print(max(s))"
   ]
  },
  {
   "cell_type": "code",
   "execution_count": null,
   "id": "d8f75da1",
   "metadata": {},
   "outputs": [],
   "source": []
  }
 ],
 "metadata": {
  "kernelspec": {
   "display_name": "Python 3 (ipykernel)",
   "language": "python",
   "name": "python3"
  },
  "language_info": {
   "codemirror_mode": {
    "name": "ipython",
    "version": 3
   },
   "file_extension": ".py",
   "mimetype": "text/x-python",
   "name": "python",
   "nbconvert_exporter": "python",
   "pygments_lexer": "ipython3",
   "version": "3.9.12"
  }
 },
 "nbformat": 4,
 "nbformat_minor": 5
}
