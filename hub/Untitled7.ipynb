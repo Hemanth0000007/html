{
 "cells": [
  {
   "cell_type": "code",
   "execution_count": 2,
   "id": "77cbad06",
   "metadata": {},
   "outputs": [
    {
     "name": "stdout",
     "output_type": "stream",
     "text": [
      "3 0\n"
     ]
    }
   ],
   "source": [
    "n = [1 , 3 , 5]\n",
    "o =0\n",
    "for i in n:\n",
    "    if i >> 1 & 1 == 1:\n",
    "        o+=1\n",
    "print(o ,len(n)-o)"
   ]
  },
  {
   "cell_type": "code",
   "execution_count": 6,
   "id": "a8307781",
   "metadata": {},
   "outputs": [
    {
     "name": "stdout",
     "output_type": "stream",
     "text": [
      "8\n"
     ]
    }
   ],
   "source": [
    "n = [1 , 3 , 5]\n",
    "ans = 0\n",
    "for j in range(32):\n",
    "    cnt = 0\n",
    "    for i in n:\n",
    "        if i >> j & 1 == 1:\n",
    "            cnt+=1 \n",
    "    ans += 2*cnt*(len(n)-cnt)\n",
    "\n",
    "print(ans)"
   ]
  },
  {
   "cell_type": "code",
   "execution_count": null,
   "id": "428a666f",
   "metadata": {},
   "outputs": [],
   "source": []
  },
  {
   "cell_type": "code",
   "execution_count": null,
   "id": "c6386939",
   "metadata": {},
   "outputs": [],
   "source": []
  },
  {
   "cell_type": "code",
   "execution_count": null,
   "id": "af8ddcab",
   "metadata": {},
   "outputs": [],
   "source": []
  },
  {
   "cell_type": "code",
   "execution_count": null,
   "id": "688a8009",
   "metadata": {},
   "outputs": [],
   "source": []
  },
  {
   "cell_type": "code",
   "execution_count": null,
   "id": "309aaaaf",
   "metadata": {},
   "outputs": [],
   "source": []
  }
 ],
 "metadata": {
  "kernelspec": {
   "display_name": "Python 3 (ipykernel)",
   "language": "python",
   "name": "python3"
  },
  "language_info": {
   "codemirror_mode": {
    "name": "ipython",
    "version": 3
   },
   "file_extension": ".py",
   "mimetype": "text/x-python",
   "name": "python",
   "nbconvert_exporter": "python",
   "pygments_lexer": "ipython3",
   "version": "3.9.12"
  }
 },
 "nbformat": 4,
 "nbformat_minor": 5
}
