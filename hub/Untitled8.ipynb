{
 "cells": [
  {
   "cell_type": "code",
   "execution_count": 5,
   "id": "01b82c5c",
   "metadata": {},
   "outputs": [
    {
     "data": {
      "text/plain": [
       "True"
      ]
     },
     "execution_count": 5,
     "metadata": {},
     "output_type": "execute_result"
    }
   ],
   "source": [
    "import math \n",
    "def is_prime(n):\n",
    "    if n<2:\n",
    "        return False\n",
    "    s = int(math.sqrt(n))\n",
    "    for i in range(2,s+1):\n",
    "        if n%i==0:\n",
    "            return False\n",
    "    return True\n",
    "is_prime(29)"
   ]
  },
  {
   "cell_type": "code",
   "execution_count": 3,
   "id": "e32eecff",
   "metadata": {},
   "outputs": [
    {
     "data": {
      "text/plain": [
       "107"
      ]
     },
     "execution_count": 3,
     "metadata": {},
     "output_type": "execute_result"
    }
   ],
   "source": [
    "ord('k')"
   ]
  },
  {
   "cell_type": "code",
   "execution_count": 4,
   "id": "366a2852",
   "metadata": {},
   "outputs": [
    {
     "name": "stdout",
     "output_type": "stream",
     "text": [
      "geeksforgeeks\n",
      "1365\n"
     ]
    }
   ],
   "source": [
    "s=input()\n",
    "sum=0\n",
    "l= list(s)\n",
    "for i in l:\n",
    "    sum+=ord('i')\n",
    "print(sum)"
   ]
  },
  {
   "cell_type": "code",
   "execution_count": 10,
   "id": "b7f6a8f5",
   "metadata": {},
   "outputs": [
    {
     "name": "stdout",
     "output_type": "stream",
     "text": [
      "[False, False, True, True, False, True, False, True, False, False, False, True, False, True, False, False, False, True, False, True, False]\n"
     ]
    }
   ],
   "source": [
    "import math \n",
    "ub = 20\n",
    "sieve =[True] * (ub + 1)\n",
    "sieve[0] = False\n",
    "sieve[1] = False\n",
    "s = int(math.sqrt(ub))\n",
    "for i in range(2, s+1):\n",
    "    if sieve[i]:\n",
    "        for j in range(i + i , ub + 1, i):\n",
    "            sieve[j] = False\n",
    "print(sieve)\n"
   ]
  },
  {
   "cell_type": "code",
   "execution_count": 11,
   "id": "8abbde64",
   "metadata": {},
   "outputs": [
    {
     "name": "stdout",
     "output_type": "stream",
     "text": [
      "[False, False, True, True, False, True, False, True, False, False, False, True, False, True, False, False, False, True, False, True, False]\n",
      "2\n",
      "3\n",
      "5\n",
      "7\n",
      "11\n",
      "13\n",
      "17\n",
      "19\n"
     ]
    }
   ],
   "source": [
    "import math \n",
    "ub = 20\n",
    "sieve =[True] * (ub + 1)\n",
    "sieve[0] = False\n",
    "sieve[1] = False\n",
    "s = int(math.sqrt(ub))\n",
    "for i in range(2, s+1):\n",
    "    if sieve[i]:\n",
    "        for j in range(i + i , ub + 1, i):\n",
    "            sieve[j] = False\n",
    "print(sieve)\n",
    "for i in range (len(sieve)):\n",
    "    if sieve[i] == True:\n",
    "        print(i)"
   ]
  },
  {
   "cell_type": "code",
   "execution_count": null,
   "id": "372aab15",
   "metadata": {},
   "outputs": [],
   "source": []
  },
  {
   "cell_type": "code",
   "execution_count": null,
   "id": "eb4f67f2",
   "metadata": {},
   "outputs": [],
   "source": []
  },
  {
   "cell_type": "code",
   "execution_count": null,
   "id": "2842df79",
   "metadata": {},
   "outputs": [],
   "source": []
  },
  {
   "cell_type": "code",
   "execution_count": null,
   "id": "d49c7359",
   "metadata": {},
   "outputs": [],
   "source": []
  },
  {
   "cell_type": "code",
   "execution_count": null,
   "id": "8235f924",
   "metadata": {},
   "outputs": [],
   "source": []
  },
  {
   "cell_type": "code",
   "execution_count": null,
   "id": "4f229e15",
   "metadata": {},
   "outputs": [],
   "source": []
  },
  {
   "cell_type": "code",
   "execution_count": null,
   "id": "2b4fe6c0",
   "metadata": {},
   "outputs": [],
   "source": []
  },
  {
   "cell_type": "code",
   "execution_count": null,
   "id": "4eacc340",
   "metadata": {},
   "outputs": [],
   "source": []
  },
  {
   "cell_type": "code",
   "execution_count": null,
   "id": "31759b0b",
   "metadata": {},
   "outputs": [],
   "source": []
  }
 ],
 "metadata": {
  "kernelspec": {
   "display_name": "Python 3 (ipykernel)",
   "language": "python",
   "name": "python3"
  },
  "language_info": {
   "codemirror_mode": {
    "name": "ipython",
    "version": 3
   },
   "file_extension": ".py",
   "mimetype": "text/x-python",
   "name": "python",
   "nbconvert_exporter": "python",
   "pygments_lexer": "ipython3",
   "version": "3.9.12"
  }
 },
 "nbformat": 4,
 "nbformat_minor": 5
}
