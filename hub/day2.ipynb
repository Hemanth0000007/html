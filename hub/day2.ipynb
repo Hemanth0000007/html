{
 "cells": [
  {
   "cell_type": "markdown",
   "id": "30ea0303",
   "metadata": {},
   "source": [
    "# sets\n",
    "-.add()\n",
    "-.pop()\n",
    "-.remove()\n",
    "-.discard()\n",
    "-.union()\n",
    "-.intersection()\n",
    "-.difference()\n",
    "-.symmetric_difference\n",
    "-."
   ]
  },
  {
   "cell_type": "code",
   "execution_count": 2,
   "id": "da7a19d5",
   "metadata": {},
   "outputs": [
    {
     "name": "stdout",
     "output_type": "stream",
     "text": [
      "{10, 20, 45}\n"
     ]
    }
   ],
   "source": [
    "s = set()# empty set\n",
    "s.add(20)\n",
    "s.add(10)\n",
    "s.add(45)\n",
    "print(s)"
   ]
  },
  {
   "cell_type": "code",
   "execution_count": 3,
   "id": "07b7e9c1",
   "metadata": {},
   "outputs": [
    {
     "name": "stdout",
     "output_type": "stream",
     "text": [
      "{10}\n"
     ]
    }
   ],
   "source": [
    "s = set() # empty set\n",
    "s.add(10)\n",
    "s.add(10)\n",
    "s.add(10)\n",
    "print(s)"
   ]
  },
  {
   "cell_type": "code",
   "execution_count": 4,
   "id": "753a65c4",
   "metadata": {},
   "outputs": [
    {
     "ename": "TypeError",
     "evalue": "unhashable type: 'list'",
     "output_type": "error",
     "traceback": [
      "\u001b[1;31m---------------------------------------------------------------------------\u001b[0m",
      "\u001b[1;31mTypeError\u001b[0m                                 Traceback (most recent call last)",
      "Input \u001b[1;32mIn [4]\u001b[0m, in \u001b[0;36m<cell line: 1>\u001b[1;34m()\u001b[0m\n\u001b[1;32m----> 1\u001b[0m s \u001b[38;5;241m=\u001b[39m {[\u001b[38;5;241m10\u001b[39m,\u001b[38;5;241m20\u001b[39m],[\u001b[38;5;241m20\u001b[39m,\u001b[38;5;241m10\u001b[39m],[\u001b[38;5;241m10\u001b[39m,\u001b[38;5;241m20\u001b[39m]}\n\u001b[0;32m      2\u001b[0m \u001b[38;5;28mprint\u001b[39m(s)\n",
      "\u001b[1;31mTypeError\u001b[0m: unhashable type: 'list'"
     ]
    }
   ],
   "source": [
    "s = {[10,20],[20,10],[10,20]}\n",
    "print(s)"
   ]
  },
  {
   "cell_type": "code",
   "execution_count": null,
   "id": "29585a86",
   "metadata": {},
   "outputs": [],
   "source": [
    " = {[10,20],[20,10],(10,20)}\n",
    "print(s)"
   ]
  },
  {
   "cell_type": "markdown",
   "id": "600dbfc7",
   "metadata": {},
   "source": [
    "# sets can only hold immutable types\n",
    "- sets of integers - vaild\n",
    "- sets of floating points - vaild \n",
    "- sets of strings - vaild\n",
    "- sets of lists - invaild\n"
   ]
  },
  {
   "cell_type": "code",
   "execution_count": 5,
   "id": "bdb17db1",
   "metadata": {},
   "outputs": [
    {
     "ename": "TypeError",
     "evalue": "unhashable type: 'set'",
     "output_type": "error",
     "traceback": [
      "\u001b[1;31m---------------------------------------------------------------------------\u001b[0m",
      "\u001b[1;31mTypeError\u001b[0m                                 Traceback (most recent call last)",
      "Input \u001b[1;32mIn [5]\u001b[0m, in \u001b[0;36m<cell line: 3>\u001b[1;34m()\u001b[0m\n\u001b[0;32m      1\u001b[0m s \u001b[38;5;241m=\u001b[39m {\u001b[38;5;241m10\u001b[39m,\u001b[38;5;241m20\u001b[39m,\u001b[38;5;241m30\u001b[39m}\n\u001b[0;32m      2\u001b[0m s1 \u001b[38;5;241m=\u001b[39m \u001b[38;5;28mset\u001b[39m()\n\u001b[1;32m----> 3\u001b[0m \u001b[43ms1\u001b[49m\u001b[38;5;241;43m.\u001b[39;49m\u001b[43madd\u001b[49m\u001b[43m(\u001b[49m\u001b[43ms\u001b[49m\u001b[43m)\u001b[49m\n\u001b[0;32m      4\u001b[0m \u001b[38;5;28mprint\u001b[39m(s1)\n",
      "\u001b[1;31mTypeError\u001b[0m: unhashable type: 'set'"
     ]
    }
   ],
   "source": [
    "s = {10,20,30}\n",
    "s1 = set()\n",
    "s1.add(s)\n",
    "print(s1)"
   ]
  },
  {
   "cell_type": "markdown",
   "id": "eb29917b",
   "metadata": {},
   "source": [
    "# set.pop()\n",
    "- removes a random element from set"
   ]
  },
  {
   "cell_type": "code",
   "execution_count": 6,
   "id": "ed44295c",
   "metadata": {},
   "outputs": [
    {
     "name": "stdout",
     "output_type": "stream",
     "text": [
      "{20, 40, 10, 30}\n"
     ]
    }
   ],
   "source": [
    "s = {10,20,30,40,50}\n",
    "s.pop()\n",
    "print(s)"
   ]
  },
  {
   "cell_type": "markdown",
   "id": "f8017e51",
   "metadata": {},
   "source": [
    "# set.remove()\n",
    "- removes a specific random element from set"
   ]
  },
  {
   "cell_type": "code",
   "execution_count": 7,
   "id": "7f3ea21c",
   "metadata": {},
   "outputs": [
    {
     "name": "stdout",
     "output_type": "stream",
     "text": [
      "{50, 20, 10, 30}\n"
     ]
    }
   ],
   "source": [
    "s = {10,20,30,40,50}\n",
    "s.remove(40)\n",
    "print(s)"
   ]
  },
  {
   "cell_type": "code",
   "execution_count": 8,
   "id": "2c6e8a59",
   "metadata": {},
   "outputs": [
    {
     "ename": "KeyError",
     "evalue": "100",
     "output_type": "error",
     "traceback": [
      "\u001b[1;31m---------------------------------------------------------------------------\u001b[0m",
      "\u001b[1;31mKeyError\u001b[0m                                  Traceback (most recent call last)",
      "Input \u001b[1;32mIn [8]\u001b[0m, in \u001b[0;36m<cell line: 2>\u001b[1;34m()\u001b[0m\n\u001b[0;32m      1\u001b[0m s \u001b[38;5;241m=\u001b[39m {\u001b[38;5;241m10\u001b[39m,\u001b[38;5;241m20\u001b[39m,\u001b[38;5;241m30\u001b[39m,\u001b[38;5;241m40\u001b[39m,\u001b[38;5;241m50\u001b[39m}\n\u001b[1;32m----> 2\u001b[0m \u001b[43ms\u001b[49m\u001b[38;5;241;43m.\u001b[39;49m\u001b[43mremove\u001b[49m\u001b[43m(\u001b[49m\u001b[38;5;241;43m100\u001b[39;49m\u001b[43m)\u001b[49m\n\u001b[0;32m      3\u001b[0m \u001b[38;5;28mprint\u001b[39m(s)\n",
      "\u001b[1;31mKeyError\u001b[0m: 100"
     ]
    }
   ],
   "source": [
    "s = {10,20,30,40,50}\n",
    "s.remove(100)\n",
    "print(s)"
   ]
  },
  {
   "cell_type": "markdown",
   "id": "a6b468e9",
   "metadata": {},
   "source": [
    "# set.discard()\n",
    "- also removes an elment from set . if it's a member\n",
    "- "
   ]
  },
  {
   "cell_type": "code",
   "execution_count": 9,
   "id": "acdc0561",
   "metadata": {},
   "outputs": [
    {
     "name": "stdout",
     "output_type": "stream",
     "text": [
      "{10, 30}\n"
     ]
    }
   ],
   "source": [
    "s ={10,20,30}\n",
    "s.discard(20)\n",
    "print(s)"
   ]
  },
  {
   "cell_type": "code",
   "execution_count": 10,
   "id": "80118afe",
   "metadata": {},
   "outputs": [
    {
     "name": "stdout",
     "output_type": "stream",
     "text": [
      "{10, 20, 30}\n"
     ]
    }
   ],
   "source": [
    "s ={10,20,30}\n",
    "s.discard(100)\n",
    "print(s)"
   ]
  },
  {
   "cell_type": "code",
   "execution_count": 12,
   "id": "83173422",
   "metadata": {},
   "outputs": [
    {
     "name": "stdout",
     "output_type": "stream",
     "text": [
      "5\n"
     ]
    }
   ],
   "source": [
    "s ='aaaaabb bccxxx'\n",
    "print(len(set(s)))\n"
   ]
  },
  {
   "cell_type": "code",
   "execution_count": 14,
   "id": "5b277815",
   "metadata": {},
   "outputs": [
    {
     "name": "stdout",
     "output_type": "stream",
     "text": [
      "4\n"
     ]
    }
   ],
   "source": [
    "s ='aaaaabb bccxxx'\n",
    "x = set(s)\n",
    "x.remove(' ')\n",
    "print(len(set(x)))"
   ]
  },
  {
   "cell_type": "code",
   "execution_count": 15,
   "id": "2f5c6642",
   "metadata": {},
   "outputs": [
    {
     "ename": "KeyError",
     "evalue": "' '",
     "output_type": "error",
     "traceback": [
      "\u001b[1;31m---------------------------------------------------------------------------\u001b[0m",
      "\u001b[1;31mKeyError\u001b[0m                                  Traceback (most recent call last)",
      "Input \u001b[1;32mIn [15]\u001b[0m, in \u001b[0;36m<cell line: 3>\u001b[1;34m()\u001b[0m\n\u001b[0;32m      1\u001b[0m s \u001b[38;5;241m=\u001b[39m\u001b[38;5;124m'\u001b[39m\u001b[38;5;124maaaaabbbccxxx\u001b[39m\u001b[38;5;124m'\u001b[39m\n\u001b[0;32m      2\u001b[0m x \u001b[38;5;241m=\u001b[39m \u001b[38;5;28mset\u001b[39m(s)\n\u001b[1;32m----> 3\u001b[0m \u001b[43mx\u001b[49m\u001b[38;5;241;43m.\u001b[39;49m\u001b[43mremove\u001b[49m\u001b[43m(\u001b[49m\u001b[38;5;124;43m'\u001b[39;49m\u001b[38;5;124;43m \u001b[39;49m\u001b[38;5;124;43m'\u001b[39;49m\u001b[43m)\u001b[49m\n\u001b[0;32m      4\u001b[0m \u001b[38;5;28mprint\u001b[39m(\u001b[38;5;28mlen\u001b[39m(\u001b[38;5;28mset\u001b[39m(x)))\n",
      "\u001b[1;31mKeyError\u001b[0m: ' '"
     ]
    }
   ],
   "source": [
    "s ='aaaaabbbccxxx'\n",
    "x = set(s)\n",
    "x.remove(' ')\n",
    "print(len(set(x)))"
   ]
  },
  {
   "cell_type": "code",
   "execution_count": 16,
   "id": "36465ada",
   "metadata": {},
   "outputs": [
    {
     "name": "stdout",
     "output_type": "stream",
     "text": [
      "4\n"
     ]
    }
   ],
   "source": [
    "s ='aaaaabb bccxxx'\n",
    "x = set(s)\n",
    "x.discard(' ')\n",
    "print(len(set(x)))"
   ]
  },
  {
   "cell_type": "code",
   "execution_count": 17,
   "id": "c85d04d6",
   "metadata": {},
   "outputs": [
    {
     "name": "stdout",
     "output_type": "stream",
     "text": [
      "4\n"
     ]
    }
   ],
   "source": [
    "s ='aaaaabbbccxxx'\n",
    "x = set(s)\n",
    "x.discard(' ')\n",
    "print(len(set(x)))"
   ]
  },
  {
   "cell_type": "markdown",
   "id": "bdf74c3a",
   "metadata": {},
   "source": [
    "# pangram\n",
    "- A quick brown fox jumps over the lazy dog \n",
    "- aaaaaaaaaaaaaaaaaaaaaaaaaaaaaa\n",
    "- pavan\n"
   ]
  },
  {
   "cell_type": "code",
   "execution_count": 20,
   "id": "37dd8164",
   "metadata": {},
   "outputs": [
    {
     "name": "stdout",
     "output_type": "stream",
     "text": [
      "{'e', 'h', 'a', 'i', 'A', 'b', 'f', 'd', 'n', 'm', 'x', 't', 'u', 's', ' ', 'g', 'o', 'q', 'z', 'l', 'y', 'v', 'c', 'k', 'j', 'w', 'p', 'r'}\n"
     ]
    }
   ],
   "source": [
    "s = 'A quick brown fox jumps over the lazy dog '\n",
    "x = set(s)\n",
    "print(x)"
   ]
  },
  {
   "cell_type": "code",
   "execution_count": 21,
   "id": "c87f914d",
   "metadata": {},
   "outputs": [
    {
     "name": "stdout",
     "output_type": "stream",
     "text": [
      "{'e', 'h', 'a', 'i', 'b', 'f', 'd', 'n', 'm', 'x', 't', 'u', 's', ' ', 'g', 'o', 'q', 'z', 'l', 'y', 'v', 'c', 'k', 'j', 'w', 'p', 'r'}\n"
     ]
    }
   ],
   "source": [
    "s = 'A quick brown fox jumps over the lazy dog '.lower()\n",
    "x = set(s)\n",
    "print(x)"
   ]
  },
  {
   "cell_type": "code",
   "execution_count": 22,
   "id": "141c1741",
   "metadata": {},
   "outputs": [
    {
     "name": "stdout",
     "output_type": "stream",
     "text": [
      "pangram\n"
     ]
    }
   ],
   "source": [
    "s = 'A quick brown fox jumps over the lazy dog '.lower()\n",
    "x = set(s)\n",
    "x.discard(' ')\n",
    "if len (x) == 26:\n",
    "    print('pangram')\n",
    "else:\n",
    "    print('not pangram')"
   ]
  },
  {
   "cell_type": "code",
   "execution_count": 23,
   "id": "90e33d0c",
   "metadata": {},
   "outputs": [
    {
     "name": "stdout",
     "output_type": "stream",
     "text": [
      "A quick brown fox jumps over the lazy dog \n",
      "pangram\n"
     ]
    }
   ],
   "source": [
    "s = input().lower()\n",
    "x = set(s)\n",
    "x.discard(' ')\n",
    "if len (x) == 26:\n",
    "    print('pangram')\n",
    "else:\n",
    "    print('not pangram')"
   ]
  },
  {
   "cell_type": "markdown",
   "id": "bd171540",
   "metadata": {},
   "source": [
    "# set.union()"
   ]
  },
  {
   "cell_type": "code",
   "execution_count": 24,
   "id": "cff7f498",
   "metadata": {},
   "outputs": [
    {
     "name": "stdout",
     "output_type": "stream",
     "text": [
      "{20, 40, 10, 30}\n",
      "{20, 40, 10, 30}\n"
     ]
    }
   ],
   "source": [
    "s1 = {10,20,30}\n",
    "s2 ={20,30,40}\n",
    "s3 = s1.union(s2)    #  s2.union(s1)\n",
    "s4 = s2.union(s1)\n",
    "print(s3 , s4 ,sep='\\n')"
   ]
  },
  {
   "cell_type": "markdown",
   "id": "beb24572",
   "metadata": {},
   "source": [
    "# set.intersection"
   ]
  },
  {
   "cell_type": "code",
   "execution_count": 26,
   "id": "a9c008d0",
   "metadata": {},
   "outputs": [
    {
     "name": "stdout",
     "output_type": "stream",
     "text": [
      "{20, 30}\n"
     ]
    }
   ],
   "source": [
    "s1 = {10,20,30}\n",
    "s2 ={20,30,40}\n",
    "s3 = s1.intersection(s2)    #  s2.intersection(s1)\n",
    "print(s3 ,sep='\\n')"
   ]
  },
  {
   "cell_type": "code",
   "execution_count": 27,
   "id": "c041ced2",
   "metadata": {},
   "outputs": [
    {
     "name": "stdout",
     "output_type": "stream",
     "text": [
      "{20, 30}\n",
      "{20, 30}\n"
     ]
    }
   ],
   "source": [
    "s1 = {10,20,30}\n",
    "s2 ={20,30,40}\n",
    "s3 = s1.intersection(s2)    #  s2.uintersection(s1)\n",
    "s4 = s2.intersection(s1)\n",
    "print(s3 , s4 ,sep='\\n')"
   ]
  },
  {
   "cell_type": "markdown",
   "id": "a30f70df",
   "metadata": {},
   "source": [
    "# gcd of 2 numbers using sets"
   ]
  },
  {
   "cell_type": "code",
   "execution_count": null,
   "id": "6be8b2f7",
   "metadata": {},
   "outputs": [],
   "source": [
    "s = 'this is python'\n",
    "se = {}"
   ]
  },
  {
   "cell_type": "code",
   "execution_count": 28,
   "id": "b8c50aed",
   "metadata": {},
   "outputs": [
    {
     "name": "stdout",
     "output_type": "stream",
     "text": [
      "{1, 2, 3, 4, 5, 6, 7, 8, 9, 10, 11, 12}\n"
     ]
    }
   ],
   "source": [
    "a = 12\n",
    "b = 18\n",
    "factors_of_a = {i for i in range(1, a+1)}\n",
    "print(factors_of_a)"
   ]
  },
  {
   "cell_type": "code",
   "execution_count": 29,
   "id": "4476ba95",
   "metadata": {},
   "outputs": [
    {
     "name": "stdout",
     "output_type": "stream",
     "text": [
      "{1, 2, 3, 4, 6, 12}\n",
      "{1, 2, 3, 6, 9}\n"
     ]
    }
   ],
   "source": [
    "a = 12\n",
    "b = 18\n",
    "factors_of_a = {i for i in range(1, a+1) if a%i == 0}\n",
    "factors_of_b = {i for i in range(1, a+1) if b%i == 0}\n",
    "print(factors_of_a)\n",
    "print(factors_of_b)"
   ]
  },
  {
   "cell_type": "code",
   "execution_count": 31,
   "id": "c84a4b31",
   "metadata": {},
   "outputs": [
    {
     "name": "stdout",
     "output_type": "stream",
     "text": [
      "{1, 2, 3, 6}\n",
      "GCD of 12 and 18 is 6\n"
     ]
    }
   ],
   "source": [
    "a = 12\n",
    "b = 18\n",
    "factors_of_a = {i for i in range(1, a+1) if a%i == 0}\n",
    "factors_of_b = {i for i in range(1, a+1) if b%i == 0}\n",
    "cf = factors_of_a.intersection(factors_of_b)\n",
    "print(cf)\n",
    "gcd = max(cf)\n",
    "print(f'GCD of {a} and {b} is {gcd}')"
   ]
  },
  {
   "cell_type": "markdown",
   "id": "b01f4434",
   "metadata": {},
   "source": [
    "# set1.difference(set2)"
   ]
  },
  {
   "cell_type": "code",
   "execution_count": 35,
   "id": "eb85ab10",
   "metadata": {},
   "outputs": [
    {
     "name": "stdout",
     "output_type": "stream",
     "text": [
      "{10}\n",
      "{40}\n"
     ]
    }
   ],
   "source": [
    "s1 = {10,20,30}\n",
    "s2 = {20,30,40}\n",
    "s3 = s1.difference(s2)\n",
    "s4 = s2.difference(s1)\n",
    "print(s3)\n",
    "print(s4)"
   ]
  },
  {
   "cell_type": "markdown",
   "id": "fa6c850a",
   "metadata": {},
   "source": [
    "# set1.symmetric_difference(set2)\n"
   ]
  },
  {
   "cell_type": "code",
   "execution_count": 40,
   "id": "2b414e14",
   "metadata": {},
   "outputs": [
    {
     "name": "stdout",
     "output_type": "stream",
     "text": [
      "{40, 10}\n",
      "{40, 10}\n"
     ]
    }
   ],
   "source": [
    "s1 = {10,20,30}\n",
    "s2 = {20,30,40}\n",
    "s3 = s1.symmetric_difference(s2)\n",
    "print(s3)\n",
    "print((s1.union(s2)).difference(s1.intersection(s2)))"
   ]
  },
  {
   "cell_type": "code",
   "execution_count": 41,
   "id": "d22c2a8b",
   "metadata": {},
   "outputs": [
    {
     "name": "stdout",
     "output_type": "stream",
     "text": [
      "{40, 10}\n",
      "{40, 10}\n"
     ]
    }
   ],
   "source": [
    "s1 = {10,20,30}\n",
    "s2 = {20,30,40}\n",
    "s3 = s1.symmetric_difference(s2)\n",
    "s4 = s2.symmetric_difference(s1)\n",
    "print(s3)\n",
    "print(s4)"
   ]
  },
  {
   "cell_type": "code",
   "execution_count": 42,
   "id": "b7f4e9ca",
   "metadata": {},
   "outputs": [
    {
     "name": "stdout",
     "output_type": "stream",
     "text": [
      "10 20 30 40\n",
      "{40, 10, 20, 30}\n"
     ]
    }
   ],
   "source": [
    "s = set(map(int,input().split()))\n",
    "print(s)"
   ]
  },
  {
   "cell_type": "code",
   "execution_count": 43,
   "id": "cecf7a9b",
   "metadata": {},
   "outputs": [
    {
     "name": "stdout",
     "output_type": "stream",
     "text": [
      "{20, 40, 10, 30}\n",
      "{40, 20, 30}\n"
     ]
    }
   ],
   "source": [
    "s1 = {10,20,30}\n",
    "s2 = {20,30,40}\n",
    "s3 = s1.union(s2) # s1 will be update with s1.union\n",
    "print(s3)\n",
    "print(s2)"
   ]
  },
  {
   "cell_type": "code",
   "execution_count": 46,
   "id": "c61c862f",
   "metadata": {},
   "outputs": [
    {
     "name": "stdout",
     "output_type": "stream",
     "text": [
      "{20, 30}\n",
      "{40, 20, 30}\n"
     ]
    }
   ],
   "source": [
    "s1 = {10,20,30}\n",
    "s2 = {20,30,40}\n",
    "s1.update(s2) \n",
    "# s1 will be update with s1.union\n",
    "# intersection_update()\n",
    "# difference_update()\n",
    "# symmetric_diffference_update()\n",
    "print(s1)\n",
    "print(s2)"
   ]
  },
  {
   "cell_type": "code",
   "execution_count": 47,
   "id": "cf0b7a4e",
   "metadata": {},
   "outputs": [
    {
     "name": "stdout",
     "output_type": "stream",
     "text": [
      "{20, 30}\n",
      "{40, 20, 30}\n"
     ]
    }
   ],
   "source": [
    "s1 = {10,20,30}\n",
    "s2 = {20,30,40}\n",
    "s1.intersection_update(s2) # s1 will be update with s1.union\n",
    "print(s1)\n",
    "print(s2)"
   ]
  },
  {
   "cell_type": "code",
   "execution_count": 49,
   "id": "0d3499d9",
   "metadata": {},
   "outputs": [
    {
     "name": "stdout",
     "output_type": "stream",
     "text": [
      "{10}\n",
      "{40, 20, 30}\n"
     ]
    }
   ],
   "source": [
    "s1 = {10,20,30}\n",
    "s2 = {20,30,40}\n",
    "s1.difference_update(s2) # s1 will be update with s1.union\n",
    "print(s1)\n",
    "print(s2)"
   ]
  },
  {
   "cell_type": "code",
   "execution_count": 53,
   "id": "4a6b1736",
   "metadata": {},
   "outputs": [
    {
     "ename": "AttributeError",
     "evalue": "'set' object has no attribute 'symmetric_diffference_update'",
     "output_type": "error",
     "traceback": [
      "\u001b[1;31m---------------------------------------------------------------------------\u001b[0m",
      "\u001b[1;31mAttributeError\u001b[0m                            Traceback (most recent call last)",
      "Input \u001b[1;32mIn [53]\u001b[0m, in \u001b[0;36m<cell line: 3>\u001b[1;34m()\u001b[0m\n\u001b[0;32m      1\u001b[0m s1 \u001b[38;5;241m=\u001b[39m {\u001b[38;5;241m10\u001b[39m,\u001b[38;5;241m20\u001b[39m,\u001b[38;5;241m30\u001b[39m}\n\u001b[0;32m      2\u001b[0m s2 \u001b[38;5;241m=\u001b[39m {\u001b[38;5;241m20\u001b[39m,\u001b[38;5;241m30\u001b[39m,\u001b[38;5;241m40\u001b[39m}\n\u001b[1;32m----> 3\u001b[0m s3 \u001b[38;5;241m=\u001b[39m \u001b[43ms1\u001b[49m\u001b[38;5;241;43m.\u001b[39;49m\u001b[43msymmetric_diffference_update\u001b[49m(s2) \u001b[38;5;66;03m# s1 will be update with s1.union\u001b[39;00m\n\u001b[0;32m      4\u001b[0m \u001b[38;5;28mprint\u001b[39m(s1)\n\u001b[0;32m      5\u001b[0m \u001b[38;5;28mprint\u001b[39m(s3)\n",
      "\u001b[1;31mAttributeError\u001b[0m: 'set' object has no attribute 'symmetric_diffference_update'"
     ]
    }
   ],
   "source": [
    "s1 = {10,20,30}\n",
    "s2 = {20,30,40}\n",
    "s3 = s1.symmetric_diffference_update(s2) # s1 will be update with s1.union\n",
    "print(s1)\n",
    "print(s3)"
   ]
  },
  {
   "cell_type": "code",
   "execution_count": 52,
   "id": "0e65822d",
   "metadata": {},
   "outputs": [
    {
     "name": "stdout",
     "output_type": "stream",
     "text": [
      "True\n",
      "False\n"
     ]
    }
   ],
   "source": [
    "a = {10,20}\n",
    "b = {10,20,30,40}\n",
    "# a is s subset of b\n",
    "print(a.issubset(b))\n",
    "print(b.issubset(a))\n",
    "# b  is s superset of a"
   ]
  },
  {
   "cell_type": "code",
   "execution_count": 54,
   "id": "e77054b5",
   "metadata": {},
   "outputs": [
    {
     "name": "stdout",
     "output_type": "stream",
     "text": [
      "False\n",
      "True\n"
     ]
    }
   ],
   "source": [
    "a = {10,20}\n",
    "b = {10,20,30,40}\n",
    "# a is s subset of b\n",
    "print(a.issuperset(b))\n",
    "print(b.issuperset(a))\n",
    "# b  is s superset of a"
   ]
  },
  {
   "cell_type": "code",
   "execution_count": 55,
   "id": "be36b068",
   "metadata": {},
   "outputs": [
    {
     "name": "stdout",
     "output_type": "stream",
     "text": [
      "True\n",
      "False\n"
     ]
    }
   ],
   "source": [
    "a = {10,20,30,40,50,60}\n",
    "b = {10,20,30,40}\n",
    "# a is s subset of b\n",
    "print(a.issuperset(b))\n",
    "print(b.issuperset(a))\n",
    "# b  is s superset of a"
   ]
  },
  {
   "cell_type": "code",
   "execution_count": 57,
   "id": "eb4fe891",
   "metadata": {},
   "outputs": [
    {
     "name": "stdout",
     "output_type": "stream",
     "text": [
      "True\n",
      "True\n"
     ]
    }
   ],
   "source": [
    "a = {10,20,30}\n",
    "b = {40,50,60}\n",
    "print(a.isdisjoint(b))\n",
    "print(b.isdisjoint(a))"
   ]
  },
  {
   "cell_type": "code",
   "execution_count": 59,
   "id": "5f3df1a9",
   "metadata": {},
   "outputs": [
    {
     "name": "stdout",
     "output_type": "stream",
     "text": [
      "False\n",
      "False\n"
     ]
    }
   ],
   "source": [
    "a = {10,20,30}\n",
    "b = {40,50,60,30}\n",
    "print(a.isdisjoint(b))\n",
    "print(b.isdisjoint(a))"
   ]
  },
  {
   "cell_type": "code",
   "execution_count": 60,
   "id": "87c7d2e2",
   "metadata": {},
   "outputs": [
    {
     "name": "stdout",
     "output_type": "stream",
     "text": [
      "[10, 20, 30, 40]\n",
      "[10, 20, 30, 40]\n"
     ]
    }
   ],
   "source": [
    "a = [10,20,30]\n",
    "b = a\n",
    "a.append(40)\n",
    "print(a)\n",
    "print(b)"
   ]
  },
  {
   "cell_type": "code",
   "execution_count": 61,
   "id": "c8627784",
   "metadata": {},
   "outputs": [
    {
     "ename": "KeyError",
     "evalue": "40",
     "output_type": "error",
     "traceback": [
      "\u001b[1;31m---------------------------------------------------------------------------\u001b[0m",
      "\u001b[1;31mKeyError\u001b[0m                                  Traceback (most recent call last)",
      "Input \u001b[1;32mIn [61]\u001b[0m, in \u001b[0;36m<cell line: 3>\u001b[1;34m()\u001b[0m\n\u001b[0;32m      1\u001b[0m s \u001b[38;5;241m=\u001b[39m {\u001b[38;5;241m10\u001b[39m,\u001b[38;5;241m20\u001b[39m,\u001b[38;5;241m30\u001b[39m}\n\u001b[0;32m      2\u001b[0m s1 \u001b[38;5;241m=\u001b[39m s\u001b[38;5;241m.\u001b[39mcopy()\n\u001b[1;32m----> 3\u001b[0m \u001b[43ms\u001b[49m\u001b[38;5;241;43m.\u001b[39;49m\u001b[43mremove\u001b[49m\u001b[43m(\u001b[49m\u001b[38;5;241;43m40\u001b[39;49m\u001b[43m)\u001b[49m\n\u001b[0;32m      4\u001b[0m \u001b[38;5;28mprint\u001b[39m(s)\n\u001b[0;32m      5\u001b[0m \u001b[38;5;28mprint\u001b[39m(s1)\n",
      "\u001b[1;31mKeyError\u001b[0m: 40"
     ]
    }
   ],
   "source": [
    "s = {10,20,30}\n",
    "s1 = s.copy()\n",
    "s.remove(40)\n",
    "print(s)\n",
    "print(s1)"
   ]
  },
  {
   "cell_type": "code",
   "execution_count": null,
   "id": "eb71468f",
   "metadata": {},
   "outputs": [],
   "source": []
  },
  {
   "cell_type": "code",
   "execution_count": null,
   "id": "3433d6be",
   "metadata": {},
   "outputs": [],
   "source": []
  },
  {
   "cell_type": "code",
   "execution_count": null,
   "id": "a099884c",
   "metadata": {},
   "outputs": [],
   "source": []
  },
  {
   "cell_type": "code",
   "execution_count": null,
   "id": "080e0dfd",
   "metadata": {},
   "outputs": [],
   "source": []
  },
  {
   "cell_type": "code",
   "execution_count": null,
   "id": "f7827bf0",
   "metadata": {},
   "outputs": [],
   "source": []
  },
  {
   "cell_type": "code",
   "execution_count": null,
   "id": "525dbe9e",
   "metadata": {},
   "outputs": [],
   "source": []
  },
  {
   "cell_type": "code",
   "execution_count": null,
   "id": "99586300",
   "metadata": {},
   "outputs": [],
   "source": []
  },
  {
   "cell_type": "code",
   "execution_count": null,
   "id": "f365a1d6",
   "metadata": {},
   "outputs": [],
   "source": []
  },
  {
   "cell_type": "code",
   "execution_count": null,
   "id": "ac8dfacc",
   "metadata": {},
   "outputs": [],
   "source": []
  },
  {
   "cell_type": "code",
   "execution_count": null,
   "id": "85c52629",
   "metadata": {},
   "outputs": [],
   "source": []
  },
  {
   "cell_type": "code",
   "execution_count": null,
   "id": "b7c63776",
   "metadata": {},
   "outputs": [],
   "source": []
  }
 ],
 "metadata": {
  "kernelspec": {
   "display_name": "Python 3 (ipykernel)",
   "language": "python",
   "name": "python3"
  },
  "language_info": {
   "codemirror_mode": {
    "name": "ipython",
    "version": 3
   },
   "file_extension": ".py",
   "mimetype": "text/x-python",
   "name": "python",
   "nbconvert_exporter": "python",
   "pygments_lexer": "ipython3",
   "version": "3.9.12"
  }
 },
 "nbformat": 4,
 "nbformat_minor": 5
}
