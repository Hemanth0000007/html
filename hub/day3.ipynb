{
 "cells": [
  {
   "cell_type": "code",
   "execution_count": 7,
   "id": "50cc1322",
   "metadata": {},
   "outputs": [
    {
     "name": "stdout",
     "output_type": "stream",
     "text": [
      "c --> 4\n",
      "a --> 2\n",
      "b --> 4\n",
      "d --> 1\n",
      "x --> 2\n",
      "z --> 2\n"
     ]
    }
   ],
   "source": [
    "string = 'abbzxccbbdccxza'\n",
    "for i in s:\n",
    "    print(f'{i} --> {string.count(i)}')"
   ]
  },
  {
   "cell_type": "code",
   "execution_count": 6,
   "id": "0e234c7f",
   "metadata": {},
   "outputs": [
    {
     "name": "stdout",
     "output_type": "stream",
     "text": [
      "c --> 4\n",
      "a --> 2\n",
      "b --> 4\n",
      "d --> 1\n",
      "x --> 2\n",
      "z --> 2\n"
     ]
    }
   ],
   "source": [
    "string = 'abbzxccbbdccxza'\n",
    "s = set(string)\n",
    "for i in s:\n",
    "    print(f'{i} --> {string.count(i)}')"
   ]
  },
  {
   "cell_type": "code",
   "execution_count": null,
   "id": "98a10fe9",
   "metadata": {},
   "outputs": [],
   "source": [
    "for i in range (97,123):\n",
    "    print(char(i) -->)"
   ]
  },
  {
   "cell_type": "code",
   "execution_count": 8,
   "id": "85c14dd8",
   "metadata": {},
   "outputs": [
    {
     "name": "stdout",
     "output_type": "stream",
     "text": [
      "97\n",
      "97\n",
      "97\n",
      "98\n",
      "98\n",
      "98\n",
      "99\n",
      "99\n",
      "99\n",
      "100\n",
      "100\n",
      "97\n",
      "97\n",
      "98\n",
      "98\n",
      "99\n",
      "99\n"
     ]
    }
   ],
   "source": [
    "arr = [0,0,0,0]\n",
    "s = 'aaabbbcccddaabbcc'\n",
    "for i in s:\n",
    "    print(ord(i))"
   ]
  },
  {
   "cell_type": "code",
   "execution_count": 9,
   "id": "e0434143",
   "metadata": {},
   "outputs": [
    {
     "name": "stdout",
     "output_type": "stream",
     "text": [
      "[1, 0, 0, 0]\n",
      "97\n",
      "[2, 0, 0, 0]\n",
      "97\n",
      "[3, 0, 0, 0]\n",
      "97\n",
      "[3, 1, 0, 0]\n",
      "98\n",
      "[3, 2, 0, 0]\n",
      "98\n",
      "[3, 3, 0, 0]\n",
      "98\n",
      "[3, 3, 1, 0]\n",
      "99\n",
      "[3, 3, 2, 0]\n",
      "99\n",
      "[3, 3, 3, 0]\n",
      "99\n",
      "[3, 3, 3, 1]\n",
      "100\n",
      "[3, 3, 3, 2]\n",
      "100\n",
      "[4, 3, 3, 2]\n",
      "97\n",
      "[5, 3, 3, 2]\n",
      "97\n",
      "[5, 4, 3, 2]\n",
      "98\n",
      "[5, 5, 3, 2]\n",
      "98\n",
      "[5, 5, 4, 2]\n",
      "99\n",
      "[5, 5, 5, 2]\n",
      "99\n"
     ]
    }
   ],
   "source": [
    "arr = [0,0,0,0]\n",
    "s = 'aaabbbcccddaabbcc'\n",
    "for i in s: # i = a\n",
    "    arr[ord(i) - 97] += 1 # arr[0] +=1\n",
    "    print(arr)\n",
    "    print(ord(i))"
   ]
  },
  {
   "cell_type": "code",
   "execution_count": 10,
   "id": "398b7ada",
   "metadata": {},
   "outputs": [
    {
     "name": "stdout",
     "output_type": "stream",
     "text": [
      "[1, 0, 0, 0, 0, 0, 0, 0, 0, 0, 0, 0, 0, 0, 0, 0, 0, 0, 0, 0, 0, 0, 0, 0, 0, 0]\n",
      "97\n",
      "[2, 0, 0, 0, 0, 0, 0, 0, 0, 0, 0, 0, 0, 0, 0, 0, 0, 0, 0, 0, 0, 0, 0, 0, 0, 0]\n",
      "97\n",
      "[3, 0, 0, 0, 0, 0, 0, 0, 0, 0, 0, 0, 0, 0, 0, 0, 0, 0, 0, 0, 0, 0, 0, 0, 0, 0]\n",
      "97\n",
      "[3, 1, 0, 0, 0, 0, 0, 0, 0, 0, 0, 0, 0, 0, 0, 0, 0, 0, 0, 0, 0, 0, 0, 0, 0, 0]\n",
      "98\n",
      "[3, 2, 0, 0, 0, 0, 0, 0, 0, 0, 0, 0, 0, 0, 0, 0, 0, 0, 0, 0, 0, 0, 0, 0, 0, 0]\n",
      "98\n",
      "[3, 3, 0, 0, 0, 0, 0, 0, 0, 0, 0, 0, 0, 0, 0, 0, 0, 0, 0, 0, 0, 0, 0, 0, 0, 0]\n",
      "98\n",
      "[3, 3, 1, 0, 0, 0, 0, 0, 0, 0, 0, 0, 0, 0, 0, 0, 0, 0, 0, 0, 0, 0, 0, 0, 0, 0]\n",
      "99\n",
      "[3, 3, 2, 0, 0, 0, 0, 0, 0, 0, 0, 0, 0, 0, 0, 0, 0, 0, 0, 0, 0, 0, 0, 0, 0, 0]\n",
      "99\n",
      "[3, 3, 3, 0, 0, 0, 0, 0, 0, 0, 0, 0, 0, 0, 0, 0, 0, 0, 0, 0, 0, 0, 0, 0, 0, 0]\n",
      "99\n",
      "[3, 3, 3, 1, 0, 0, 0, 0, 0, 0, 0, 0, 0, 0, 0, 0, 0, 0, 0, 0, 0, 0, 0, 0, 0, 0]\n",
      "100\n",
      "[3, 3, 3, 2, 0, 0, 0, 0, 0, 0, 0, 0, 0, 0, 0, 0, 0, 0, 0, 0, 0, 0, 0, 0, 0, 0]\n",
      "100\n",
      "[4, 3, 3, 2, 0, 0, 0, 0, 0, 0, 0, 0, 0, 0, 0, 0, 0, 0, 0, 0, 0, 0, 0, 0, 0, 0]\n",
      "97\n",
      "[5, 3, 3, 2, 0, 0, 0, 0, 0, 0, 0, 0, 0, 0, 0, 0, 0, 0, 0, 0, 0, 0, 0, 0, 0, 0]\n",
      "97\n",
      "[5, 4, 3, 2, 0, 0, 0, 0, 0, 0, 0, 0, 0, 0, 0, 0, 0, 0, 0, 0, 0, 0, 0, 0, 0, 0]\n",
      "98\n",
      "[5, 5, 3, 2, 0, 0, 0, 0, 0, 0, 0, 0, 0, 0, 0, 0, 0, 0, 0, 0, 0, 0, 0, 0, 0, 0]\n",
      "98\n",
      "[5, 5, 4, 2, 0, 0, 0, 0, 0, 0, 0, 0, 0, 0, 0, 0, 0, 0, 0, 0, 0, 0, 0, 0, 0, 0]\n",
      "99\n",
      "[5, 5, 5, 2, 0, 0, 0, 0, 0, 0, 0, 0, 0, 0, 0, 0, 0, 0, 0, 0, 0, 0, 0, 0, 0, 0]\n",
      "99\n"
     ]
    }
   ],
   "source": [
    "# frequency arrays\n",
    "arr = [0] * 26\n",
    "s = 'aaabbbcccddaabbcc'\n",
    "for i in s: # i = a\n",
    "    arr[ord(i) - 97] += 1 # arr[0] +=1\n",
    "    print(arr)\n",
    "    print(ord(i))"
   ]
  },
  {
   "cell_type": "code",
   "execution_count": null,
   "id": "838c8060",
   "metadata": {},
   "outputs": [],
   "source": [
    "# anagrams\n",
    "slient\n",
    "listen\n",
    "\n",
    "\n",
    "bowling\n",
    "blowing\n",
    "\n",
    "\n",
    " "
   ]
  },
  {
   "cell_type": "code",
   "execution_count": 12,
   "id": "b375645a",
   "metadata": {},
   "outputs": [
    {
     "name": "stdout",
     "output_type": "stream",
     "text": [
      "aaab\n",
      "aaab\n",
      "not anagrams\n"
     ]
    }
   ],
   "source": [
    "arr = [0] * 26\n",
    "brr = [0] * 26\n",
    "s = input()\n",
    "t = input()\n",
    "for i in s: # i = a\n",
    "    arr[ord(i) - 97] += 1 # arr[0] +=1\n",
    "for i in t: # i = a\n",
    "    arr[ord(i) - 97] += 1\n",
    "if arr == brr:\n",
    "    print('anagrams')\n",
    "else:\n",
    "    print('not anagrams')"
   ]
  },
  {
   "cell_type": "code",
   "execution_count": 16,
   "id": "51ecfd54",
   "metadata": {},
   "outputs": [
    {
     "name": "stdout",
     "output_type": "stream",
     "text": [
      "god\n",
      "dog\n",
      "anagrams\n"
     ]
    }
   ],
   "source": [
    "def get_freq_array(s):\n",
    "    arr = [0] * 26\n",
    "    for i in s: # i = a\n",
    "        arr[ord(i) - 97] += 1 # arr[0] +=1\n",
    "    return arr\n",
    "s1 = input()\n",
    "s2 = input()\n",
    "f1 = get_freq_array(s1)\n",
    "f2 = get_freq_array(s2)\n",
    "if f1 == f2:\n",
    "      print('anagrams')\n",
    "else:\n",
    "    print('not anagrams')"
   ]
  },
  {
   "cell_type": "code",
   "execution_count": 18,
   "id": "c21de225",
   "metadata": {},
   "outputs": [
    {
     "name": "stdout",
     "output_type": "stream",
     "text": [
      "[0, 0, 0, 0, 0, 0, 0, 0, 0, 0]\n"
     ]
    }
   ],
   "source": [
    "lst = [2,7,2,7]\n",
    "arr = [0] * 10\n",
    "print(arr)"
   ]
  },
  {
   "cell_type": "code",
   "execution_count": 19,
   "id": "d3877517",
   "metadata": {},
   "outputs": [
    {
     "name": "stdout",
     "output_type": "stream",
     "text": [
      "[0, 0, 2, 0, 0, 0, 0, 2, 0, 0]\n"
     ]
    }
   ],
   "source": [
    "lst = [2,7,2,7]\n",
    "arr = [0] * 10\n",
    "for i in lst:\n",
    "    arr[i] += 1\n",
    "print(arr)"
   ]
  },
  {
   "cell_type": "markdown",
   "id": "4b4676c8",
   "metadata": {},
   "source": [
    "# dictionaries\n",
    "- pair wise data\n",
    "- word : definition (str:str)\n",
    "- person : age (str : int)\n",
    "- student :rollnumber (str:str)\n",
    "- batsment : no.of centuries ("
   ]
  },
  {
   "cell_type": "code",
   "execution_count": 20,
   "id": "85a954ff",
   "metadata": {},
   "outputs": [
    {
     "name": "stdout",
     "output_type": "stream",
     "text": [
      "gabbarsingh\n",
      "khaidi\n"
     ]
    }
   ],
   "source": [
    "d = {'chiru' : 'khaidi',\n",
    "     'balayya': 'legend',\n",
    "    'pk' : 'gabbarsingh',\n",
    "    'ntr' : 'temper',\n",
    "    'rc' : 'nagadheera',\n",
    "    'sampu' : 'cauliflower'}\n",
    "# keys - (names of actors)\n",
    "# values - (names of bb movies)\n",
    "# d[key] = value\n",
    "print(d['pk'])\n",
    "print(d['chiru'])"
   ]
  },
  {
   "cell_type": "code",
   "execution_count": 21,
   "id": "07694c31",
   "metadata": {},
   "outputs": [
    {
     "name": "stdout",
     "output_type": "stream",
     "text": [
      "gabbarsingh\n",
      "aacharya\n"
     ]
    }
   ],
   "source": [
    "# duplicates --> not allowed\n",
    "d = {'chiru' : 'khaidi',\n",
    "     'balayya': 'legend',\n",
    "    'pk' : 'gabbarsingh',\n",
    "    'ntr' : 'temper',\n",
    "    'rc' : 'nagadheera',\n",
    "    'sampu' : 'cauliflower',\n",
    "    'chiru' : 'aacharya'}\n",
    "# keys - (names of actors)\n",
    "# values - (names of bb movies)\n",
    "# d[key] = value\n",
    "print(d['pk'])\n",
    "print(d['chiru'])"
   ]
  },
  {
   "cell_type": "code",
   "execution_count": 22,
   "id": "1e387fdb",
   "metadata": {},
   "outputs": [
    {
     "name": "stdout",
     "output_type": "stream",
     "text": [
      "{'chiru': 'khaidi', 'balayya': 'legend'}\n"
     ]
    }
   ],
   "source": [
    "# 2nd way\n",
    "d = {}\n",
    "d['chiru'] = 'khaidi'\n",
    "d['balayya'] = 'legend'\n",
    "print(d)"
   ]
  },
  {
   "cell_type": "code",
   "execution_count": 23,
   "id": "669bbb0d",
   "metadata": {},
   "outputs": [
    {
     "name": "stdout",
     "output_type": "stream",
     "text": [
      "{'chiru': 'aacharya', 'balayya': 'legend'}\n"
     ]
    }
   ],
   "source": [
    "d = {}\n",
    "d['chiru'] = 'khaidi'\n",
    "d['balayya'] = 'legend'\n",
    "d['chiru'] = 'aacharya'\n",
    "print(d)"
   ]
  },
  {
   "cell_type": "code",
   "execution_count": 24,
   "id": "dfe56a67",
   "metadata": {},
   "outputs": [
    {
     "name": "stdout",
     "output_type": "stream",
     "text": [
      "1\n",
      "chiru\n",
      "khaidi\n",
      "{'chiru': 'khaidi'}\n"
     ]
    }
   ],
   "source": [
    "# 3rd way to populate the dictionary\n",
    "d = {}\n",
    "n = int(input())\n",
    "for i in range(n):\n",
    "    key = input()\n",
    "    value = input()\n",
    "    d[key] = value\n",
    "print(d)"
   ]
  },
  {
   "cell_type": "code",
   "execution_count": 1,
   "id": "3e91c2ee",
   "metadata": {},
   "outputs": [
    {
     "ename": "TypeError",
     "evalue": "unhashable type: 'list'",
     "output_type": "error",
     "traceback": [
      "\u001b[1;31m---------------------------------------------------------------------------\u001b[0m",
      "\u001b[1;31mTypeError\u001b[0m                                 Traceback (most recent call last)",
      "Input \u001b[1;32mIn [1]\u001b[0m, in \u001b[0;36m<cell line: 2>\u001b[1;34m()\u001b[0m\n\u001b[0;32m      1\u001b[0m lst \u001b[38;5;241m=\u001b[39m [\u001b[38;5;241m10\u001b[39m,\u001b[38;5;241m20\u001b[39m,\u001b[38;5;241m30\u001b[39m]\n\u001b[1;32m----> 2\u001b[0m d \u001b[38;5;241m=\u001b[39m {lst:\u001b[38;5;28mlen\u001b[39m(lst)}\n\u001b[0;32m      3\u001b[0m \u001b[38;5;28mprint\u001b[39m(d)\n",
      "\u001b[1;31mTypeError\u001b[0m: unhashable type: 'list'"
     ]
    }
   ],
   "source": [
    "lst = [10,20,30]\n",
    "d = {lst:len(lst)}\n",
    "print(d)"
   ]
  },
  {
   "cell_type": "code",
   "execution_count": 3,
   "id": "add43bcd",
   "metadata": {},
   "outputs": [
    {
     "name": "stdout",
     "output_type": "stream",
     "text": [
      "{'sachin': 100, 'virat': 74, 'ponting': 72, 'kallis': 65}\n"
     ]
    }
   ],
   "source": [
    "# 4th way to populate the dictionary\n",
    "keys = ['sachin','virat','ponting','kallis']\n",
    "values = [100,74,72,65]\n",
    "d = {}\n",
    "d[keys[0]] = values[0]\n",
    "d[keys[1]] = values[1]\n",
    "d[keys[2]] = values[2]\n",
    "d[keys[3]] = values[3]\n",
    "print(d)"
   ]
  },
  {
   "cell_type": "code",
   "execution_count": 4,
   "id": "4ebfe47b",
   "metadata": {},
   "outputs": [
    {
     "name": "stdout",
     "output_type": "stream",
     "text": [
      "{'sachin': 100, 'virat': 74, 'ponting': 72, 'kallis': 65}\n"
     ]
    }
   ],
   "source": [
    "# 4th way to populate the dictionary\n",
    "keys = ['sachin','virat','ponting','kallis']\n",
    "values = [100,74,72,65]\n",
    "d = {}\n",
    "for i in range(len(keys)):\n",
    "    d[keys[i]] = values[i]\n",
    "print(d)"
   ]
  },
  {
   "cell_type": "code",
   "execution_count": 6,
   "id": "48920462",
   "metadata": {},
   "outputs": [
    {
     "name": "stdout",
     "output_type": "stream",
     "text": [
      "[10, 20, 30, 40, 50, 60, 70, 80, 90]\n"
     ]
    }
   ],
   "source": [
    "r = range(10,100,10)\n",
    "print(list(r))"
   ]
  },
  {
   "cell_type": "code",
   "execution_count": 9,
   "id": "968ff42d",
   "metadata": {},
   "outputs": [
    {
     "name": "stdout",
     "output_type": "stream",
     "text": [
      "['h', 'e', 'l', 'l', 'o']\n"
     ]
    }
   ],
   "source": [
    "r = 'hello'\n",
    "print(list(r))"
   ]
  },
  {
   "cell_type": "code",
   "execution_count": 7,
   "id": "2b712cc0",
   "metadata": {},
   "outputs": [
    {
     "name": "stdout",
     "output_type": "stream",
     "text": [
      "[10, 20, 30]\n"
     ]
    }
   ],
   "source": [
    "lst = [10,20,30]\n",
    "print(list(lst))"
   ]
  },
  {
   "cell_type": "code",
   "execution_count": 8,
   "id": "9ca2bebd",
   "metadata": {},
   "outputs": [
    {
     "name": "stdout",
     "output_type": "stream",
     "text": [
      "{'sachin': 100, 'virat': 74, 'ponting': 72}\n"
     ]
    }
   ],
   "source": [
    "lst = [('sachin',100),('virat',74),('ponting',72)]\n",
    "print(dict(lst))\n",
    "# dict function takes iterable of iterables"
   ]
  },
  {
   "cell_type": "code",
   "execution_count": 10,
   "id": "2d1b8ae1",
   "metadata": {},
   "outputs": [
    {
     "ename": "ValueError",
     "evalue": "dictionary update sequence element #0 has length 3; 2 is required",
     "output_type": "error",
     "traceback": [
      "\u001b[1;31m---------------------------------------------------------------------------\u001b[0m",
      "\u001b[1;31mValueError\u001b[0m                                Traceback (most recent call last)",
      "Input \u001b[1;32mIn [10]\u001b[0m, in \u001b[0;36m<cell line: 2>\u001b[1;34m()\u001b[0m\n\u001b[0;32m      1\u001b[0m lst \u001b[38;5;241m=\u001b[39m [(\u001b[38;5;124m'\u001b[39m\u001b[38;5;124msachin\u001b[39m\u001b[38;5;124m'\u001b[39m,\u001b[38;5;241m100\u001b[39m,\u001b[38;5;124m'\u001b[39m\u001b[38;5;124mind\u001b[39m\u001b[38;5;124m'\u001b[39m),(\u001b[38;5;124m'\u001b[39m\u001b[38;5;124mvirat\u001b[39m\u001b[38;5;124m'\u001b[39m,\u001b[38;5;241m74\u001b[39m,\u001b[38;5;124m'\u001b[39m\u001b[38;5;124mind\u001b[39m\u001b[38;5;124m'\u001b[39m),(\u001b[38;5;124m'\u001b[39m\u001b[38;5;124mponting\u001b[39m\u001b[38;5;124m'\u001b[39m,\u001b[38;5;241m72\u001b[39m,\u001b[38;5;124m'\u001b[39m\u001b[38;5;124maus\u001b[39m\u001b[38;5;124m'\u001b[39m)]\n\u001b[1;32m----> 2\u001b[0m \u001b[38;5;28mprint\u001b[39m(\u001b[38;5;28;43mdict\u001b[39;49m\u001b[43m(\u001b[49m\u001b[43mlst\u001b[49m\u001b[43m)\u001b[49m)\n",
      "\u001b[1;31mValueError\u001b[0m: dictionary update sequence element #0 has length 3; 2 is required"
     ]
    }
   ],
   "source": [
    "lst = [('sachin',100,'ind'),('virat',74,'ind'),('ponting',72,'aus')]\n",
    "print(dict(lst))\n",
    "# dict function takes iterable of iterables"
   ]
  },
  {
   "cell_type": "code",
   "execution_count": 12,
   "id": "de1dc1a6",
   "metadata": {},
   "outputs": [
    {
     "name": "stdout",
     "output_type": "stream",
     "text": [
      "{'sachin': (100, 'ind'), 'virat': (74, 'ind'), 'ponting': (72, 'aus')}\n"
     ]
    }
   ],
   "source": [
    "lst = [('sachin',(100,'ind')),('virat',(74,'ind')),('ponting',(72,'aus'))]\n",
    "print(dict(lst))\n",
    "# dict function takes iterable of iterables"
   ]
  },
  {
   "cell_type": "code",
   "execution_count": 13,
   "id": "7970ffc2",
   "metadata": {},
   "outputs": [
    {
     "name": "stdout",
     "output_type": "stream",
     "text": [
      "[('sachin', 100), ('virat', 74), ('ponting', 72), ('kallis', 65)]\n"
     ]
    }
   ],
   "source": [
    "keys = ['sachin','virat','ponting','kallis']\n",
    "values = [100,74,72,65]\n",
    "print(list(zip(keys , values)))"
   ]
  },
  {
   "cell_type": "code",
   "execution_count": 15,
   "id": "f220ba6b",
   "metadata": {},
   "outputs": [
    {
     "name": "stdout",
     "output_type": "stream",
     "text": [
      "{'sachin': 100, 'virat': 74, 'ponting': 72, 'kallis': 65}\n"
     ]
    }
   ],
   "source": [
    "keys = ['sachin','virat','ponting','kallis']\n",
    "values = [100,74,72,65]\n",
    "d = dict(zip(keys , values))\n",
    "print(d)"
   ]
  },
  {
   "cell_type": "code",
   "execution_count": null,
   "id": "74afe519",
   "metadata": {},
   "outputs": [],
   "source": []
  },
  {
   "cell_type": "code",
   "execution_count": null,
   "id": "fcecd758",
   "metadata": {},
   "outputs": [],
   "source": []
  },
  {
   "cell_type": "code",
   "execution_count": null,
   "id": "6abbacc3",
   "metadata": {},
   "outputs": [],
   "source": []
  },
  {
   "cell_type": "code",
   "execution_count": null,
   "id": "69a5c7b3",
   "metadata": {},
   "outputs": [],
   "source": []
  },
  {
   "cell_type": "code",
   "execution_count": null,
   "id": "38eacae2",
   "metadata": {},
   "outputs": [],
   "source": []
  }
 ],
 "metadata": {
  "kernelspec": {
   "display_name": "Python 3 (ipykernel)",
   "language": "python",
   "name": "python3"
  },
  "language_info": {
   "codemirror_mode": {
    "name": "ipython",
    "version": 3
   },
   "file_extension": ".py",
   "mimetype": "text/x-python",
   "name": "python",
   "nbconvert_exporter": "python",
   "pygments_lexer": "ipython3",
   "version": "3.9.12"
  },
  "widgets": {
   "application/vnd.jupyter.widget-state+json": {
    "state": {},
    "version_major": 2,
    "version_minor": 0
   }
  }
 },
 "nbformat": 4,
 "nbformat_minor": 5
}
