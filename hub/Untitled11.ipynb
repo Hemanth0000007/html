{
 "cells": [
  {
   "cell_type": "code",
   "execution_count": 3,
   "id": "02f50f47",
   "metadata": {},
   "outputs": [
    {
     "name": "stdout",
     "output_type": "stream",
     "text": [
      "3 3\n",
      "10 20 30\n",
      "40 50 60 \n",
      "70 80 90\n",
      "[[10, 20, 30], [40, 50, 60], [70, 80, 90]]\n"
     ]
    }
   ],
   "source": [
    "r,c= map(int,input().split())\n",
    "mat=[]\n",
    "for i in range(r):\n",
    "    inner_list=list(map(int,input().split()))\n",
    "    mat.append(inner_list)\n",
    "print(mat)"
   ]
  },
  {
   "cell_type": "code",
   "execution_count": 8,
   "id": "37c98d42",
   "metadata": {},
   "outputs": [
    {
     "name": "stdout",
     "output_type": "stream",
     "text": [
      "3 3\n",
      "10 20 30 \n",
      "40 50 60\n",
      "70 80 90 \n",
      "[[10, 20, 30], [40, 50, 60], [70, 80, 90]]\n",
      "10 20 30 \n",
      "40 50 60 \n",
      "70 80 90 \n"
     ]
    }
   ],
   "source": [
    "r,c= map(int,input().split())\n",
    "mat=[]\n",
    "for i in range(r):\n",
    "    inner_list=list(map(int,input().split()))\n",
    "    mat.append(inner_list)\n",
    "print(mat)\n",
    "#accessing indices\n",
    "for i in range(r):\n",
    "    for j in range(c):\n",
    "        print(mat[i][j],end=' ')\n",
    "    print()\n",
    "    "
   ]
  },
  {
   "cell_type": "code",
   "execution_count": null,
   "id": "e369f373",
   "metadata": {},
   "outputs": [],
   "source": [
    "string = '''.....#..\n",
    "#...#...\n",
    ".#.#....\n",
    "..#.....\n",
    ".#.#....\n",
    "#...#...\n",
    ".....#..\n",
    "......#.'''\n",
    "mat = string.split('\\n')\n",
    "print(mat)\n",
    "for i in range(1,7):\n",
    "    for j in range(1,7):\n",
    "        if mat[i][j] == '#':\n",
    "            "
   ]
  },
  {
   "cell_type": "code",
   "execution_count": null,
   "id": "c5bffd09",
   "metadata": {},
   "outputs": [],
   "source": []
  },
  {
   "cell_type": "code",
   "execution_count": null,
   "id": "cb7e844f",
   "metadata": {},
   "outputs": [],
   "source": []
  },
  {
   "cell_type": "code",
   "execution_count": null,
   "id": "865d13de",
   "metadata": {},
   "outputs": [],
   "source": []
  },
  {
   "cell_type": "code",
   "execution_count": null,
   "id": "05f08ec3",
   "metadata": {},
   "outputs": [],
   "source": []
  },
  {
   "cell_type": "code",
   "execution_count": null,
   "id": "baabeb03",
   "metadata": {},
   "outputs": [],
   "source": []
  },
  {
   "cell_type": "code",
   "execution_count": null,
   "id": "85e79efa",
   "metadata": {},
   "outputs": [],
   "source": []
  },
  {
   "cell_type": "code",
   "execution_count": null,
   "id": "459ce813",
   "metadata": {},
   "outputs": [],
   "source": []
  },
  {
   "cell_type": "code",
   "execution_count": null,
   "id": "821c6812",
   "metadata": {},
   "outputs": [],
   "source": []
  },
  {
   "cell_type": "code",
   "execution_count": null,
   "id": "26f8cb58",
   "metadata": {},
   "outputs": [],
   "source": []
  },
  {
   "cell_type": "code",
   "execution_count": null,
   "id": "ef292e12",
   "metadata": {},
   "outputs": [],
   "source": []
  },
  {
   "cell_type": "code",
   "execution_count": null,
   "id": "27a08b33",
   "metadata": {},
   "outputs": [],
   "source": []
  },
  {
   "cell_type": "code",
   "execution_count": null,
   "id": "ee30bf01",
   "metadata": {},
   "outputs": [],
   "source": []
  },
  {
   "cell_type": "code",
   "execution_count": null,
   "id": "0e9197d5",
   "metadata": {},
   "outputs": [],
   "source": []
  },
  {
   "cell_type": "code",
   "execution_count": null,
   "id": "89f2d5f0",
   "metadata": {},
   "outputs": [],
   "source": []
  },
  {
   "cell_type": "code",
   "execution_count": null,
   "id": "125aca00",
   "metadata": {},
   "outputs": [],
   "source": []
  }
 ],
 "metadata": {
  "kernelspec": {
   "display_name": "Python 3 (ipykernel)",
   "language": "python",
   "name": "python3"
  },
  "language_info": {
   "codemirror_mode": {
    "name": "ipython",
    "version": 3
   },
   "file_extension": ".py",
   "mimetype": "text/x-python",
   "name": "python",
   "nbconvert_exporter": "python",
   "pygments_lexer": "ipython3",
   "version": "3.9.12"
  }
 },
 "nbformat": 4,
 "nbformat_minor": 5
}
