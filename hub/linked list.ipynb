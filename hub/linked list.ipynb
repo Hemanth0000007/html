{
 "cells": [
  {
   "cell_type": "code",
   "execution_count": 3,
   "id": "66fe23fd",
   "metadata": {},
   "outputs": [
    {
     "name": "stdout",
     "output_type": "stream",
     "text": [
      "30\n",
      "20\n",
      "10\n",
      "40\n",
      "50\n"
     ]
    }
   ],
   "source": [
    "class node:\n",
    "    def __init__(self,val):\n",
    "        self.data = val\n",
    "        self.prev = None\n",
    "        self.next = None\n",
    "# creating nodes\n",
    "n1 = node(10)\n",
    "n2 = node(20)\n",
    "n3 = node(30)\n",
    "n4 = node(40)\n",
    "n5 = node(50)\n",
    "#connections (next node)\n",
    "n1.next = n2\n",
    "n2.next = n3\n",
    "n3.next = n4\n",
    "n4.next = n5\n",
    "# connection (prev node)\n",
    "n2.prev = n1\n",
    "n3.prev = n2\n",
    "n4.prev = n3\n",
    "n5.prev = n4\n",
    "print(n3.data)\n",
    "print(n3.prev.data)\n",
    "print(n3.prev.prev.data)\n",
    "print(n3.next.data)\n",
    "print(n3.next.next.data)"
   ]
  },
  {
   "cell_type": "code",
   "execution_count": 13,
   "id": "6c4cb8e3",
   "metadata": {},
   "outputs": [
    {
     "name": "stdout",
     "output_type": "stream",
     "text": [
      "Enter\n",
      "1.Inser_at_Head\n",
      "2. Insert_at_tail\n",
      "3. Delete_at_head\n",
      "4. Delete_at_tail\n",
      "5.Display1\n",
      "Enter a value to be inserted:2\n"
     ]
    },
    {
     "ename": "TypeError",
     "evalue": "insert_at_head() missing 1 required positional argument: 'nn'",
     "output_type": "error",
     "traceback": [
      "\u001b[1;31m---------------------------------------------------------------------------\u001b[0m",
      "\u001b[1;31mTypeError\u001b[0m                                 Traceback (most recent call last)",
      "Input \u001b[1;32mIn [13]\u001b[0m, in \u001b[0;36m<cell line: 41>\u001b[1;34m()\u001b[0m\n\u001b[0;32m     43\u001b[0m     val \u001b[38;5;241m=\u001b[39m \u001b[38;5;28mint\u001b[39m(\u001b[38;5;28minput\u001b[39m(\u001b[38;5;124m\"\u001b[39m\u001b[38;5;124mEnter a value to be inserted:\u001b[39m\u001b[38;5;124m\"\u001b[39m))\n\u001b[0;32m     44\u001b[0m     nn \u001b[38;5;241m=\u001b[39m node(val)\n\u001b[1;32m---> 45\u001b[0m     \u001b[43minsert_at_head\u001b[49m\u001b[43m(\u001b[49m\u001b[43m)\u001b[49m\n\u001b[0;32m     46\u001b[0m     \u001b[38;5;28;01mpass\u001b[39;00m\n\u001b[0;32m     47\u001b[0m \u001b[38;5;28;01melif\u001b[39;00m ch \u001b[38;5;241m==\u001b[39m\u001b[38;5;241m2\u001b[39m:\n",
      "\u001b[1;31mTypeError\u001b[0m: insert_at_head() missing 1 required positional argument: 'nn'"
     ]
    }
   ],
   "source": [
    "class node:\n",
    "    def __init__(self,val):\n",
    "        self.data = val\n",
    "        self.prev = None\n",
    "        self.next = None\n",
    "head = None\n",
    "tail = None\n",
    "def insert_at_head(nn):\n",
    "    global head\n",
    "    global tail\n",
    "    if head == None and tail == None :\n",
    "        head = nn\n",
    "        tail = nn\n",
    "    else:\n",
    "        nn.next = head\n",
    "        \n",
    "        head.prev = nn \n",
    "        head = nn\n",
    "\n",
    "def display_from_head():\n",
    "    if head == None and tail == None:\n",
    "        print(\"No Nodes\")\n",
    "        return\n",
    "    temp = head\n",
    "    while temp != None:\n",
    "        print(temp.data, end = ' ')\n",
    "        temp = temp.next\n",
    "    print()\n",
    "def display_from_tail():\n",
    "    if head == None and tail == None:\n",
    "        print(\"No Nodes\")\n",
    "        return\n",
    "    temp = tail\n",
    "    while temp != None:\n",
    "        print(temp.data, end = ' ')\n",
    "        temp = temp.prev\n",
    "    print()\n",
    "    \n",
    "    \n",
    "while 1:\n",
    "    ch=int(input('Enter\\n1.Inser_at_Head\\n2. Insert_at_tail\\n3. Delete_at_head\\n4. Delete_at_tail\\n5.Display'))\n",
    "    if ch == 1:\n",
    "        val = int(input(\"Enter a value to be inserted:\"))\n",
    "        nn = node(val)\n",
    "        insert_at_head()\n",
    "        pass\n",
    "    elif ch ==2:\n",
    "        nn = node(val)\n",
    "        insert_at_tail()\n",
    "    elif ch == 3:\n",
    "        display_from_head()\n",
    "    elif ch ==4:\n",
    "        display_from_tail()\n",
    "    else:\n",
    "        break"
   ]
  },
  {
   "cell_type": "code",
   "execution_count": null,
   "id": "7d5afe99",
   "metadata": {},
   "outputs": [],
   "source": [
    "class node:\n",
    "    def _init_(self,val):\n",
    "        self.data=val\n",
    "        self.next=None\n",
    "head=None\n",
    "tail=None\n",
    "def insert_at_head(nn):\n",
    "    global head\n",
    "    if head==None:\n",
    "        head=nn\n",
    "    else:\n",
    "        nn.next=head\n",
    "        head=nn\n",
    "def insert_at_tail(nn):\n",
    "    global tail\n",
    "    if tail==None:\n",
    "        tail=nn\n",
    "    else:\n",
    "        nn.tail=tail\n",
    "        tail=nn\n",
    "    \n",
    "def display():\n",
    "    global head\n",
    "    if head==None:\n",
    "        print('No Nodes')\n",
    "    else:\n",
    "        temp=head\n",
    "        while temp!=None:\n",
    "            print(temp.data,end=' ')\n",
    "            temp=temp.next\n",
    "        print()\n",
    "while 1:\n",
    "    ch=int(input('Enter\\n1.Inser_at_Head\\n2. Insert_at_tail\\n3. Delete_at_head\\n4. Delete_at_tail\\n5.Display'))\n",
    "    if ch==1:\n",
    "        #insert_at_head\n",
    "        nn=node(int(input(\"Enter a value: \")))\n",
    "        insert_at_head(nn)\n",
    "    elif ch==2:\n",
    "        #insert_at_head\n",
    "        nn=node(int(input(\"Enter a value: \")))\n",
    "        insert_at_tail(nn)\n",
    "        \n",
    "    elif ch==5:\n",
    "        #display\n",
    "        display()\n",
    "    else:\n",
    "        print('Thank YOU!')\n",
    "        break"
   ]
  },
  {
   "cell_type": "code",
   "execution_count": null,
   "id": "793c5f64",
   "metadata": {},
   "outputs": [],
   "source": []
  },
  {
   "cell_type": "code",
   "execution_count": null,
   "id": "779c7acd",
   "metadata": {},
   "outputs": [],
   "source": []
  },
  {
   "cell_type": "code",
   "execution_count": null,
   "id": "7887914c",
   "metadata": {},
   "outputs": [],
   "source": []
  },
  {
   "cell_type": "code",
   "execution_count": null,
   "id": "b9fb72ec",
   "metadata": {},
   "outputs": [],
   "source": []
  },
  {
   "cell_type": "code",
   "execution_count": null,
   "id": "1ca06b65",
   "metadata": {},
   "outputs": [],
   "source": []
  },
  {
   "cell_type": "code",
   "execution_count": null,
   "id": "b5c36754",
   "metadata": {},
   "outputs": [],
   "source": []
  },
  {
   "cell_type": "code",
   "execution_count": null,
   "id": "f5e937a8",
   "metadata": {},
   "outputs": [],
   "source": []
  },
  {
   "cell_type": "code",
   "execution_count": null,
   "id": "2577a9da",
   "metadata": {},
   "outputs": [],
   "source": []
  },
  {
   "cell_type": "code",
   "execution_count": null,
   "id": "79bbd725",
   "metadata": {},
   "outputs": [],
   "source": []
  },
  {
   "cell_type": "code",
   "execution_count": null,
   "id": "6667a8e4",
   "metadata": {},
   "outputs": [],
   "source": []
  },
  {
   "cell_type": "code",
   "execution_count": null,
   "id": "afc237db",
   "metadata": {},
   "outputs": [],
   "source": []
  },
  {
   "cell_type": "code",
   "execution_count": null,
   "id": "27b96983",
   "metadata": {},
   "outputs": [],
   "source": []
  },
  {
   "cell_type": "code",
   "execution_count": null,
   "id": "c5038346",
   "metadata": {},
   "outputs": [],
   "source": []
  },
  {
   "cell_type": "code",
   "execution_count": null,
   "id": "3ba4d77a",
   "metadata": {},
   "outputs": [],
   "source": []
  },
  {
   "cell_type": "code",
   "execution_count": null,
   "id": "da6425a0",
   "metadata": {},
   "outputs": [],
   "source": []
  },
  {
   "cell_type": "code",
   "execution_count": null,
   "id": "b4e7be29",
   "metadata": {},
   "outputs": [],
   "source": []
  },
  {
   "cell_type": "code",
   "execution_count": null,
   "id": "b047824a",
   "metadata": {},
   "outputs": [],
   "source": []
  },
  {
   "cell_type": "code",
   "execution_count": null,
   "id": "f85d0cb5",
   "metadata": {},
   "outputs": [],
   "source": []
  },
  {
   "cell_type": "code",
   "execution_count": null,
   "id": "9c93251c",
   "metadata": {},
   "outputs": [],
   "source": []
  },
  {
   "cell_type": "code",
   "execution_count": null,
   "id": "c8332535",
   "metadata": {},
   "outputs": [],
   "source": []
  },
  {
   "cell_type": "code",
   "execution_count": null,
   "id": "e6bf1b2a",
   "metadata": {},
   "outputs": [],
   "source": []
  },
  {
   "cell_type": "code",
   "execution_count": null,
   "id": "c0810082",
   "metadata": {},
   "outputs": [],
   "source": []
  },
  {
   "cell_type": "code",
   "execution_count": null,
   "id": "53cf9ec7",
   "metadata": {},
   "outputs": [],
   "source": []
  },
  {
   "cell_type": "code",
   "execution_count": null,
   "id": "776df1bb",
   "metadata": {},
   "outputs": [],
   "source": []
  },
  {
   "cell_type": "code",
   "execution_count": null,
   "id": "789a9fc6",
   "metadata": {},
   "outputs": [],
   "source": []
  },
  {
   "cell_type": "code",
   "execution_count": null,
   "id": "1d1d33de",
   "metadata": {},
   "outputs": [],
   "source": []
  },
  {
   "cell_type": "code",
   "execution_count": null,
   "id": "be0b3e16",
   "metadata": {},
   "outputs": [],
   "source": []
  },
  {
   "cell_type": "code",
   "execution_count": null,
   "id": "3536ed41",
   "metadata": {},
   "outputs": [],
   "source": []
  },
  {
   "cell_type": "code",
   "execution_count": null,
   "id": "fb01ccbb",
   "metadata": {},
   "outputs": [],
   "source": []
  },
  {
   "cell_type": "code",
   "execution_count": null,
   "id": "f6286f63",
   "metadata": {},
   "outputs": [],
   "source": []
  },
  {
   "cell_type": "code",
   "execution_count": null,
   "id": "c268d62b",
   "metadata": {},
   "outputs": [],
   "source": []
  },
  {
   "cell_type": "code",
   "execution_count": null,
   "id": "2e92f745",
   "metadata": {},
   "outputs": [],
   "source": []
  },
  {
   "cell_type": "code",
   "execution_count": null,
   "id": "6602e227",
   "metadata": {},
   "outputs": [],
   "source": []
  },
  {
   "cell_type": "code",
   "execution_count": null,
   "id": "18d18d76",
   "metadata": {},
   "outputs": [],
   "source": []
  },
  {
   "cell_type": "code",
   "execution_count": null,
   "id": "6b1d0683",
   "metadata": {},
   "outputs": [],
   "source": []
  },
  {
   "cell_type": "code",
   "execution_count": null,
   "id": "81aa2920",
   "metadata": {},
   "outputs": [],
   "source": []
  },
  {
   "cell_type": "code",
   "execution_count": null,
   "id": "2eb304e4",
   "metadata": {},
   "outputs": [],
   "source": []
  },
  {
   "cell_type": "code",
   "execution_count": null,
   "id": "4836c6fb",
   "metadata": {},
   "outputs": [],
   "source": []
  },
  {
   "cell_type": "code",
   "execution_count": null,
   "id": "f3d2d29a",
   "metadata": {},
   "outputs": [],
   "source": []
  },
  {
   "cell_type": "code",
   "execution_count": null,
   "id": "6c2a0e85",
   "metadata": {},
   "outputs": [],
   "source": []
  },
  {
   "cell_type": "code",
   "execution_count": null,
   "id": "62c92ad2",
   "metadata": {},
   "outputs": [],
   "source": []
  },
  {
   "cell_type": "code",
   "execution_count": null,
   "id": "4ff38831",
   "metadata": {},
   "outputs": [],
   "source": []
  },
  {
   "cell_type": "code",
   "execution_count": null,
   "id": "c8be7782",
   "metadata": {},
   "outputs": [],
   "source": []
  },
  {
   "cell_type": "code",
   "execution_count": null,
   "id": "3badcfdc",
   "metadata": {},
   "outputs": [],
   "source": []
  },
  {
   "cell_type": "code",
   "execution_count": null,
   "id": "d0444b28",
   "metadata": {},
   "outputs": [],
   "source": []
  },
  {
   "cell_type": "code",
   "execution_count": null,
   "id": "4b18c57a",
   "metadata": {},
   "outputs": [],
   "source": []
  },
  {
   "cell_type": "code",
   "execution_count": null,
   "id": "4e372343",
   "metadata": {},
   "outputs": [],
   "source": []
  },
  {
   "cell_type": "code",
   "execution_count": null,
   "id": "0cc28f62",
   "metadata": {},
   "outputs": [],
   "source": []
  },
  {
   "cell_type": "code",
   "execution_count": null,
   "id": "974ede2a",
   "metadata": {},
   "outputs": [],
   "source": []
  },
  {
   "cell_type": "code",
   "execution_count": null,
   "id": "b72f58e1",
   "metadata": {},
   "outputs": [],
   "source": []
  },
  {
   "cell_type": "code",
   "execution_count": null,
   "id": "e87d02f9",
   "metadata": {},
   "outputs": [],
   "source": []
  },
  {
   "cell_type": "code",
   "execution_count": null,
   "id": "e27d7372",
   "metadata": {},
   "outputs": [],
   "source": []
  },
  {
   "cell_type": "code",
   "execution_count": null,
   "id": "293977a9",
   "metadata": {},
   "outputs": [],
   "source": []
  },
  {
   "cell_type": "code",
   "execution_count": null,
   "id": "4100b136",
   "metadata": {},
   "outputs": [],
   "source": []
  }
 ],
 "metadata": {
  "kernelspec": {
   "display_name": "Python 3 (ipykernel)",
   "language": "python",
   "name": "python3"
  },
  "language_info": {
   "codemirror_mode": {
    "name": "ipython",
    "version": 3
   },
   "file_extension": ".py",
   "mimetype": "text/x-python",
   "name": "python",
   "nbconvert_exporter": "python",
   "pygments_lexer": "ipython3",
   "version": "3.9.12"
  }
 },
 "nbformat": 4,
 "nbformat_minor": 5
}
