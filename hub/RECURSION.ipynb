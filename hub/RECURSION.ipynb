{
 "cells": [
  {
   "cell_type": "markdown",
   "id": "cc796482",
   "metadata": {},
   "source": [
    "# 1.RECURSION\n",
    "\n",
    "- pre-requisities to learn recursion\n",
    " - function\n",
    " - control flow of a program\n",
    "- a program calling itself is called as recursion\n",
    "- a recursion process needs two things\n",
    " - a base case\n",
    " - a recurrence relation\n",
    "- a recursion is nothing but dividing a problem into subproblems of similar type which are similer version of the problem\n",
    "- a base case is a place where dividing into subproblem is not possiable"
   ]
  },
  {
   "cell_type": "code",
   "execution_count": 3,
   "id": "8848e7b5",
   "metadata": {},
   "outputs": [
    {
     "name": "stdout",
     "output_type": "stream",
     "text": [
      "hello\n",
      "hi\n"
     ]
    }
   ],
   "source": [
    "def fun():\n",
    "    print(\"hello\")\n",
    "    print(\"hi\")\n",
    "fun()"
   ]
  },
  {
   "cell_type": "code",
   "execution_count": null,
   "id": "bce4964b",
   "metadata": {},
   "outputs": [],
   "source": [
    "def fun():\n",
    "    print('hello')\n",
    "    return\n",
    "    print('hi')\n",
    "fun()"
   ]
  },
  {
   "cell_type": "code",
   "execution_count": 4,
   "id": "29ad1645",
   "metadata": {},
   "outputs": [
    {
     "data": {
      "text/plain": [
       "10"
      ]
     },
     "execution_count": 4,
     "metadata": {},
     "output_type": "execute_result"
    }
   ],
   "source": [
    "def fun():\n",
    "    return 10\n",
    "fun()"
   ]
  },
  {
   "cell_type": "code",
   "execution_count": null,
   "id": "b7c98350",
   "metadata": {},
   "outputs": [],
   "source": [
    "def fun():"
   ]
  }
 ],
 "metadata": {
  "kernelspec": {
   "display_name": "Python 3 (ipykernel)",
   "language": "python",
   "name": "python3"
  },
  "language_info": {
   "codemirror_mode": {
    "name": "ipython",
    "version": 3
   },
   "file_extension": ".py",
   "mimetype": "text/x-python",
   "name": "python",
   "nbconvert_exporter": "python",
   "pygments_lexer": "ipython3",
   "version": "3.9.12"
  }
 },
 "nbformat": 4,
 "nbformat_minor": 5
}
