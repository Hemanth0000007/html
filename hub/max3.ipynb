{
 "cells": [
  {
   "cell_type": "code",
   "execution_count": 1,
   "id": "707057da",
   "metadata": {},
   "outputs": [
    {
     "name": "stdout",
     "output_type": "stream",
     "text": [
      "20\n",
      "30\n",
      "40\n",
      "50\n"
     ]
    }
   ],
   "source": [
    "#arbitrary number of arguments to funtion\n",
    "def mymax(*lst):\n",
    "    mx = lst[0]\n",
    "    for i in range(1, len(lst)):\n",
    "        if lst[i] > mx:\n",
    "            mx = lst[i]\n",
    "    print(mx)\n",
    "mymax(10,20)\n",
    "mymax(10,20,30)\n",
    "mymax(10,20,30,40)\n",
    "mymax(10,20,30,40,50)"
   ]
  },
  {
   "cell_type": "code",
   "execution_count": 3,
   "id": "b0b2afc6",
   "metadata": {},
   "outputs": [
    {
     "name": "stdout",
     "output_type": "stream",
     "text": [
      "10 20\n",
      "The L.C.M. is 20\n"
     ]
    }
   ],
   "source": [
    "def mylcm(x, y):\n",
    "   if x > y:\n",
    "       greater = x\n",
    "   else:\n",
    "       greater = y\n",
    "\n",
    "   while(True):\n",
    "       if((greater % x == 0) and (greater % y == 0)):\n",
    "           lcm = greater\n",
    "           break\n",
    "       greater += 1\n",
    "\n",
    "   return lcm\n",
    "\n",
    "x,y=map(int,input().split())\n",
    "\n",
    "print(\"The L.C.M. is\", compute_lcm(x,y))"
   ]
  },
  {
   "cell_type": "code",
   "execution_count": 4,
   "id": "fea1c2da",
   "metadata": {},
   "outputs": [
    {
     "name": "stdout",
     "output_type": "stream",
     "text": [
      "2\n",
      "12\n"
     ]
    }
   ],
   "source": [
    "def lcm_of_2(a,b):\n",
    "    i = 1\n",
    "    while 1:\n",
    "        m = a * i\n",
    "        if m % b == 0:\n",
    "            return m\n",
    "        i += 1\n",
    "def lcm_of_N(*lst):\n",
    "    l=1\n",
    "    for i in lst:\n",
    "        l=lcm_of_2(l,i)\n",
    "    return l\n",
    "print(lcm_of_N(1,2))\n",
    "print(lcm_of_N(1,2,3,4))\n"
   ]
  },
  {
   "cell_type": "code",
   "execution_count": null,
   "id": "e70fb1e1",
   "metadata": {},
   "outputs": [],
   "source": [
    "lst =[]\n"
   ]
  },
  {
   "cell_type": "code",
   "execution_count": null,
   "id": "545c6006",
   "metadata": {},
   "outputs": [],
   "source": [
    "import math"
   ]
  }
 ],
 "metadata": {
  "kernelspec": {
   "display_name": "Python 3 (ipykernel)",
   "language": "python",
   "name": "python3"
  },
  "language_info": {
   "codemirror_mode": {
    "name": "ipython",
    "version": 3
   },
   "file_extension": ".py",
   "mimetype": "text/x-python",
   "name": "python",
   "nbconvert_exporter": "python",
   "pygments_lexer": "ipython3",
   "version": "3.9.12"
  }
 },
 "nbformat": 4,
 "nbformat_minor": 5
}
