{
 "cells": [
  {
   "cell_type": "code",
   "execution_count": null,
   "id": "ebc611be",
   "metadata": {},
   "outputs": [],
   "source": [
    "t=int(input())\n",
    "for i in range(t):\n",
    "    n=int(input())\n",
    "    l=list(map(int,input().split()))\n",
    "    d={}\n",
    "    for i in l:\n",
    "        if i not in d.keys():\n",
    "            d[i]=1\n",
    "        else:\n",
    "            d[i]+=1\n",
    "    m=max(d.values())\n",
    "    c=0\n",
    "    for i in d.values():\n",
    "        if(i==m):\n",
    "            c+=1\n",
    "    if c==1:\n",
    "        print(\"Yes\")\n",
    "    \n",
    "    else:\n",
    "        print(\"No\")"
   ]
  },
  {
   "cell_type": "code",
   "execution_count": null,
   "id": "fd85ce4a",
   "metadata": {},
   "outputs": [],
   "source": [
    "t=int(input())\n",
    "for i in range(t):\n",
    "    n=int(input())\n",
    "    d = {}\n",
    "    for j in range(n):\n",
    "        e = int(input())\n",
    "        if i not in d.keys():\n",
    "            d[e]=1\n",
    "        else:\n",
    "            d[e]+=1\n",
    "    k = d.items()\n",
    "    for x,y in k:\n",
    "        if y%2 !=0 :\n",
    "            print(x)\n"
   ]
  },
  {
   "cell_type": "code",
   "execution_count": null,
   "id": "a266a2b6",
   "metadata": {},
   "outputs": [],
   "source": [
    "t=int(input())\n",
    "for i in range(t):\n",
    "    n=int(input())\n",
    "    d={}\n",
    "    for j in range(n):\n",
    "        e=int(input())\n",
    "        if e not in d.keys():\n",
    "            d[e]=1\n",
    "        else:\n",
    "            d[e]+=1\n",
    "    k=d.items()\n",
    "    for x,y in k:\n",
    "        if(y%2!=0):\n",
    "            print(x)"
   ]
  },
  {
   "cell_type": "code",
   "execution_count": null,
   "id": "0a7aabf2",
   "metadata": {},
   "outputs": [],
   "source": []
  },
  {
   "cell_type": "code",
   "execution_count": null,
   "id": "17383235",
   "metadata": {},
   "outputs": [],
   "source": []
  },
  {
   "cell_type": "code",
   "execution_count": null,
   "id": "3036808d",
   "metadata": {},
   "outputs": [],
   "source": []
  },
  {
   "cell_type": "code",
   "execution_count": null,
   "id": "14f0f88a",
   "metadata": {},
   "outputs": [],
   "source": []
  },
  {
   "cell_type": "code",
   "execution_count": null,
   "id": "c4dba27f",
   "metadata": {},
   "outputs": [],
   "source": []
  },
  {
   "cell_type": "code",
   "execution_count": null,
   "id": "815ce251",
   "metadata": {},
   "outputs": [],
   "source": []
  }
 ],
 "metadata": {
  "kernelspec": {
   "display_name": "Python 3 (ipykernel)",
   "language": "python",
   "name": "python3"
  },
  "language_info": {
   "codemirror_mode": {
    "name": "ipython",
    "version": 3
   },
   "file_extension": ".py",
   "mimetype": "text/x-python",
   "name": "python",
   "nbconvert_exporter": "python",
   "pygments_lexer": "ipython3",
   "version": "3.9.12"
  }
 },
 "nbformat": 4,
 "nbformat_minor": 5
}
