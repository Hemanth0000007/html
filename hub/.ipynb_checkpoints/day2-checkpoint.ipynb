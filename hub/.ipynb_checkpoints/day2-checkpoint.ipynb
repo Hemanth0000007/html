{
 "cells": [
  {
   "cell_type": "markdown",
   "id": "d9a5b166",
   "metadata": {},
   "source": [
    "# sets\n",
    "-.add()\n",
    "-.pop()\n",
    "-.remove()\n",
    "-.discard()\n",
    "-.union()\n",
    "-.intersection()\n",
    "-.difference()\n",
    "-.symmetric_difference\n",
    "-."
   ]
  },
  {
   "cell_type": "code",
   "execution_count": 2,
   "id": "353e18e9",
   "metadata": {},
   "outputs": [
    {
     "name": "stdout",
     "output_type": "stream",
     "text": [
      "{10, 20, 45}\n"
     ]
    }
   ],
   "source": [
    "s = set()# empty set\n",
    "s.add(20)\n",
    "s.add(10)\n",
    "s.add(45)\n",
    "print(s)"
   ]
  },
  {
   "cell_type": "code",
   "execution_count": 3,
   "id": "89988473",
   "metadata": {},
   "outputs": [
    {
     "name": "stdout",
     "output_type": "stream",
     "text": [
      "{10}\n"
     ]
    }
   ],
   "source": [
    "s = set() # empty set\n",
    "s.add(10)\n",
    "s.add(10)\n",
    "s.add(10)\n",
    "print(s)"
   ]
  },
  {
   "cell_type": "code",
   "execution_count": 4,
   "id": "38a0be4b",
   "metadata": {},
   "outputs": [
    {
     "ename": "TypeError",
     "evalue": "unhashable type: 'list'",
     "output_type": "error",
     "traceback": [
      "\u001b[1;31m---------------------------------------------------------------------------\u001b[0m",
      "\u001b[1;31mTypeError\u001b[0m                                 Traceback (most recent call last)",
      "Input \u001b[1;32mIn [4]\u001b[0m, in \u001b[0;36m<cell line: 1>\u001b[1;34m()\u001b[0m\n\u001b[1;32m----> 1\u001b[0m s \u001b[38;5;241m=\u001b[39m {[\u001b[38;5;241m10\u001b[39m,\u001b[38;5;241m20\u001b[39m],[\u001b[38;5;241m20\u001b[39m,\u001b[38;5;241m10\u001b[39m],[\u001b[38;5;241m10\u001b[39m,\u001b[38;5;241m20\u001b[39m]}\n\u001b[0;32m      2\u001b[0m \u001b[38;5;28mprint\u001b[39m(s)\n",
      "\u001b[1;31mTypeError\u001b[0m: unhashable type: 'list'"
     ]
    }
   ],
   "source": [
    "s = {[10,20],[20,10],[10,20]}\n",
    "print(s)"
   ]
  },
  {
   "cell_type": "code",
   "execution_count": null,
   "id": "42011b4e",
   "metadata": {},
   "outputs": [],
   "source": [
    " = {[10,20],[20,10],(10,20)}\n",
    "print(s)"
   ]
  },
  {
   "cell_type": "markdown",
   "id": "45071c93",
   "metadata": {},
   "source": [
    "# sets can only hold immutable types\n",
    "- sets of integers - vaild\n",
    "- sets of floating points - vaild \n",
    "- sets of strings - vaild\n",
    "- sets of lists - invaild\n"
   ]
  },
  {
   "cell_type": "code",
   "execution_count": 5,
   "id": "9bf80704",
   "metadata": {},
   "outputs": [
    {
     "ename": "TypeError",
     "evalue": "unhashable type: 'set'",
     "output_type": "error",
     "traceback": [
      "\u001b[1;31m---------------------------------------------------------------------------\u001b[0m",
      "\u001b[1;31mTypeError\u001b[0m                                 Traceback (most recent call last)",
      "Input \u001b[1;32mIn [5]\u001b[0m, in \u001b[0;36m<cell line: 3>\u001b[1;34m()\u001b[0m\n\u001b[0;32m      1\u001b[0m s \u001b[38;5;241m=\u001b[39m {\u001b[38;5;241m10\u001b[39m,\u001b[38;5;241m20\u001b[39m,\u001b[38;5;241m30\u001b[39m}\n\u001b[0;32m      2\u001b[0m s1 \u001b[38;5;241m=\u001b[39m \u001b[38;5;28mset\u001b[39m()\n\u001b[1;32m----> 3\u001b[0m \u001b[43ms1\u001b[49m\u001b[38;5;241;43m.\u001b[39;49m\u001b[43madd\u001b[49m\u001b[43m(\u001b[49m\u001b[43ms\u001b[49m\u001b[43m)\u001b[49m\n\u001b[0;32m      4\u001b[0m \u001b[38;5;28mprint\u001b[39m(s1)\n",
      "\u001b[1;31mTypeError\u001b[0m: unhashable type: 'set'"
     ]
    }
   ],
   "source": [
    "s = {10,20,30}\n",
    "s1 = set()\n",
    "s1.add(s)\n",
    "print(s1)"
   ]
  },
  {
   "cell_type": "markdown",
   "id": "581df6dc",
   "metadata": {},
   "source": [
    "# set.pop()\n",
    "- removes a random element from set"
   ]
  },
  {
   "cell_type": "code",
   "execution_count": 6,
   "id": "ce70432a",
   "metadata": {},
   "outputs": [
    {
     "name": "stdout",
     "output_type": "stream",
     "text": [
      "{20, 40, 10, 30}\n"
     ]
    }
   ],
   "source": [
    "s = {10,20,30,40,50}\n",
    "s.pop()\n",
    "print(s)"
   ]
  },
  {
   "cell_type": "markdown",
   "id": "291d4819",
   "metadata": {},
   "source": [
    "# set.remove()\n",
    "- removes a specific random element from set"
   ]
  },
  {
   "cell_type": "code",
   "execution_count": 7,
   "id": "cc345190",
   "metadata": {},
   "outputs": [
    {
     "name": "stdout",
     "output_type": "stream",
     "text": [
      "{50, 20, 10, 30}\n"
     ]
    }
   ],
   "source": [
    "s = {10,20,30,40,50}\n",
    "s.remove(40)\n",
    "print(s)"
   ]
  },
  {
   "cell_type": "code",
   "execution_count": 8,
   "id": "e8c829bb",
   "metadata": {},
   "outputs": [
    {
     "ename": "KeyError",
     "evalue": "100",
     "output_type": "error",
     "traceback": [
      "\u001b[1;31m---------------------------------------------------------------------------\u001b[0m",
      "\u001b[1;31mKeyError\u001b[0m                                  Traceback (most recent call last)",
      "Input \u001b[1;32mIn [8]\u001b[0m, in \u001b[0;36m<cell line: 2>\u001b[1;34m()\u001b[0m\n\u001b[0;32m      1\u001b[0m s \u001b[38;5;241m=\u001b[39m {\u001b[38;5;241m10\u001b[39m,\u001b[38;5;241m20\u001b[39m,\u001b[38;5;241m30\u001b[39m,\u001b[38;5;241m40\u001b[39m,\u001b[38;5;241m50\u001b[39m}\n\u001b[1;32m----> 2\u001b[0m \u001b[43ms\u001b[49m\u001b[38;5;241;43m.\u001b[39;49m\u001b[43mremove\u001b[49m\u001b[43m(\u001b[49m\u001b[38;5;241;43m100\u001b[39;49m\u001b[43m)\u001b[49m\n\u001b[0;32m      3\u001b[0m \u001b[38;5;28mprint\u001b[39m(s)\n",
      "\u001b[1;31mKeyError\u001b[0m: 100"
     ]
    }
   ],
   "source": [
    "s = {10,20,30,40,50}\n",
    "s.remove(100)\n",
    "print(s)"
   ]
  },
  {
   "cell_type": "markdown",
   "id": "9d45e2ed",
   "metadata": {},
   "source": [
    "# set.discard()\n",
    "- also removes an elment from set . if it's a member\n",
    "- "
   ]
  },
  {
   "cell_type": "code",
   "execution_count": 9,
   "id": "2500470a",
   "metadata": {},
   "outputs": [
    {
     "name": "stdout",
     "output_type": "stream",
     "text": [
      "{10, 30}\n"
     ]
    }
   ],
   "source": [
    "s ={10,20,30}\n",
    "s.discard(20)\n",
    "print(s)"
   ]
  },
  {
   "cell_type": "code",
   "execution_count": 10,
   "id": "f433c4fb",
   "metadata": {},
   "outputs": [
    {
     "name": "stdout",
     "output_type": "stream",
     "text": [
      "{10, 20, 30}\n"
     ]
    }
   ],
   "source": [
    "s ={10,20,30}\n",
    "s.discard(100)\n",
    "print(s)"
   ]
  },
  {
   "cell_type": "code",
   "execution_count": 12,
   "id": "090b25c4",
   "metadata": {},
   "outputs": [
    {
     "name": "stdout",
     "output_type": "stream",
     "text": [
      "5\n"
     ]
    }
   ],
   "source": [
    "s ='aaaaabb bccxxx'\n",
    "print(len(set(s)))\n"
   ]
  },
  {
   "cell_type": "code",
   "execution_count": 14,
   "id": "af634bc3",
   "metadata": {},
   "outputs": [
    {
     "name": "stdout",
     "output_type": "stream",
     "text": [
      "4\n"
     ]
    }
   ],
   "source": [
    "s ='aaaaabb bccxxx'\n",
    "x = set(s)\n",
    "x.remove(' ')\n",
    "print(len(set(x)))"
   ]
  },
  {
   "cell_type": "code",
   "execution_count": 15,
   "id": "3984342b",
   "metadata": {},
   "outputs": [
    {
     "ename": "KeyError",
     "evalue": "' '",
     "output_type": "error",
     "traceback": [
      "\u001b[1;31m---------------------------------------------------------------------------\u001b[0m",
      "\u001b[1;31mKeyError\u001b[0m                                  Traceback (most recent call last)",
      "Input \u001b[1;32mIn [15]\u001b[0m, in \u001b[0;36m<cell line: 3>\u001b[1;34m()\u001b[0m\n\u001b[0;32m      1\u001b[0m s \u001b[38;5;241m=\u001b[39m\u001b[38;5;124m'\u001b[39m\u001b[38;5;124maaaaabbbccxxx\u001b[39m\u001b[38;5;124m'\u001b[39m\n\u001b[0;32m      2\u001b[0m x \u001b[38;5;241m=\u001b[39m \u001b[38;5;28mset\u001b[39m(s)\n\u001b[1;32m----> 3\u001b[0m \u001b[43mx\u001b[49m\u001b[38;5;241;43m.\u001b[39;49m\u001b[43mremove\u001b[49m\u001b[43m(\u001b[49m\u001b[38;5;124;43m'\u001b[39;49m\u001b[38;5;124;43m \u001b[39;49m\u001b[38;5;124;43m'\u001b[39;49m\u001b[43m)\u001b[49m\n\u001b[0;32m      4\u001b[0m \u001b[38;5;28mprint\u001b[39m(\u001b[38;5;28mlen\u001b[39m(\u001b[38;5;28mset\u001b[39m(x)))\n",
      "\u001b[1;31mKeyError\u001b[0m: ' '"
     ]
    }
   ],
   "source": [
    "s ='aaaaabbbccxxx'\n",
    "x = set(s)\n",
    "x.remove(' ')\n",
    "print(len(set(x)))"
   ]
  },
  {
   "cell_type": "code",
   "execution_count": 16,
   "id": "9d4f6919",
   "metadata": {},
   "outputs": [
    {
     "name": "stdout",
     "output_type": "stream",
     "text": [
      "4\n"
     ]
    }
   ],
   "source": [
    "s ='aaaaabb bccxxx'\n",
    "x = set(s)\n",
    "x.discard(' ')\n",
    "print(len(set(x)))"
   ]
  },
  {
   "cell_type": "code",
   "execution_count": 17,
   "id": "e97e3133",
   "metadata": {},
   "outputs": [
    {
     "name": "stdout",
     "output_type": "stream",
     "text": [
      "4\n"
     ]
    }
   ],
   "source": [
    "s ='aaaaabbbccxxx'\n",
    "x = set(s)\n",
    "x.discard(' ')\n",
    "print(len(set(x)))"
   ]
  },
  {
   "cell_type": "markdown",
   "id": "675e8ef4",
   "metadata": {},
   "source": [
    "# pangram\n",
    "- A quick brown fox jumps over the lazy dog \n",
    "- aaaaaaaaaaaaaaaaaaaaaaaaaaaaaa\n",
    "- pavan\n"
   ]
  },
  {
   "cell_type": "code",
   "execution_count": 20,
   "id": "bc132905",
   "metadata": {},
   "outputs": [
    {
     "name": "stdout",
     "output_type": "stream",
     "text": [
      "{'e', 'h', 'a', 'i', 'A', 'b', 'f', 'd', 'n', 'm', 'x', 't', 'u', 's', ' ', 'g', 'o', 'q', 'z', 'l', 'y', 'v', 'c', 'k', 'j', 'w', 'p', 'r'}\n"
     ]
    }
   ],
   "source": [
    "s = 'A quick brown fox jumps over the lazy dog '\n",
    "x = set(s)\n",
    "print(x)"
   ]
  },
  {
   "cell_type": "code",
   "execution_count": 21,
   "id": "b18551fb",
   "metadata": {},
   "outputs": [
    {
     "name": "stdout",
     "output_type": "stream",
     "text": [
      "{'e', 'h', 'a', 'i', 'b', 'f', 'd', 'n', 'm', 'x', 't', 'u', 's', ' ', 'g', 'o', 'q', 'z', 'l', 'y', 'v', 'c', 'k', 'j', 'w', 'p', 'r'}\n"
     ]
    }
   ],
   "source": [
    "s = 'A quick brown fox jumps over the lazy dog '.lower()\n",
    "x = set(s)\n",
    "print(x)"
   ]
  },
  {
   "cell_type": "code",
   "execution_count": 22,
   "id": "fe6858fb",
   "metadata": {},
   "outputs": [
    {
     "name": "stdout",
     "output_type": "stream",
     "text": [
      "pangram\n"
     ]
    }
   ],
   "source": [
    "s = 'A quick brown fox jumps over the lazy dog '.lower()\n",
    "x = set(s)\n",
    "x.discard(' ')\n",
    "if len (x) == 26:\n",
    "    print('pangram')\n",
    "else:\n",
    "    print('not pangram')"
   ]
  },
  {
   "cell_type": "code",
   "execution_count": 23,
   "id": "b24999d0",
   "metadata": {},
   "outputs": [
    {
     "name": "stdout",
     "output_type": "stream",
     "text": [
      "A quick brown fox jumps over the lazy dog \n",
      "pangram\n"
     ]
    }
   ],
   "source": [
    "s = input().lower()\n",
    "x = set(s)\n",
    "x.discard(' ')\n",
    "if len (x) == 26:\n",
    "    print('pangram')\n",
    "else:\n",
    "    print('not pangram')"
   ]
  },
  {
   "cell_type": "markdown",
   "id": "3309d2db",
   "metadata": {},
   "source": [
    "# set.union()"
   ]
  },
  {
   "cell_type": "code",
   "execution_count": 24,
   "id": "05550a79",
   "metadata": {},
   "outputs": [
    {
     "name": "stdout",
     "output_type": "stream",
     "text": [
      "{20, 40, 10, 30}\n",
      "{20, 40, 10, 30}\n"
     ]
    }
   ],
   "source": [
    "s1 = {10,20,30}\n",
    "s2 ={20,30,40}\n",
    "s3 = s1.union(s2)    #  s2.union(s1)\n",
    "s4 = s2.union(s1)\n",
    "print(s3 , s4 ,sep='\\n')"
   ]
  },
  {
   "cell_type": "markdown",
   "id": "60151e39",
   "metadata": {},
   "source": [
    "# set.intersection"
   ]
  },
  {
   "cell_type": "code",
   "execution_count": 26,
   "id": "e8bcdaf1",
   "metadata": {},
   "outputs": [
    {
     "name": "stdout",
     "output_type": "stream",
     "text": [
      "{20, 30}\n"
     ]
    }
   ],
   "source": [
    "s1 = {10,20,30}\n",
    "s2 ={20,30,40}\n",
    "s3 = s1.intersection(s2)    #  s2.intersection(s1)\n",
    "print(s3 ,sep='\\n')"
   ]
  },
  {
   "cell_type": "code",
   "execution_count": 27,
   "id": "0c06f217",
   "metadata": {},
   "outputs": [
    {
     "name": "stdout",
     "output_type": "stream",
     "text": [
      "{20, 30}\n",
      "{20, 30}\n"
     ]
    }
   ],
   "source": [
    "s1 = {10,20,30}\n",
    "s2 ={20,30,40}\n",
    "s3 = s1.intersection(s2)    #  s2.uintersection(s1)\n",
    "s4 = s2.intersection(s1)\n",
    "print(s3 , s4 ,sep='\\n')"
   ]
  },
  {
   "cell_type": "markdown",
   "id": "afaa1e2e",
   "metadata": {},
   "source": [
    "# gcd of 2 numbers using sets"
   ]
  },
  {
   "cell_type": "code",
   "execution_count": null,
   "id": "537514f3",
   "metadata": {},
   "outputs": [],
   "source": [
    "s = 'this is python'\n",
    "se = {}"
   ]
  },
  {
   "cell_type": "code",
   "execution_count": 28,
   "id": "00bf9ab4",
   "metadata": {},
   "outputs": [
    {
     "name": "stdout",
     "output_type": "stream",
     "text": [
      "{1, 2, 3, 4, 5, 6, 7, 8, 9, 10, 11, 12}\n"
     ]
    }
   ],
   "source": [
    "a = 12\n",
    "b = 18\n",
    "factors_of_a = {i for i in range(1, a+1)}\n",
    "print(factors_of_a)"
   ]
  },
  {
   "cell_type": "code",
   "execution_count": 29,
   "id": "d0248134",
   "metadata": {},
   "outputs": [
    {
     "name": "stdout",
     "output_type": "stream",
     "text": [
      "{1, 2, 3, 4, 6, 12}\n",
      "{1, 2, 3, 6, 9}\n"
     ]
    }
   ],
   "source": [
    "a = 12\n",
    "b = 18\n",
    "factors_of_a = {i for i in range(1, a+1) if a%i == 0}\n",
    "factors_of_b = {i for i in range(1, a+1) if b%i == 0}\n",
    "print(factors_of_a)\n",
    "print(factors_of_b)"
   ]
  },
  {
   "cell_type": "code",
   "execution_count": 31,
   "id": "697735bd",
   "metadata": {},
   "outputs": [
    {
     "name": "stdout",
     "output_type": "stream",
     "text": [
      "{1, 2, 3, 6}\n",
      "GCD of 12 and 18 is 6\n"
     ]
    }
   ],
   "source": [
    "a = 12\n",
    "b = 18\n",
    "factors_of_a = {i for i in range(1, a+1) if a%i == 0}\n",
    "factors_of_b = {i for i in range(1, a+1) if b%i == 0}\n",
    "cf = factors_of_a.intersection(factors_of_b)\n",
    "print(cf)\n",
    "gcd = max(cf)\n",
    "print(f'GCD of {a} and {b} is {gcd}')"
   ]
  },
  {
   "cell_type": "markdown",
   "id": "05226b09",
   "metadata": {},
   "source": [
    "# set1.difference(set2)"
   ]
  },
  {
   "cell_type": "code",
   "execution_count": 35,
   "id": "58e4c379",
   "metadata": {},
   "outputs": [
    {
     "name": "stdout",
     "output_type": "stream",
     "text": [
      "{10}\n",
      "{40}\n"
     ]
    }
   ],
   "source": [
    "s1 = {10,20,30}\n",
    "s2 = {20,30,40}\n",
    "s3 = s1.difference(s2)\n",
    "s4 = s2.difference(s1)\n",
    "print(s3)\n",
    "print(s4)"
   ]
  },
  {
   "cell_type": "markdown",
   "id": "c6f7f234",
   "metadata": {},
   "source": [
    "# set1.symmetric_difference(set2)\n"
   ]
  },
  {
   "cell_type": "code",
   "execution_count": 40,
   "id": "bf38e3de",
   "metadata": {},
   "outputs": [
    {
     "name": "stdout",
     "output_type": "stream",
     "text": [
      "{40, 10}\n",
      "{40, 10}\n"
     ]
    }
   ],
   "source": [
    "s1 = {10,20,30}\n",
    "s2 = {20,30,40}\n",
    "s3 = s1.symmetric_difference(s2)\n",
    "print(s3)\n",
    "print((s1.union(s2)).difference(s1.intersection(s2)))"
   ]
  },
  {
   "cell_type": "code",
   "execution_count": 41,
   "id": "7eb23756",
   "metadata": {},
   "outputs": [
    {
     "name": "stdout",
     "output_type": "stream",
     "text": [
      "{40, 10}\n",
      "{40, 10}\n"
     ]
    }
   ],
   "source": [
    "s1 = {10,20,30}\n",
    "s2 = {20,30,40}\n",
    "s3 = s1.symmetric_difference(s2)\n",
    "s4 = s2.symmetric_difference(s1)\n",
    "print(s3)\n",
    "print(s4)"
   ]
  },
  {
   "cell_type": "code",
   "execution_count": 42,
   "id": "38a22cd3",
   "metadata": {},
   "outputs": [
    {
     "name": "stdout",
     "output_type": "stream",
     "text": [
      "10 20 30 40\n",
      "{40, 10, 20, 30}\n"
     ]
    }
   ],
   "source": [
    "s = set(map(int,input().split()))\n",
    "print(s)"
   ]
  },
  {
   "cell_type": "code",
   "execution_count": 43,
   "id": "006c516b",
   "metadata": {},
   "outputs": [
    {
     "name": "stdout",
     "output_type": "stream",
     "text": [
      "{20, 40, 10, 30}\n",
      "{40, 20, 30}\n"
     ]
    }
   ],
   "source": [
    "s1 = {10,20,30}\n",
    "s2 = {20,30,40}\n",
    "s3 = s1.union(s2) # s1 will be update with s1.union\n",
    "print(s3)\n",
    "print(s2)"
   ]
  },
  {
   "cell_type": "code",
   "execution_count": 46,
   "id": "c7438f35",
   "metadata": {},
   "outputs": [
    {
     "name": "stdout",
     "output_type": "stream",
     "text": [
      "{20, 30}\n",
      "{40, 20, 30}\n"
     ]
    }
   ],
   "source": [
    "s1 = {10,20,30}\n",
    "s2 = {20,30,40}\n",
    "s1.update(s2) \n",
    "# s1 will be update with s1.union\n",
    "# intersection_update()\n",
    "# difference_update()\n",
    "# symmetric_diffference_update()\n",
    "print(s1)\n",
    "print(s2)"
   ]
  },
  {
   "cell_type": "code",
   "execution_count": 47,
   "id": "66abbf80",
   "metadata": {},
   "outputs": [
    {
     "name": "stdout",
     "output_type": "stream",
     "text": [
      "{20, 30}\n",
      "{40, 20, 30}\n"
     ]
    }
   ],
   "source": [
    "s1 = {10,20,30}\n",
    "s2 = {20,30,40}\n",
    "s1.intersection_update(s2) # s1 will be update with s1.union\n",
    "print(s1)\n",
    "print(s2)"
   ]
  },
  {
   "cell_type": "code",
   "execution_count": 49,
   "id": "84ffd17b",
   "metadata": {},
   "outputs": [
    {
     "name": "stdout",
     "output_type": "stream",
     "text": [
      "{10}\n",
      "{40, 20, 30}\n"
     ]
    }
   ],
   "source": [
    "s1 = {10,20,30}\n",
    "s2 = {20,30,40}\n",
    "s1.difference_update(s2) # s1 will be update with s1.union\n",
    "print(s1)\n",
    "print(s2)"
   ]
  },
  {
   "cell_type": "code",
   "execution_count": 53,
   "id": "cb68ebaf",
   "metadata": {},
   "outputs": [
    {
     "ename": "AttributeError",
     "evalue": "'set' object has no attribute 'symmetric_diffference_update'",
     "output_type": "error",
     "traceback": [
      "\u001b[1;31m---------------------------------------------------------------------------\u001b[0m",
      "\u001b[1;31mAttributeError\u001b[0m                            Traceback (most recent call last)",
      "Input \u001b[1;32mIn [53]\u001b[0m, in \u001b[0;36m<cell line: 3>\u001b[1;34m()\u001b[0m\n\u001b[0;32m      1\u001b[0m s1 \u001b[38;5;241m=\u001b[39m {\u001b[38;5;241m10\u001b[39m,\u001b[38;5;241m20\u001b[39m,\u001b[38;5;241m30\u001b[39m}\n\u001b[0;32m      2\u001b[0m s2 \u001b[38;5;241m=\u001b[39m {\u001b[38;5;241m20\u001b[39m,\u001b[38;5;241m30\u001b[39m,\u001b[38;5;241m40\u001b[39m}\n\u001b[1;32m----> 3\u001b[0m s3 \u001b[38;5;241m=\u001b[39m \u001b[43ms1\u001b[49m\u001b[38;5;241;43m.\u001b[39;49m\u001b[43msymmetric_diffference_update\u001b[49m(s2) \u001b[38;5;66;03m# s1 will be update with s1.union\u001b[39;00m\n\u001b[0;32m      4\u001b[0m \u001b[38;5;28mprint\u001b[39m(s1)\n\u001b[0;32m      5\u001b[0m \u001b[38;5;28mprint\u001b[39m(s3)\n",
      "\u001b[1;31mAttributeError\u001b[0m: 'set' object has no attribute 'symmetric_diffference_update'"
     ]
    }
   ],
   "source": [
    "s1 = {10,20,30}\n",
    "s2 = {20,30,40}\n",
    "s3 = s1.symmetric_diffference_update(s2) # s1 will be update with s1.union\n",
    "print(s1)\n",
    "print(s3)"
   ]
  },
  {
   "cell_type": "code",
   "execution_count": 52,
   "id": "e390c278",
   "metadata": {},
   "outputs": [
    {
     "name": "stdout",
     "output_type": "stream",
     "text": [
      "True\n",
      "False\n"
     ]
    }
   ],
   "source": [
    "a = {10,20}\n",
    "b = {10,20,30,40}\n",
    "# a is s subset of b\n",
    "print(a.issubset(b))\n",
    "print(b.issubset(a))\n",
    "# b  is s superset of a"
   ]
  },
  {
   "cell_type": "code",
   "execution_count": 54,
   "id": "8c74d972",
   "metadata": {},
   "outputs": [
    {
     "name": "stdout",
     "output_type": "stream",
     "text": [
      "False\n",
      "True\n"
     ]
    }
   ],
   "source": [
    "a = {10,20}\n",
    "b = {10,20,30,40}\n",
    "# a is s subset of b\n",
    "print(a.issuperset(b))\n",
    "print(b.issuperset(a))\n",
    "# b  is s superset of a"
   ]
  },
  {
   "cell_type": "code",
   "execution_count": 55,
   "id": "7a4329b9",
   "metadata": {},
   "outputs": [
    {
     "name": "stdout",
     "output_type": "stream",
     "text": [
      "True\n",
      "False\n"
     ]
    }
   ],
   "source": [
    "a = {10,20,30,40,50,60}\n",
    "b = {10,20,30,40}\n",
    "# a is s subset of b\n",
    "print(a.issuperset(b))\n",
    "print(b.issuperset(a))\n",
    "# b  is s superset of a"
   ]
  },
  {
   "cell_type": "code",
   "execution_count": 57,
   "id": "02e0eac2",
   "metadata": {},
   "outputs": [
    {
     "name": "stdout",
     "output_type": "stream",
     "text": [
      "True\n",
      "True\n"
     ]
    }
   ],
   "source": [
    "a = {10,20,30}\n",
    "b = {40,50,60}\n",
    "print(a.isdisjoint(b))\n",
    "print(b.isdisjoint(a))"
   ]
  },
  {
   "cell_type": "code",
   "execution_count": 59,
   "id": "faa22213",
   "metadata": {},
   "outputs": [
    {
     "name": "stdout",
     "output_type": "stream",
     "text": [
      "False\n",
      "False\n"
     ]
    }
   ],
   "source": [
    "a = {10,20,30}\n",
    "b = {40,50,60,30}\n",
    "print(a.isdisjoint(b))\n",
    "print(b.isdisjoint(a))"
   ]
  },
  {
   "cell_type": "code",
   "execution_count": null,
   "id": "7dcc65b2",
   "metadata": {},
   "outputs": [],
   "source": []
  },
  {
   "cell_type": "code",
   "execution_count": null,
   "id": "40d608db",
   "metadata": {},
   "outputs": [],
   "source": []
  },
  {
   "cell_type": "code",
   "execution_count": null,
   "id": "39e9e4d0",
   "metadata": {},
   "outputs": [],
   "source": []
  },
  {
   "cell_type": "code",
   "execution_count": null,
   "id": "f172e7ba",
   "metadata": {},
   "outputs": [],
   "source": []
  },
  {
   "cell_type": "code",
   "execution_count": null,
   "id": "5c7c9bb5",
   "metadata": {},
   "outputs": [],
   "source": []
  },
  {
   "cell_type": "code",
   "execution_count": null,
   "id": "0fae8ef1",
   "metadata": {},
   "outputs": [],
   "source": []
  },
  {
   "cell_type": "code",
   "execution_count": null,
   "id": "0b320267",
   "metadata": {},
   "outputs": [],
   "source": []
  },
  {
   "cell_type": "code",
   "execution_count": null,
   "id": "b756d1c6",
   "metadata": {},
   "outputs": [],
   "source": []
  },
  {
   "cell_type": "code",
   "execution_count": null,
   "id": "fd193647",
   "metadata": {},
   "outputs": [],
   "source": []
  },
  {
   "cell_type": "code",
   "execution_count": null,
   "id": "7db1b9da",
   "metadata": {},
   "outputs": [],
   "source": []
  },
  {
   "cell_type": "code",
   "execution_count": null,
   "id": "7120841e",
   "metadata": {},
   "outputs": [],
   "source": []
  },
  {
   "cell_type": "code",
   "execution_count": null,
   "id": "4d1069f4",
   "metadata": {},
   "outputs": [],
   "source": []
  },
  {
   "cell_type": "code",
   "execution_count": null,
   "id": "e93abc04",
   "metadata": {},
   "outputs": [],
   "source": []
  }
 ],
 "metadata": {
  "kernelspec": {
   "display_name": "Python 3 (ipykernel)",
   "language": "python",
   "name": "python3"
  },
  "language_info": {
   "codemirror_mode": {
    "name": "ipython",
    "version": 3
   },
   "file_extension": ".py",
   "mimetype": "text/x-python",
   "name": "python",
   "nbconvert_exporter": "python",
   "pygments_lexer": "ipython3",
   "version": "3.9.12"
  }
 },
 "nbformat": 4,
 "nbformat_minor": 5
}
