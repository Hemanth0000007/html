{
 "cells": [
  {
   "cell_type": "markdown",
   "id": "381f5d96",
   "metadata": {},
   "source": [
    "# itertools\n",
    "- this modules implements a number of iterator building blocks.\n",
    "- the module standardizes a core set of fast , memory efficient tools that are useful by themselves or in combination.\n",
    "  togther , they form an \"iterator algebra\" making it possible to costruct specialized tools succintly and efficiently \n",
    "  in pure python.\n",
    "- itertools contains "
   ]
  },
  {
   "cell_type": "code",
   "execution_count": 1,
   "id": "cb9ce2ca",
   "metadata": {},
   "outputs": [
    {
     "name": "stdout",
     "output_type": "stream",
     "text": [
      "[1, 3, 6, 10, 15, 21]\n"
     ]
    }
   ],
   "source": [
    "import itertools as it \n",
    "lst = [1,2,3,4,5,6]\n",
    "x = it.accumulate(lst)\n",
    "print(list(x))"
   ]
  },
  {
   "cell_type": "code",
   "execution_count": 2,
   "id": "8fbf978c",
   "metadata": {},
   "outputs": [
    {
     "name": "stdout",
     "output_type": "stream",
     "text": [
      "[1, 2, 6, 24, 120, 720]\n"
     ]
    }
   ],
   "source": [
    "import itertools as it \n",
    "def multiply (a , b):\n",
    "    return a * b\n",
    "lst = [1,2,3,4,5,6]\n",
    "x = it.accumulate(lst , func = multiply)\n",
    "print(list(x))"
   ]
  },
  {
   "cell_type": "code",
   "execution_count": 4,
   "id": "03b7678c",
   "metadata": {},
   "outputs": [
    {
     "name": "stdout",
     "output_type": "stream",
     "text": [
      "[1, -1, -4, -8, -13, -19]\n"
     ]
    }
   ],
   "source": [
    "import itertools as it \n",
    "def multiply (a , b):\n",
    "    return a - b\n",
    "lst = [1,2,3,4,5,6]\n",
    "x = it.accumulate(lst , func = multiply)\n",
    "print(list(x))"
   ]
  },
  {
   "cell_type": "code",
   "execution_count": 6,
   "id": "bce92762",
   "metadata": {},
   "outputs": [
    {
     "name": "stdout",
     "output_type": "stream",
     "text": [
      "[1, 12, 123, 1234, 12345, 123456]\n"
     ]
    }
   ],
   "source": [
    "import itertools as it \n",
    "def multiply (a , b):\n",
    "    return a *10 + b\n",
    "lst = [1,2,3,4,5,6]\n",
    "x = it.accumulate(lst , func = multiply)\n",
    "print(list(x))"
   ]
  },
  {
   "cell_type": "code",
   "execution_count": 7,
   "id": "fccc64c0",
   "metadata": {},
   "outputs": [
    {
     "name": "stdout",
     "output_type": "stream",
     "text": [
      "[10, 11, 13, 16, 20, 25, 31]\n"
     ]
    }
   ],
   "source": [
    "import itertools as it \n",
    "lst = [1,2,3,4,5,6]\n",
    "x = it.accumulate(lst , initial =10)\n",
    "print(list(x))"
   ]
  },
  {
   "cell_type": "code",
   "execution_count": 9,
   "id": "fa8c283c",
   "metadata": {},
   "outputs": [
    {
     "data": {
      "text/plain": [
       "512"
      ]
     },
     "execution_count": 9,
     "metadata": {},
     "output_type": "execute_result"
    }
   ],
   "source": [
    "def cube(n):\n",
    "    return n*n*n\n",
    "\n",
    "# Ananymous function\n",
    "(lambda n: n*n*n)(8)"
   ]
  },
  {
   "cell_type": "code",
   "execution_count": 10,
   "id": "37279c39",
   "metadata": {},
   "outputs": [
    {
     "name": "stdout",
     "output_type": "stream",
     "text": [
      "[1, 12, 123, 1234, 12345, 123456]\n"
     ]
    }
   ],
   "source": [
    "import itertools as it \n",
    "lst = [1,2,3,4,5,6]\n",
    "x = it.accumulate(lst , func = lambda a , b: a *10 + b)\n",
    "print(list(x))"
   ]
  },
  {
   "cell_type": "code",
   "execution_count": 11,
   "id": "9263d1d0",
   "metadata": {},
   "outputs": [
    {
     "name": "stdout",
     "output_type": "stream",
     "text": [
      "[1, 2, 6, 24, 120, 720]\n"
     ]
    }
   ],
   "source": [
    "import itertools as it \n",
    "lst = [1,2,3,4,5,6]\n",
    "x = it.accumulate(lst , func = lambda a , b: a * b)\n",
    "print(list(x))"
   ]
  },
  {
   "cell_type": "code",
   "execution_count": 12,
   "id": "69d6abc8",
   "metadata": {},
   "outputs": [
    {
     "name": "stdout",
     "output_type": "stream",
     "text": [
      "[1, 2, 6, 24, 120, 720]\n"
     ]
    }
   ],
   "source": [
    "import itertools as it \n",
    "import operator \n",
    "lst = [1,2,3,4,5,6]\n",
    "x = it.accumulate(lst , func = operator.mul)\n",
    "print(list(x))"
   ]
  },
  {
   "cell_type": "code",
   "execution_count": 16,
   "id": "9cd66fb2",
   "metadata": {},
   "outputs": [
    {
     "name": "stdout",
     "output_type": "stream",
     "text": [
      "[1, -1, -4, -8, -13, -19]\n"
     ]
    }
   ],
   "source": [
    "import itertools as it \n",
    "import operator \n",
    "lst = [1,2,3,4,5,6]\n",
    "x = it.accumulate(lst , func = operator.sub)\n",
    "print(list(x))"
   ]
  },
  {
   "cell_type": "code",
   "execution_count": 17,
   "id": "5d38119f",
   "metadata": {},
   "outputs": [
    {
     "name": "stdout",
     "output_type": "stream",
     "text": [
      "['h', 'e', 'l', 'l', 'o', ' ', 'w', 'o', 'r', 'l', 'd', 10, 20, 30, 40, 16.5, 'a', 'rio', 12.2]\n"
     ]
    }
   ],
   "source": [
    "x = 'hello world'\n",
    "l = [10,20,30,40]\n",
    "s = {'a','rio',12.2,16.5}\n",
    "x = it.chain(x,l,s)\n",
    "print(list(x))"
   ]
  },
  {
   "cell_type": "code",
   "execution_count": 19,
   "id": "38eba53d",
   "metadata": {},
   "outputs": [
    {
     "name": "stdout",
     "output_type": "stream",
     "text": [
      "['a', 'b', 'c', 'd', 'e', 'f', 'g', 'h', 'i', 'j', 'k', 'l']\n"
     ]
    }
   ],
   "source": [
    "x = ['abcd' , 'efgh','ijkl']\n",
    "print(list(it.chain.from_iterable(x)))"
   ]
  },
  {
   "cell_type": "markdown",
   "id": "e19377d0",
   "metadata": {},
   "source": [
    "# itertools.groupby()\n",
    "- group elements based on a key \n",
    "- key -->group"
   ]
  },
  {
   "cell_type": "code",
   "execution_count": 21,
   "id": "0a52ec98",
   "metadata": {},
   "outputs": [
    {
     "name": "stdout",
     "output_type": "stream",
     "text": [
      "<itertools.groupby object at 0x000002674EDD6270>\n"
     ]
    }
   ],
   "source": [
    "string = 'xxyyyzzzzppqrrrss'\n",
    "x = it.groupby(string)\n",
    "print(x)"
   ]
  },
  {
   "cell_type": "code",
   "execution_count": 22,
   "id": "47a91a63",
   "metadata": {},
   "outputs": [
    {
     "name": "stdout",
     "output_type": "stream",
     "text": [
      "x ['x', 'x']\n",
      "y ['y', 'y', 'y']\n",
      "z ['z', 'z', 'z', 'z']\n",
      "p ['p', 'p']\n",
      "q ['q']\n",
      "r ['r', 'r', 'r']\n",
      "s ['s', 's']\n",
      "x ['x', 'x', 'x', 'x']\n"
     ]
    }
   ],
   "source": [
    "string = 'xxyyyzzzzppqrrrssxxxx'\n",
    "x = it.groupby(string)\n",
    "for key , group in x:\n",
    "    print(key , list(group))"
   ]
  },
  {
   "cell_type": "code",
   "execution_count": 24,
   "id": "04c65b5c",
   "metadata": {},
   "outputs": [
    {
     "name": "stdout",
     "output_type": "stream",
     "text": [
      "ACET [['1479', 'Ashok', 'ACET'], ['1231', 'Kiran', 'ACET']]\n",
      "ACOE [['8764', 'Teja', 'ACOE']]\n",
      "AEC [['5467', 'Sudhir', 'AEC'], ['8973', 'Prasad', 'AEC']]\n",
      "T-HUB [['1234', 'Pavan', 'T-HUB'], ['7890', 'Rajesh', 'T-HUB'], ['1235', 'Narasimha', 'T-HUB']]\n"
     ]
    }
   ],
   "source": [
    "employees = [\n",
    "    ['1234', 'Pavan', 'T-HUB'],\n",
    "    ['5467', 'Sudhir', 'AEC'],\n",
    "    ['7890', 'Rajesh', 'T-HUB'],\n",
    "    ['1479', 'Ashok', 'ACET'],\n",
    "    ['1231', 'Kiran', 'ACET'],\n",
    "    ['8764', 'Teja', 'ACOE'],\n",
    "    ['8973', 'Prasad', 'AEC'],\n",
    "    ['1235', 'Narasimha', 'T-HUB']\n",
    "]\n",
    "y = sorted(employees , key = lambda r : r[2])\n",
    "x = it.groupby(y , key = lambda r : r[2])\n",
    "for k,g in x:\n",
    "    print(k,list(g))"
   ]
  },
  {
   "cell_type": "code",
   "execution_count": 26,
   "id": "d3c62008",
   "metadata": {},
   "outputs": [
    {
     "name": "stdout",
     "output_type": "stream",
     "text": [
      "[['rollnumber', 'name', 'branch', 'college'], ['123', 'abc', 'ECE', 'AEC'], ['145', 'xyz', 'CSE', 'ACET'], ['789', 'pqr', 'MECH', 'ACET'], ['456', 'mno', 'ECE', 'ACOE']]\n"
     ]
    }
   ],
   "source": [
    "import csv\n",
    "import itertools as it\n",
    "with open(\"C:\\\\Users\\\\DELL\\\\Desktop\\\\data.csv\",\"r\") as f:\n",
    "    # reader object\n",
    "    data = csv.reader(f)\n",
    "    print(list(data))\n",
    "    "
   ]
  },
  {
   "cell_type": "code",
   "execution_count": 31,
   "id": "97efa795",
   "metadata": {},
   "outputs": [
    {
     "name": "stdout",
     "output_type": "stream",
     "text": [
      "[['rollnumber', 'name', 'branch', 'college'], ['123', 'abc', 'ECE', 'AEC'], ['145', 'xyz', 'CSE', 'ACET'], ['789', 'pqr', 'MECH', 'ACET'], ['456', 'mno', 'ECE', 'ACOE']]\n"
     ]
    }
   ],
   "source": [
    "import csv\n",
    "import itertools as it\n",
    "with open(\"C:\\\\Users\\\\DELL\\\\Desktop\\\\data.csv\",\"r\") as f:\n",
    "    # reader object\n",
    "    data = csv.reader(f)\n",
    "    llist = list(data)\n",
    "    print(llist)"
   ]
  },
  {
   "cell_type": "code",
   "execution_count": 28,
   "id": "5f7fd0b4",
   "metadata": {},
   "outputs": [
    {
     "name": "stdout",
     "output_type": "stream",
     "text": [
      "['rollnumber', 'name', 'branch', 'college']\n",
      "['123', 'abc', 'ECE', 'AEC']\n",
      "['145', 'xyz', 'CSE', 'ACET']\n",
      "['789', 'pqr', 'MECH', 'ACET']\n",
      "['456', 'mno', 'ECE', 'ACOE']\n"
     ]
    }
   ],
   "source": [
    "import csv\n",
    "import itertools as it\n",
    "with open(\"C:\\\\Users\\\\DELL\\\\Desktop\\\\data.csv\",\"r\") as f:\n",
    "    # reader object\n",
    "    data = csv.reader(f)\n",
    "    llist = list(data)\n",
    "    for i in llist:\n",
    "        print(i)"
   ]
  },
  {
   "cell_type": "code",
   "execution_count": 29,
   "id": "60d60274",
   "metadata": {},
   "outputs": [
    {
     "name": "stdout",
     "output_type": "stream",
     "text": [
      "rollnumber\t\tname\t\tbranch\t\tcollege\n",
      "123\t\tabc\t\tECE\t\tAEC\n",
      "145\t\txyz\t\tCSE\t\tACET\n",
      "789\t\tpqr\t\tMECH\t\tACET\n",
      "456\t\tmno\t\tECE\t\tACOE\n"
     ]
    }
   ],
   "source": [
    "import csv\n",
    "import itertools as it\n",
    "with open(\"C:\\\\Users\\\\DELL\\\\Desktop\\\\data.csv\",\"r\") as f:\n",
    "    # reader object\n",
    "    data = csv.reader(f)\n",
    "    llist = list(data)\n",
    "    for i in llist:\n",
    "        print(*i, sep ='\\t\\t')"
   ]
  },
  {
   "cell_type": "code",
   "execution_count": 57,
   "id": "538b269e",
   "metadata": {},
   "outputs": [],
   "source": [
    "import csv\n",
    "import itertools as it\n",
    "with open(\"C:\\\\Users\\\\DELL\\\\Desktop\\\\data.csv\",\"r\") as f:\n",
    "    # reader object\n",
    "    data = csv.reader(f)\n",
    "    llist = list(data)\n",
    "    llist [2][2] = \"ECE\"\n",
    "    # csv writin\n",
    "    with open(\"C:\\\\Users\\\\DELL\\\\Desktop\\\\ne_data.csv\",\"w\",newline='') as f1:\n",
    "        x = csv.writer(f1)\n",
    "        # x.writerow(singlelist)\n",
    "        # x.writerow(listoflist) \n",
    "        x.writerows(llist)"
   ]
  },
  {
   "cell_type": "code",
   "execution_count": 49,
   "id": "4e8abdd5",
   "metadata": {},
   "outputs": [
    {
     "name": "stdout",
     "output_type": "stream",
     "text": [
      "ï»¿S.No\t\tRoll Number\t\tName\t\tEmail\t\tBranch\t\tYear\t\tCollege\t\tCourse\t\tGender\n",
      "1\t\t21p31a0421\t\tChandini priya Gundubogula\t\t21p31a0421@acet.ac.in\t\tECE\t\t2025\t\tACET\t\tBecome Coder\t\tFemale\n",
      "2\t\t21P31A04C2\t\tSINGIREDDY VIJAYA VENKATA LAKSHMI \t\t21p31a04c2@acet.ac.in\t\tECE\t\t2025\t\tACET\t\tBecome Coder\t\tFemale\n",
      "3\t\t21p31a04o7\t\tROLLA VEERA KRISHNA DEVI GAYATRI\t\t21p31a04o7@acet.ac.in\t\tECE\t\t2025\t\tACET\t\tBecome Coder\t\tFemale\n",
      "4\t\t21p31a0430\t\tKOSURI VANDANA \t\t21p31a0430@acet.ac.in\t\tECE\t\t2025\t\tACET\t\tBecome Coder\t\tFemale\n",
      "5\t\t21p31a0452\t\tSATYA ANUSHA SIDDA\t\t21p31a0452@acet.ac.in\t\tECE\t\t2025\t\tACET\t\tBecome Coder\t\tFEMALE\n",
      "6\t\t21p31a0437\t\tMAMIDALA TULASI SAI RAMA SATYA VANI \t\t21p31a0437@acet.ac.in\t\tECE\t\t2025\t\tACET\t\tBecome Coder\t\tFemale\n",
      "7\t\t21p31a0415\t\tCHOPPERLA MONISHA \t\t21p31a0415@acet.ac.in\t\tECE\t\t2025\t\tACET\t\tBecome Coder\t\tFemale\n",
      "8\t\t21p31a0479\t\tCHOPPERLA LEKISHA \t\t21p31a0479@acet.ac.in\t\tECE\t\t2025\t\tACET\t\tBecome Coder\t\tFemale\n",
      "9\t\t21A91A04L1\t\tSRIRAM KAVI\t\t21a91a04l1@aec.edu.in\t\tECE\t\t2025\t\tAEC\t\tBecome Coder\t\tMale\n",
      "10\t\t21P31A0473\t\tVIMALA BERI\t\t21p31a0473@acet.ac.in\t\tECE\t\t2025\t\tACET\t\tBecome Coder\t\tFEMALE\n",
      "11\t\t21p31a04m2\t\tKrishna sudeepthi Karri\t\t21p31a04m2@acet.ac.in\t\tECE\t\t2025\t\tACET\t\tBecome Coder\t\tFemale\n",
      "12\t\t21p31a04i1\t\tMaheswari Perarapu\t\t21p31a04i1@acet.ac.in\t\tECE\t\t2025\t\tACET\t\tBecome Coder\t\tFemale\n",
      "13\t\t21P31A04E0\t\tPavani Boddu\t\t21p31a04e0@acet.ac.in\t\tECE\t\t2025\t\tACET\t\tBecome Coder\t\tFemale\n",
      "14\t\t21p31a04D1\t\tVEERA L H V SAI SREEDHAR \t\t21p31a04d1@acet.ac.in\t\tECE\t\t2025\t\tACET\t\tBecome Coder\t\tMale\n",
      "15\t\t21P31A0445\t\tPADALA SATYA LAKSHMI DURGA \t\t21p31a0445@acet.ac.in\t\tECE\t\t2025\t\tACET\t\tBecome Coder\t\tFemale\n",
      "16\t\t21p31a04j7\t\tSai Nikhitha Yedida\t\t21p31a04j7@acet.ac.in\t\tECE\t\t2025\t\tACET\t\tBecome Coder\t\tFemale\n",
      "17\t\t21p31a04q0\t\tVIJAYA CHIHNITHA JANGA\t\t21p31a04q0@acet.ac.in\t\tECE\t\t2025\t\tACET\t\tBecome Coder\t\tFemale\n",
      "18\t\t21p31a04l4\t\tGOKINA HEMALATHA\t\t21p31a04l4@acet.ac.in\t\tECE\t\t2025\t\tACET\t\tBecome Coder\t\tFemale\n",
      "19\t\t21p31a0448\t\tANITHA PINDI\t\t21p31a0448@acet.ac.in\t\tECE\t\t2025\t\tACET\t\tBecome Coder\t\tFEMALE\n",
      "20\t\t21P31A0425\t\tKANAKALA BHAVISHITHA \t\t21p31a0425@acet.ac.in\t\tECE\t\t2025\t\tACET\t\tBecome Coder\t\tFemale\n",
      "21\t\t21P31A0460\t\tPoorvaja V\t\t21p31a0460@acet.ac.in\t\tECE\t\t2025\t\tACET\t\tBecome Coder\t\tFemale\n",
      "22\t\t21p31a04d2\t\tLakshmi pavani Yarravula\t\t21p31a04d2@acet.ac.in\t\tECE\t\t2025\t\tACET\t\tBecome Coder\t\tFemale\n",
      "23\t\t21p31a0471\t\tBATHINA SUNIL PRATAP \t\t21p31a0471@acet.ac.in\t\tECE\t\t2025\t\tACET\t\tBecome Coder\t\tMale\n",
      "24\t\t21p31a0489\t\tINAKOTI DURGAPRASAD \t\t21p31a0489@acet.ac.in\t\tECE\t\t2025\t\tACET\t\tBecome Coder\t\tMale\n",
      "25\t\t21a91a04n6\t\tNandini Peddinti\t\t21a91a04n6@aec.edu.in\t\tECE\t\t2025\t\tAEC\t\tBecome Coder\t\tFemale\n",
      "26\t\t21p31a0483\t\tDONTHABATHULA POOJA \t\t21p31a0483@acet.ac.in\t\tECE\t\t2025\t\tACET\t\tBecome Coder\t\tFemale\n",
      "27\t\t21a91a04j7\t\tAlekhya Dantuluri\t\t21a91a04j7@aec.edu.in\t\tECE\t\t2025\t\tAEC\t\tBecome Coder\t\tFemale\n",
      "28\t\t21p31a0487\t\tGUDIPUDI GEETHIKA \t\t21p31a0487@acet.ac.in\t\tECE\t\t2025\t\tACET\t\tBecome Coder\t\tFemale\n",
      "29\t\t22p35a0409\t\tPAVANI PERURI\t\t22p35a0409@acet.ac.in\t\tECE\t\t2025\t\tACET\t\tBecome Coder\t\tFEMALE\n",
      "30\t\t21p31a0444\t\tNUNE BHAVYA SRI \t\t21p31a0444@acet.ac.in\t\tECE\t\t2025\t\tACET\t\tBecome Coder\t\tFemale\n",
      "31\t\t21p31a0424\t\tKALTURI NAVYA SRI \t\t21p31a0424@acet.ac.in\t\tECE\t\t2025\t\tACET\t\tBecome Coder\t\tFemale\n",
      "32\t\t21p31a0411\t\tBHERI SRI BHARGAVI \t\t21p31a0411@acet.ac.in\t\tECE\t\t2025\t\tACET\t\tBecome Coder\t\tFemale\n",
      "33\t\t21A91A04P3\t\tT N S Gayathri\t\t21a91a04p3@aec.edu.in\t\tECE\t\t2025\t\tAEC\t\tBecome Coder\t\tFemale\n",
      "34\t\t21p31a0491\t\tJEENU BHASKAR ANIL \t\t21p31a0491@acet.ac.in\t\tECE\t\t2025\t\tACET\t\tBecome Coder\t\tMale\n",
      "35\t\t21p31a0496\t\tKUCHIMANCHI VEERA MAHESH \t\t21p31a0496@acet.ac.in\t\tECE\t\t2025\t\tACET\t\tBecome Coder\t\tMale\n",
      "36\t\t21p31a0459\t\tVVSSS DEEPTHI MEGHANA PALEPU \t\t21p31a0459@acet.ac.in\t\tECE\t\t2025\t\tACET\t\tBecome Coder\t\tFemale\n",
      "37\t\t21A91A04O2\t\tSatya Pokanati\t\t21a91a04o2@aec.edu.in\t\tECE\t\t2025\t\tAEC\t\tBecome Coder\t\tMale\n",
      "38\t\t21A91A04K9\t\tManikala Karri\t\t21a91a04k9@aec.edu.in\t\tECE\t\t2025\t\tAEC\t\tBecome Coder\t\tFemale\n",
      "39\t\t21A91A04L4\t\tsudha kommireddy\t\t21a91a04l4@aec.edu.in\t\tECE\t\t2025\t\tAEC\t\tBecome Coder\t\tMale\n",
      "40\t\t21A91A04I8\t\tSravanthi B\t\t21a91a04i8@aec.edu.in\t\tECE\t\t2025\t\tAEC\t\tBecome Coder\t\tFemale\n",
      "41\t\t21p31a04a8\t\tNATTA AKHILANDESWARI \t\t21p31a04a8@acet.ac.in\t\tECE\t\t2025\t\tACET\t\tBecome Coder\t\tFemale\n",
      "42\t\t21p31a0493\t\tFALGUNI KALLA\t\t21p31a0493@acet.ac.in\t\tECE\t\t2025\t\tACET\t\tBecome Coder\t\tFEMALE\n",
      "43\t\t21A91A04O7\t\tLakshmi Pavani\t\t21a91a04o7@aec.edu.in\t\tECE\t\t2025\t\tAEC\t\tBecome Coder\t\tFemale\n",
      "44\t\t21A91A04L2\t\tLekhanapriya Killi\t\t21a91a04l2@aec.edu.in\t\tECE\t\t2025\t\tAEC\t\tBecome Coder\t\tFemale\n",
      "45\t\t21p31a0434\t\tLANKA AKHILA \t\t21p31a0434@acet.ac.in\t\tECE\t\t2025\t\tACET\t\tBecome Coder\t\tFemale\n",
      "46\t\t21p31a04l1\t\tPUPPALA GANGA BALASAGAR\t\t21p31a04l1@acet.ac.in\t\tECE\t\t2025\t\tACET\t\tBecome Coder\t\tMale\n",
      "47\t\t21p31a0470\t\tAVALA ESWAR \t\t21p31a0470@acet.ac.in\t\tECE\t\t2025\t\tACET\t\tBecome Coder\t\tMale\n",
      "48\t\t21p31a04d5\t\tRamya Ramya\t\t21p31a04d5@acet.ac.in\t\tECE\t\t2025\t\tACET\t\tBecome Coder\t\tMale\n",
      "49\t\t21p31a04g4\t\tBhavya Tejaswini Kothapalli\t\t21p31a04g4@acet.ac.in\t\tECE\t\t2025\t\tACET\t\tBecome Coder\t\tMale\n",
      "50\t\t21p31a04f7\t\tGUTTULA POOJA PAVANI\t\t21p31a04f7@acet.ac.in\t\tECE\t\t2025\t\tACET\t\tBecome Coder\t\tFemale\n",
      "51\t\t21p31a04g7\t\tKalyani Kalyani\t\t21p31a04g7@acet.ac.in\t\tECE\t\t2025\t\tACET\t\tBecome Coder\t\tMale\n",
      "52\t\t21p31a0485\t\tGAJULA ANITHA SRI \t\t21p31a0485@acet.ac.in\t\tECE\t\t2025\t\tACET\t\tBecome Coder\t\tMale\n",
      "53\t\t21p31a04c8\t\tVANKA PRAVEEN SIDDHARDHA \t\t21p31a04c8@acet.ac.in\t\tECE\t\t2025\t\tACET\t\tBecome Coder\t\tMale\n",
      "54\t\t21p31a0482\t\tDASARI VENKATARAMANA \t\t21p31a0482@acet.ac.in\t\tECE\t\t2025\t\tACET\t\tBecome Coder\t\tMale\n",
      "55\t\t21p31a04h5\t\tOBHINNI TEJA SRI SHIVANI\t\t21p31a04h5@acet.ac.in\t\tECE\t\t2025\t\tACET\t\tBecome Coder\t\t\n",
      "56\t\t21p31a0412\t\tCHALLA JNANA SRILATHA \t\t21p31a0412@acet.ac.in\t\tECE\t\t2025\t\tACET\t\tBecome Coder\t\tFemale\n",
      "57\t\t21A91A04G0\t\tPICHCHIKA BHAVYA SRI \t\t21a91a04g0@aec.edu.in\t\tECE\t\t2025\t\tAEC\t\tBecome Coder\t\tFemale\n",
      "58\t\t21p31a0429\t\tKONDIPUDI SURYAKALA \t\t21p31a0429@acet.ac.in\t\tECE\t\t2025\t\tACET\t\tBecome Coder\t\tFemale\n",
      "59\t\t21p31a04a7\t\tnarla.swapna bharathi swapna\t\t21p31a04a7@acet.ac.in\t\tECE\t\t2025\t\tACET\t\tBecome Coder\t\tFemale\n",
      "60\t\t21A91A04L9\t\tLakshmi swathi Mahankali\t\t21a91a04l9@aec.edu.in\t\tECE\t\t2025\t\tAEC\t\tBecome Coder\t\tFemale\n",
      "61\t\t21A91A04I4\t\tVenkata Ramana Srividya Angara\t\t21a91a04i4@aec.edu.in\t\tECE\t\t2025\t\tAEC\t\tBecome Coder\t\tFemale\n",
      "62\t\t21A91A04P0\t\tPavan Eswar Simma\t\t21a91a04p0@aec.edu.in\t\tECE\t\t2025\t\tAEC\t\tBecome Coder\t\tMale\n",
      "63\t\t22p35a0401\t\tLAASYA SAKKURI\t\t22p35a0401@acet.ac.in\t\tECE\t\t2025\t\tACET\t\tBecome Coder\t\tFEMALE\n",
      "64\t\t21A91A04D1\t\tGUTTULA RUPA SATYA VEERENDRI \t\t21a91a04d1@aec.edu.in\t\tECE\t\t2025\t\tAEC\t\tBecome Coder\t\tFemale\n",
      "65\t\t21A91A04A9\t\tSHAIK MUNNISHA \t\t21a91a04a9@aec.edu.in\t\tECE\t\t2025\t\tAEC\t\tBecome Coder\t\tFemale\n",
      "66\t\t21A91A0465\t\tARIPIRALA SAI SRI \t\t21a91a0465@aec.edu.in\t\tECE\t\t2025\t\tAEC\t\tBecome Coder\t\tFemale\n",
      "67\t\t21A91A04O9\t\tSeelam Pavani\t\t21a91a04o9@aec.edu.in\t\tECE\t\t2025\t\tAEC\t\tBecome Coder\t\tFemale\n",
      "68\t\t21A91A04D0\t\tGANUGULA SIVA \t\t21a91a04d0@aec.edu.in\t\tECE\t\t2025\t\tAEC\t\tBecome Coder\t\tMale\n",
      "69\t\t21A91A04J9\t\tShyam Kowshik\t\t21a91a04j9@aec.edu.in\t\tECE\t\t2025\t\tAEC\t\tBecome Coder\t\tMale\n",
      "70\t\t21A91A04M8\t\tBhumika reddy Nallamilli\t\t21a91a04m8@aec.edu.in\t\tECE\t\t2025\t\tAEC\t\tBecome Coder\t\tFemale\n",
      "71\t\t21A91A04O4\t\tPullari Arjuna rao\t\t21a91a04o4@aec.edu.in\t\tECE\t\t2025\t\tAEC\t\tBecome Coder\t\tMale\n",
      "72\t\t21p31a04a9\t\tOLETI JAYA KASTURI \t\t21p31a04a9@acet.ac.in\t\tECE\t\t2025\t\tACET\t\tBecome Coder\t\tFemale\n",
      "73\t\t21p31a04b9\t\tREDDY SRI LAKSHMI ROHITA KALYANI \t\t21p31a04b9@acet.ac.in\t\tECE\t\t2025\t\tACET\t\tBecome Coder\t\tFemale\n",
      "74\t\t21p31a04d3\t\tADDAGALLA TULASI\t\t21p31a04d3@acet.ac.in\t\tECE\t\t2025\t\tACET\t\tBecome Coder\t\t\n",
      "75\t\t21p31a0472\t\tSRI VENKATA RAMA NAGA TEJA BAVISETTI\t\t21p31a0472@acet.ac.in\t\tECE\t\t2025\t\tACET\t\tBecome Coder\t\tMale\n",
      "76\t\t21p31a04o5\t\tPONTHAPALLI NEELA SAI SANKAR NIVAS\t\t21p31a04o5@acet.ac.in\t\tECE\t\t2025\t\tACET\t\tBecome Coder\t\tMale\n",
      "77\t\t21p31a0428\t\tKONDAPALLI SIMHADRI \t\t21p31a0428@acet.ac.in\t\tECE\t\t2025\t\tACET\t\tBecome Coder\t\tMale\n",
      "78\t\t21p31a04a1\t\tMOHAMMAD ABDUL AZEEZ KHAN \t\t21p31a04a1@acet.ac.in\t\tECE\t\t2025\t\tACET\t\tBecome Coder\t\tMale\n",
      "79\t\t21p31a04h2\t\tKushita Neti\t\t21p31a04h2@acet.ac.in\t\tECE\t\t2025\t\tACET\t\tBecome Coder\t\tFemale\n",
      "80\t\t21A91A04L6\t\tchennakesava kondaveete\t\t21a91a04l6@aec.edu.in\t\tECE\t\t2025\t\tAEC\t\tBecome Coder\t\tMale\n",
      "81\t\t22p35a0418\t\tKANAKALA HEMA VEERA RAMAKRISHNA\t\t22p35a0418@acet.ac.in\t\tECE\t\t2025\t\tACET\t\tBecome Coder\t\t\n",
      "82\t\t21A91A04P2\t\tSYED TASNEEM \t\t21a91a04p2@aec.edu.in\t\tECE\t\t2025\t\tAEC\t\tBecome Coder\t\tFemale\n",
      "83\t\t21A91A04I9\t\tBHOGI SATHVIKA \t\t21a91a04i9@aec.edu.in\t\tECE\t\t2025\t\tAEC\t\tBecome Coder\t\tFemale\n",
      "84\t\t21A91A04H4\t\tCharan teja Undurthi\t\t21a91a04h4@aec.edu.in\t\tECE\t\t2025\t\tAEC\t\tBecome Coder\t\tMale\n",
      "85\t\t21MH1A04N4\t\tDurga Bhavani M\t\t21mh1a04n4@acoe.edu.in\t\tECE\t\t2025\t\tACOE\t\tBecome Coder\t\tFemale\n",
      "86\t\t21A91A04J3\t\tIndhumeghana Cheekatla\t\t21a91a04j3@aec.edu.in\t\tECE\t\t2025\t\tAEC\t\tBecome Coder\t\tFemale\n",
      "87\t\t21p31a04e4\t\tBurra Satyanarayana\t\t21p31a04e4@acet.ac.in\t\tECE\t\t2025\t\tACET\t\tBecome Coder\t\t\n",
      "88\t\t21p31a0432\t\tKUNDALA KRISHNA VENI \t\t21p31a0432@acet.ac.in\t\tECE\t\t2025\t\tACET\t\tBecome Coder\t\tFemale\n",
      "89\t\t21p31a0492\t\tKADALI KOUSALYA \t\t21p31a0492@acet.ac.in\t\tECE\t\t2025\t\tACET\t\tBecome Coder\t\tFemale\n",
      "90\t\t21p31a0476\t\tBONAGIRI CHARAN KOUSALYA \t\t21p31a0476@acet.ac.in\t\tECE\t\t2025\t\tACET\t\tBecome Coder\t\tFemale\n",
      "91\t\t21A91A04D4\t\tJAHNAVI SARAGADA \t\t21a91a04d4@aec.edu.in\t\tECE\t\t2025\t\tAEC\t\tBecome Coder\t\tFemale\n",
      "92\t\t21p31a0467\t\tADDALA NIHARIKA \t\t21p31a0467@acet.ac.in\t\tECE\t\t2025\t\tACET\t\tBecome Coder\t\tFemale\n",
      "93\t\t21A91A04E6\t\tN. Harika Harika\t\t21a91a04e6@aec.edu.in\t\tECE\t\t2025\t\tAEC\t\tBecome Coder\t\tFemale\n",
      "94\t\t21p31a04i7\t\tVanaja Ryali\t\t21p31a04i7@acet.ac.in\t\tECE\t\t2025\t\tACET\t\tBecome Coder\t\tFemale\n",
      "95\t\t21A91A04L8\t\tKUPPALA SRIVALLI\t\t21a91a04l8@aec.edu.in\t\tECE\t\t2025\t\tAEC\t\tBecome Coder\t\tFemale\n",
      "96\t\t21p31a04c6\t\tVALAVALA SESHU SRI \t\t21p31a04c6@acet.ac.in\t\tECE\t\t2025\t\tACET\t\tBecome Coder\t\tFemale\n",
      "97\t\t21A91A0413\t\tSneha Aishwarya\t\t21a91a0413@aec.edu.in\t\tECE\t\t2025\t\tAEC\t\tBecome Coder\t\tFemale\n",
      "98\t\t21A91A04F1\t\tRakesh Nelli\t\t21a91a04f1@aec.edu.in\t\tECE\t\t2025\t\tAEC\t\tBecome Coder\t\tMale\n",
      "99\t\t21A91A04B5\t\tTekkam Vardhan\t\t21a91a04b5@aec.edu.in\t\tECE\t\t2025\t\tAEC\t\tBecome Coder\t\tMale\n",
      "100\t\t21A91A04I1\t\tKavya sri Achanta\t\t21a91a04i1@aec.edu.in\t\tECE\t\t2025\t\tAEC\t\tBecome Coder\t\tFemale\n",
      "101\t\t21A91A04P5\t\tPavithra Thummapala\t\t21a91a04p5@aec.edu.in\t\tECE\t\t2025\t\tAEC\t\tBecome Coder\t\tFemale\n",
      "102\t\t21A91A0495\t\tPENTA LIKHITHA \t\t21a91a0495@aec.edu.in\t\tECE\t\t2025\t\tAEC\t\tBecome Coder\t\tFemale\n",
      "103\t\t21MH1A04O7\t\tSASI KUMAR SHAVUKARU\t\t21mh1a04o7@acoe.edu.in\t\tECE\t\t2025\t\tACOE\t\tBecome Coder\t\tMale\n",
      "104\t\t21MH1A04L4\t\tSHANMUKH SRINIVAS GADIPARTHI\t\t21mh1a04l4@acoe.edu.in\t\tECE\t\t2025\t\tACOE\t\tBecome Coder\t\tMale\n",
      "105\t\t21MH1A04Q1\t\tYallapu Yaswanth Kumar\t\t21mh1a04q1@acoe.edu.in\t\tECE\t\t2023\t\tACOE\t\tBecome Coder\t\tMale\n",
      "106\t\t21p31a04n8\t\tDurga Srinivas Pasumarthi\t\t21p31a04n8@acet.ac.in\t\tECE\t\t2025\t\tACET\t\tBecome Coder\t\tMale\n",
      "107\t\t21p31a04n0\t\tMENDA GANESH\t\t21p31a04n0@acet.ac.in\t\tECE\t\t2025\t\tACET\t\tBecome Coder\t\t\n",
      "108\t\t21A91A0498\t\tPULAPALLI JASHUVADANIEL\t\t21a91a0498@aec.edu.in\t\tECE\t\t2025\t\tAEC\t\tBecome Coder\t\tMale\n",
      "109\t\t21p31a04b6\t\tRAMAYANAM SATYA SIVA MANI KRISHNA \t\t21p31a04b6@acet.ac.in\t\tECE\t\t2025\t\tACET\t\tBecome Coder\t\tMale\n",
      "110\t\t21p31a0416\t\tDANGETI SANTOSH SANVESH \t\t21p31a0416@acet.ac.in\t\tECE\t\t2025\t\tACET\t\tBecome Coder\t\tMale\n",
      "111\t\t21p31a0455\t\tSUDHARSHAN DASARI JAGANNADHRAO \t\t21p31a0455@acet.ac.in\t\tECE\t\t2025\t\tACET\t\tBecome Coder\t\tMale\n",
      "112\t\t21P31A0409\t\tBANDI NITESH \t\t21p31a0409@acet.ac.in\t\tECE\t\t2025\t\tACET\t\tBecome Coder\t\tMale\n",
      "113\t\t21P31A0449\t\tREKADI GREESHMA \t\t21p31a0449@acet.ac.in\t\tECE\t\t2025\t\tACET\t\tBecome Coder\t\tFemale\n",
      "114\t\t21P31A0422\t\tGUTHULA ADITYA VENKATA SAI \t\t21p31a0422@acet.ac.in\t\tECE\t\t2025\t\tACET\t\tBecome Coder\t\tMale\n",
      "115\t\t21A91A04H9\t\tDinesh Chandra\t\t21a91a04h9@aec.edu.in\t\tECE\t\t2025\t\tAEC\t\tBecome Coder\t\t\n",
      "116\t\t21A91A04H8\t\tMEDISETTI VENKATESH \t\t21a91a04h8@aec.edu.in\t\tECE\t\t2025\t\tAEC\t\tBecome Coder\t\tMale\n",
      "117\t\t21P31A0417\t\tGANDI GANGA \t\t21p31a0417@acet.ac.in\t\tECE\t\t2025\t\tACET\t\tBecome Coder\t\tFemale\n",
      "118\t\t21A91A04M2\t\tRajesh Mardani\t\t21a91a04m2@aec.edu.in\t\tECE\t\t2025\t\tAEC\t\tBecome Coder\t\tMale\n",
      "119\t\t21A91A04H1\t\tUshha Sree Thota\t\t21a91a04h1@aec.edu.in\t\tECE\t\t2025\t\tAEC\t\tBecome Coder\t\t\n",
      "120\t\t21A91A04I6\t\tRamya Balusu\t\t21a91a04i6@aec.edu.in\t\tECE\t\t2025\t\tAEC\t\tBecome Coder\t\tFemale\n",
      "121\t\t21A91A04N4\t\tpalla sai yasaswi\t\t21a91a04n4@aec.edu.in\t\tECE\t\t2025\t\tAEC\t\tBecome Coder\t\tFemale\n",
      "122\t\t21P31A04Q2\t\tYerubandi UmaBharathi\t\t21p31a04q2@acet.ac.in\t\tECE\t\t2025\t\tACET\t\tBecome Coder\t\tFemale\n",
      "123\t\t22P35A0413\t\tKATTAMURI SAI DEVI MAHALAKSHMI\t\t22p35a0413@acet.ac.in\t\tECE\t\t2025\t\tACET\t\tBecome Coder\t\t\n",
      "124\t\t21A91A04B0\t\tSk.mustak Ahamed\t\t21a91a04b0@aec.edu.in\t\tECE\t\t2025\t\tAEC\t\tBecome Coder\t\tMale\n",
      "125\t\t21A91A0470\t\tSuvarnaraju Gera\t\t21a91a0470@aec.edu.in\t\tECE\t\t2025\t\tAEC\t\tBecome Coder\t\tMale\n",
      "126\t\t21P31A0451\t\tSAGINELA NAVEEN KUMAR \t\t21p31a0451@acet.ac.in\t\tECE\t\t2025\t\tACET\t\tBecome Coder\t\tMale\n",
      "127\t\t21A91A04J5\t\tbhanu sri chinthalapudi\t\t21a91a04j5@aec.edu.in\t\tECE\t\t2025\t\tAEC\t\tBecome Coder\t\t\n",
      "128\t\t21A91A04Q1\t\tJahnavi vemulapalli\t\t21a91a04q1@aec.edu.in\t\tECE\t\t2025\t\tAEC\t\tBecome Coder\t\tFemale\n",
      "129\t\t21A91A04M9\t\tPriyanka Nallamilli\t\t21a91a04m9@aec.edu.in\t\tECE\t\t2025\t\tAEC\t\tBecome Coder\t\tFemale\n",
      "130\t\t21A91A04C8\t\tDANGETI Veera Nageswara rao\t\t21a91a04c8@aec.edu.in\t\tECE\t\t2025\t\tAEC\t\tBecome Coder\t\tMALE\n",
      "131\t\t21A91A04F6\t\tBhavani shankar Palli\t\t21a91a04f6@aec.edu.in\t\tECE\t\t2025\t\tAEC\t\tBecome Coder\t\tMale\n",
      "132\t\t21P31A0447\t\tPATNALA SAI VENKATA PRABHAKAR \t\t21p31a0447@acet.ac.in\t\tECE\t\t2025\t\tACET\t\tBecome Coder\t\tMale\n",
      "133\t\t21P31A0461\t\tVELCHURI TARUN VEERA SAI KIRAN\t\t21p31a0461@acet.ac.in\t\tECE\t\t2025\t\tACET\t\tBecome Coder\t\tMale\n",
      "134\t\t21P31A04E5\t\tCHITTABATHULA NITHIN KUMAR\t\t21p31a04e5@acet.ac.in\t\tECE\t\t2025\t\tACET\t\tBecome Coder\t\tMale\n",
      "135\t\t21P31A04H1\t\tMOHAMMAD SAIFF\t\t21p31a04h1@acet.ac.in\t\tECE\t\t2025\t\tACET\t\tBecome Coder\t\tMale\n",
      "136\t\t21P31A04D7\t\tBASWA SATYA TEJASWI\t\t21p31a04d7@acet.ac.in\t\tECE\t\t2025\t\tACET\t\tBecome Coder\t\tFemale\n",
      "137\t\t21P31A04G2\t\tSai pravallika Kola\t\t21p31a04g2@acet.ac.in\t\tECE\t\t2025\t\tACET\t\tBecome Coder\t\tFemale\n",
      "138\t\t21P31A04I9\t\tSanthi Swarupa\t\t21p31a04i9@acet.ac.in\t\tECE\t\t2025\t\tACET\t\tBecome Coder\t\tFemale\n",
      "139\t\t21A91A04F7\t\tPAMARTHI VIJAY LAKSHMAN KUMAR \t\t21a91a04f7@aec.edu.in\t\tECE\t\t2025\t\tAEC\t\tBecome Coder\t\tMale\n",
      "140\t\t21A91A0436\t\tNAKKA ESWAR SATYA VARUN \t\t21a91a0436@aec.edu.in\t\tECE\t\t2025\t\tAEC\t\tBecome Coder\t\t\n",
      "141\t\t21A91A0477\t\tKOMALI SAI GIRISHA \t\t21a91a0477@aec.edu.in\t\tECE\t\t2025\t\tAEC\t\tBecome Coder\t\tFemale\n",
      "142\t\t21A91A0484\t\tMOHAMMAD HANEEFA \t\t21a91a0484@aec.edu.in\t\tECE\t\t2025\t\tAEC\t\tBecome Coder\t\tFemale\n",
      "143\t\t21p31a04c7\t\tVANACHARLA BALA KRISHNA \t\t21p31a04c7@acet.ac.in\t\tECE\t\t2025\t\tACET\t\tBecome Coder\t\tMale\n",
      "144\t\t21p31a0469\t\tARI LALITHA \t\t21p31a0469@acet.ac.in\t\tECE\t\t2025\t\tACET\t\tBecome Coder\t\tFemale\n",
      "145\t\t21p31a0499\t\tLEELA SUNITHA MALIREDDY\t\t21p31a0499@acet.ac.in\t\tECE\t\t2025\t\tACET\t\tBecome Coder\t\tFEMALE\n",
      "146\t\t22p35a0416\t\tNADIKATLA SRINIVAS\t\t22p35a0416@acet.ac.in\t\tECE\t\t2025\t\tACET\t\tBecome Coder\t\t\n",
      "147\t\t21p31a04j0\t\tSneha sri Siriki\t\t21p31a04j0@acet.ac.in\t\tECE\t\t2025\t\tACET\t\tBecome Coder\t\tMale\n",
      "148\t\t21p31a04c0\t\tRisitha Revu\t\t21p31a04c0@acet.ac.in\t\tECE\t\t2025\t\tACET\t\tBecome Coder\t\tFEMALE\n",
      "149\t\t21p31a04k1\t\tARTHAKATLA ASHA JYOTHI\t\t21p31a04k1@acet.ac.in\t\tECE\t\t2025\t\tACET\t\tBecome Coder\t\tFemale\n",
      "150\t\t21A91A04O0\t\tPavansrisai Pentapati\t\t21a91a04o0@aec.edu.in\t\tECE\t\t2025\t\tAEC\t\tBecome Coder\t\tMale\n",
      "151\t\t21A91A04N3\t\tDevi priyanka Osireddy\t\t21a91a04n3@aec.edu.in\t\tECE\t\t2025\t\tAEC\t\tBecome Coder\t\tFemale\n",
      "152\t\t21A91A04I0\t\tYELLAPU SAI BHANDAVI \t\t21a91a04i0@aec.edu.in\t\tECE\t\t2025\t\tAEC\t\tBecome Coder\t\tFemale\n",
      "153\t\t21A91A04G7\t\tTADEPALLI KEERTHI PRIYA \t\t21a91a04g7@aec.edu.in\t\tECE\t\t2025\t\tAEC\t\tBecome Coder\t\tFemale\n",
      "154\t\t21A91A04H6\t\tVEMANA SAI NIKHITHA \t\t21a91a04h6@aec.edu.in\t\tECE\t\t2025\t\tAEC\t\tBecome Coder\t\tFemale\n",
      "155\t\t21A91A04N7\t\tAnanya Pemmanaboyidi\t\t21a91a04n7@aec.edu.in\t\tECE\t\t2025\t\tAEC\t\tBecome Coder\t\tFemale\n",
      "156\t\t21A91A04H0\t\tTHOTA SATYA SURYA \t\t21a91a04h0@aec.edu.in\t\tECE\t\t2025\t\tAEC\t\tBecome Coder\t\tMale\n",
      "157\t\t21A91A04D3\t\tILLURI SRAVANI \t\t21a91a04d3@aec.edu.in\t\tECE\t\t2025\t\tAEC\t\tBecome Coder\t\tFemale\n",
      "158\t\t21A91A04F2\t\tNIHARIKA CHINTAKULA \t\t21a91a04f2@aec.edu.in\t\tECE\t\t2025\t\tAEC\t\tBecome Coder\t\tFemale\n",
      "159\t\t21A91A04G6\t\tSUNKARA ALEKHYA SAI \t\t21a91a04g6@aec.edu.in\t\tECE\t\t2025\t\tAEC\t\tBecome Coder\t\tFemale\n",
      "160\t\t21P31A04L0\t\tCHITRA MANASA\t\t21p31a04l0@acet.ac.in\t\tECE\t\t2025\t\tACET\t\tBecome Coder\t\tFemale\n",
      "161\t\t21A91A04J2\t\tAishwarya Chamarthy\t\t21a91a04j2@aec.edu.in\t\tECE\t\t2025\t\tAEC\t\tBecome Coder\t\tFemale\n",
      "162\t\t21A91A04L7\t\tKoppisetty Sree Naga Devi Sindhusha\t\t21a91a04l7@aec.edu.in\t\tECE\t\t2025\t\tAEC\t\tBecome Coder\t\tFemale\n",
      "163\t\t21A91A04J1\t\tCHALLAPALLI VAISHNAVI \t\t21a91a04j1@aec.edu.in\t\tECE\t\t2025\t\tAEC\t\tBecome Coder\t\tFemale\n",
      "164\t\t21P31A04K5\t\tBoddeti Veerabhadrarao\t\t21p31a04k5@acet.ac.in\t\tECE\t\t2025\t\tACET\t\tBecome Coder\t\tMale\n",
      "165\t\t21A91A04I5\t\tSuvamsa Badarla\t\t21a91a04i5@aec.edu.in\t\tECE\t\t2025\t\tAEC\t\tBecome Coder\t\tFemale\n",
      "166\t\t21p31a0466\t\tYEPURI SRI VENKATA NIKHIL \t\t21p31a0466@acet.ac.in\t\tECE\t\t2025\t\tACET\t\tBecome Coder\t\tMale\n",
      "167\t\t21p31a0456\t\tSUJANMULK GOPICHAND \t\t21p31a0456@acet.ac.in\t\tECE\t\t2025\t\tACET\t\tBecome Coder\t\tMale\n",
      "168\t\t21A91A04A0\t\tPUTTA LOCHANA VIJAYA \t\t21a91a04a0@aec.edu.in\t\tECE\t\t2025\t\tAEC\t\tBecome Coder\t\tFemale\n",
      "169\t\t21A91A0478\t\tKOPPISETTI AMRUTHA \t\t21a91a0478@aec.edu.in\t\tECE\t\t2025\t\tAEC\t\tBecome Coder\t\tFemale\n",
      "170\t\t21A91A04B3\t\tJyothi Sunkara\t\t21a91a04b3@aec.edu.in\t\tECE\t\t2025\t\tAEC\t\tBecome Coder\t\tFemale\n"
     ]
    },
    {
     "name": "stdout",
     "output_type": "stream",
     "text": [
      "171\t\t21A91A04E8\t\tNARAVA CHANDRA MOULI \t\t21a91a04e8@aec.edu.in\t\tECE\t\t2025\t\tAEC\t\tBecome Coder\t\tMale\n",
      "172\t\t21A91A0471\t\tGONDELA MADHU SRI LAKSHMI \t\t21a91a0471@aec.edu.in\t\tECE\t\t2025\t\tAEC\t\tBecome Coder\t\tFemale\n",
      "173\t\t21A91A04L0\t\tKasireddi shekar\t\t21a91a04l0@aec.edu.in\t\tECE\t\t2025\t\tAEC\t\tBecome Coder\t\tMale\n",
      "174\t\t21A91A04I2\t\tAkana Padmarao\t\t21a91a04i2@aec.edu.in\t\tECE\t\t2025\t\tAEC\t\tBecome Coder\t\t\n",
      "175\t\t21A91A04F3\t\tNUKALA NAGA SAI RAVITEJA \t\t21a91a04f3@aec.edu.in\t\tECE\t\t2025\t\tAEC\t\tBecome Coder\t\tMale\n",
      "176\t\t21A91A0485\t\tMOHAMMED NASREEN MAIMOON \t\t21a91a0485@aec.edu.in\t\tECE\t\t2025\t\tAEC\t\tBecome Coder\t\tFemale\n",
      "177\t\t21A91A0487\t\tNAMANA KAVYA VINEELA \t\t21a91a0487@aec.edu.in\t\tECE\t\t2025\t\tAEC\t\tBecome Coder\t\tFemale\n",
      "178\t\t21A91A0430\t\tMATTA PUJITHA \t\t21a91a0430@aec.edu.in\t\tECE\t\t2025\t\tAEC\t\tBecome Coder\t\tFemale\n",
      "179\t\t21A91A0466\t\tCHAKKAPALLI DEVI \t\t21a91a0466@aec.edu.in\t\tECE\t\t2025\t\tAEC\t\tBecome Coder\t\tFemale\n",
      "180\t\t21A91A04N9\t\tEsther Rani\t\t21a91a04n9@aec.edu.in\t\tECE\t\t2025\t\tAEC\t\tBecome Coder\t\tFemale\n",
      "181\t\t21P31A04M5\t\tLADDIKA DEVI SRAVYA\t\t21p31a04m5@acet.ac.in\t\tECE\t\t2025\t\tACET\t\tBecome Coder\t\tFemale\n",
      "182\t\t21P31A04O2\t\tPENNADA SRI PHANIRATHNAM\t\t21p31a04o2@acet.ac.in\t\tECE\t\t2025\t\tACET\t\tBecome Coder\t\tFemale\n",
      "183\t\t21P31A04G6\t\tSwathi Kurakula\t\t21p31a04g6@acet.ac.in\t\tECE\t\t2025\t\tACET\t\tBecome Coder\t\tFemale\n",
      "184\t\t21P31A04I6\t\tHepsiba Reddi\t\t21p31a04i6@acet.ac.in\t\tECE\t\t2025\t\tACET\t\tBecome Coder\t\tMale\n",
      "185\t\t21A91A04Q4\t\tsurekha yarra\t\t21a91a04q4@aec.edu.in\t\tECE\t\t2025\t\tAEC\t\tBecome Coder\t\tFemale\n",
      "186\t\t21P31A04O0\t\tPEDDIREDDY HARIKA\t\t21p31a04o0@acet.ac.in\t\tECE\t\t2025\t\tACET\t\tBecome Coder\t\tFemale\n",
      "187\t\t21A91A04O5\t\tJaya Venkata Naga Sai Sushma Purre\t\t21a91a04o5@aec.edu.in\t\tECE\t\t2025\t\tAEC\t\tBecome Coder\t\tFemale\n",
      "188\t\t21A91A04D7\t\tKANUBOINA GOPALA KRISHNA \t\t21a91a04d7@aec.edu.in\t\tECE\t\t2025\t\tAEC\t\tBecome Coder\t\tMale\n",
      "189\t\t21P31A04N2\t\tNICHENAKOLLA VASANTHI\t\t21p31a04n2@acet.ac.in\t\tECE\t\t2025\t\tACET\t\tBecome Coder\t\t\n",
      "190\t\t21P31A04I0\t\tVara Prasad Perabathula\t\t21p31a04i0@acet.ac.in\t\tECE\t\t2025\t\tACET\t\tBecome Coder\t\tMale\n",
      "191\t\t21P31A04F1\t\tDUGGIRALA SAI RAM NIVAS\t\t21p31a04f1@acet.ac.in\t\tECE\t\t2025\t\tACET\t\tBecome Coder\t\t\n",
      "192\t\t21P31A04I2\t\tPILLA ANIL KUMAR\t\t21p31a04i2@acet.ac.in\t\tECE\t\t2025\t\tACET\t\tBecome Coder\t\tMale\n",
      "193\t\t21P31A04I8\t\tS.v.v.d. Ganapathi\t\t21p31a04i8@acet.ac.in\t\tECE\t\t2025\t\tACET\t\tBecome Coder\t\tMale\n",
      "194\t\t21P31A04J5\t\tSai teja Vundavilli\t\t21p31a04j5@acet.ac.in\t\tECE\t\t2025\t\tACET\t\tBecome Coder\t\tMale\n",
      "195\t\t21P31A04G5\t\tKURAKULA NITIN\t\t21p31a04g5@acet.ac.in\t\tECE\t\t2025\t\tACET\t\tBecome Coder\t\tMale\n",
      "196\t\t21p31a04P2\t\tTAMILISETTY PRAVALLIKA REDDY\t\t21p31a04p2@acet.ac.in\t\tECE\t\t2025\t\tACET\t\tBecome Coder\t\tFemale\n",
      "197\t\t21A91A0457\t\tVELAMARTHI HEMANTH \t\t21a91a0457@aec.edu.in\t\tECE\t\t2025\t\tAEC\t\tBecome Coder\t\tMALE\n",
      "198\t\t21A91A04O1\t\tBHAVYA SRI\t\t21a91a04o1@aec.edu.in\t\tECE\t\t2025\t\tAEC\t\tBecome Coder\t\tFemale\n",
      "199\t\t21A91A04N1\t\tGanga Bhavani Naralasetti\t\t21a91a04n1@aec.edu.in\t\tECE\t\t2025\t\tAEC\t\tBecome Coder\t\tFemale\n",
      "200\t\t21A91A04P6\t\tTripurari Naga Durga Aditya Sundar\t\t21a91a04p6@aec.edu.in\t\tECE\t\t2025\t\tAEC\t\tBecome Coder\t\tMale\n",
      "201\t\t21A91A04M7\t\tsatya venkata sai Nakka\t\t21a91a04m7@aec.edu.in\t\tECE\t\t2025\t\tAEC\t\tBecome Coder\t\tMale\n",
      "202\t\t21P31A04L7\t\tKADA RAJESWARI\t\t21p31a04l7@acet.ac.in\t\tECE\t\t2025\t\tACET\t\tBecome Coder\t\tFemale\n",
      "203\t\t21P31A04L8\t\tBHANUJA SRI VISALA SRAVYA KALAPU\t\t21p31a04l8@acet.ac.in\t\tEce\t\t2025\t\tACET\t\tBecome Coder\t\t\n",
      "204\t\t21P31A0413\t\tSARASWATHI CHIEKATLA\t\t21p31a0413@acet.ac.in\t\tECE\t\t2025\t\tACET\t\tBecome Coder\t\t\n",
      "205\t\t21A91A04F5\t\tPACHINEELAM ADITYA \t\t21a91a04f5@aec.edu.in\t\tECE\t\t2025\t\tAEC\t\tBecome Coder\t\tMale\n",
      "206\t\t21A91A0449\t\tSHAIK AHAMAD ABDUL KHADAR \t\t21a91a0449@aec.edu.in\t\tECE\t\t2025\t\tAEC\t\tBecome Coder\t\tMale\n",
      "207\t\t21A91A0422\t\tKALIDINDI SRI NAGA RAMESH \t\t21a91a0422@aec.edu.in\t\tECE\t\t2025\t\tAEC\t\tBecome Coder\t\tMale\n",
      "208\t\t21A91A0451\t\tTELLAGORLA GUNABHIRAM YADAV \t\t21a91a0451@aec.edu.in\t\tECE\t\t2025\t\tAEC\t\tBecome Coder\t\tMale\n",
      "209\t\t21A91A04K8\t\tdivya lakshmi Kantam\t\t21a91a04k8@aec.edu.in\t\tECE\t\t2025\t\tAEC\t\tBecome Coder\t\tFemale\n",
      "210\t\t22P35A0422\t\tPOLNATI VINAY KUMAR\t\t22p35a0422@acet.ac.in\t\tECE\t\t2025\t\tACET\t\tBecome Coder\t\t\n",
      "211\t\t21P31A04K0\t\tAKETI SRI SANDEEP\t\t21p31a04k0@acet.ac.in\t\tECE\t\t2025\t\tACET\t\tBecome Coder\t\tMale\n",
      "212\t\t21P31A04L9\t\tKANCHARANA VAMSI\t\t21p31a04l9@acet.ac.in\t\tECE\t\t2025\t\tACET\t\tBecome Coder\t\tMale\n",
      "213\t\t21P31A04K3\t\tBANDARU SRI VEERA SAI GANESH\t\t21p31a04k3@acet.ac.in\t\tECE\t\t2025\t\tACET\t\tBecome Coder\t\tMale\n",
      "214\t\t21P31A04N7\t\tKarthik Pampana\t\t21p31a04n7@acet.ac.in\t\tECE\t\t2025\t\tACET\t\tBecome Coder\t\tMale\n",
      "215\t\t21P31A04P8\t\tDurga prasad Veduruparthy\t\t21p31a04p8@acet.ac.in\t\tECE\t\t2025\t\tACET\t\tBecome Coder\t\tMale\n",
      "216\t\t21P31A04D8\t\tBERA VAMSI KRISHNA\t\t21p31a04d8@acet.ac.in\t\tECE\t\t2025\t\tACET\t\tBecome Coder\t\tMale\n",
      "217\t\t21A91A0463\t\tALLAM THRIMURTHULU \t\t21a91a0463@aec.edu.in\t\tECE\t\t2025\t\tAEC\t\tBecome Coder\t\tMale\n",
      "218\t\t21P31A04I3\t\tPILLI RUPAVATHI\t\t21p31a04i3@acet.ac.in\t\tECE\t\t2025\t\tACET\t\tBecome Coder\t\tFemale\n",
      "219\t\t21A91A04I7\t\tSriram Bandaru\t\t21a91a04i7@aec.edu.in\t\tECE\t\t2025\t\tAEC\t\tBecome Coder\t\tMale\n",
      "220\t\t21A91A04K2\t\tG.Ganga Sagar\t\t21a91a04k2@aec.edu.in\t\tECE\t\t2025\t\tAEC\t\tBecome Coder\t\tMale\n",
      "221\t\t21A91A04O3\t\tSathwik polineni\t\t21a91a04o3@aec.edu.in\t\tECE\t\t2025\t\tAEC\t\tBecome Coder\t\tMale\n",
      "222\t\t21A91A04K4\t\tVishal Sai Krishna anand\t\t21a91a04k4@aec.edu.in\t\tECE\t\t2025\t\tAEC\t\tBecome Coder\t\tMale\n",
      "223\t\t21P31A04O8\t\tSALAGRAMA SRI VAISHNAVI\t\t21p31a04o8@acet.ac.in\t\tECE\t\t2025\t\tACET\t\tBecome Coder\t\tFemale\n",
      "224\t\t21P31A04O6\t\tSai Lakshmi Pusarla\t\t21p31a04o6@acet.ac.in\t\tECE\t\t2025\t\tACET\t\tBecome Coder\t\tFemale\n",
      "225\t\t21A91A04K7\t\tMadhan Kandregula\t\t21a91a04k7@aec.edu.in\t\tECE\t\t2025\t\tAEC\t\tBecome Coder\t\tMale\n",
      "226\t\t21P31A04N6\t\tPALURI YAGNA SURYA MAHALAKSHMI\t\t21p31a04n6@acet.ac.in\t\tECE\t\t2025\t\tACET\t\tBecome Coder\t\tFemale\n",
      "227\t\t21A91A04L3\t\tHari vinay Koilada\t\t21a91a04l3@aec.edu.in\t\tECE\t\t2025\t\tAEC\t\tBecome Coder\t\tMale\n",
      "228\t\t21A91A0446\t\tRAYUDU ABHISHEK \t\t21a91a0446@aec.edu.in\t\tECE\t\t2025\t\tAEC\t\tBecome Coder\t\tMale\n",
      "229\t\t21A91A04K0\t\tShanmukh Duvvuri\t\t21a91a04k0@aec.edu.in\t\tECE\t\t2025\t\tAEC\t\tBecome Coder\t\tMale\n",
      "230\t\t21A91A0428\t\tMANNE L V DURGA \t\t21a91a0428@aec.edu.in\t\tECE\t\t2025\t\tAEC\t\tBecome Coder\t\t\n",
      "231\t\t21A91A04Q0\t\tVeera sankara siva sai Elishetti\t\t21a91a04q0@aec.edu.in\t\tECE\t\t2025\t\tAEC\t\tBecome Coder\t\tMale\n",
      "232\t\t21A91A04O6\t\tRAYUDU HARSHAVARDHAN \t\t21a91a04o6@aec.edu.in\t\tECE\t\t2025\t\tAEC\t\tBecome Coder\t\tMale\n",
      "233\t\t21MH1A04K2\t\tAreti Bhanu subha venkat\t\t21mh1a04k2@acoe.edu.in\t\tECE\t\t2025\t\tACOE\t\tBecome Coder\t\tMale\n",
      "234\t\t21p31a04h7\t\tMANIKANTA PALEPU\t\t21p31a04h7@acet.ac.in\t\tECE\t\t2025\t\tACET\t\tBecome Coder\t\tMale\n",
      "235\t\t21mh1a04j2\t\tLOVANA VAKADA\t\t21mh1a04j2@acoe.edu.in\t\tECE\t\t2025\t\tACOE\t\tBecome Coder\t\tFemale\n",
      "236\t\t21A91A04N2\t\tNEMALA SANDHYA \t\t21a91a04n2@aec.edu.in\t\tECE\t\t2025\t\tAEC\t\tBecome Coder\t\tFemale\n",
      "237\t\t21A91A04H7\t\tVENGALADASU VEERA VENKATA SURYA TEJA \t\t21a91a04h7@aec.edu.in\t\tECE\t\t2025\t\tAEC\t\tBecome Coder\t\tMale\n",
      "238\t\t21A91A0437\t\tRavi Kiran\t\t21a91a0437@aec.edu.in\t\tECE\t\t2025\t\tAEC\t\tBecome Coder\t\tMale\n",
      "239\t\t21MH1A04E6\t\tHarika Sangadi\t\t21mh1a04e6@acoe.edu.in\t\tECE\t\t2025\t\tACOE\t\tBecome Coder\t\tFemale\n",
      "240\t\t21A91A04Q2\t\tKarishma Vemulapalli\t\t21a91a04q2@aec.edu.in\t\tECE\t\t2025\t\tAEC\t\tBecome Coder\t\tFemale\n",
      "241\t\t21P31A04K6\t\tBONAM RAMA CHANDRIKA\t\t21p31a04k6@acet.ac.in\t\tECE\t\t2025\t\tACET\t\tBecome Coder\t\tFemale\n",
      "242\t\t21P31A04O4\t\tPONNAMALLA SUVARNA\t\t21p31a04o4@acet.ac.in\t\tECE\t\t2025\t\tACET\t\tBecome Coder\t\tFemale\n",
      "243\t\t21A91A04P9\t\tAnusha Vajrala\t\t21a91a04p9@aec.edu.in\t\tECE\t\t2025\t\tAEC\t\tBecome Coder\t\t\n",
      "244\t\t21P31A0477\t\tBYRISETTI HARISH \t\t21p31a0477@acet.ac.in\t\tECE\t\t2025\t\tACET\t\tBecome Coder\t\tMale\n",
      "245\t\t21A91A04M5\t\tMUKKAPATI CHANDU \t\t21a91a04m5@aec.edu.in\t\tECE\t\t2025\t\tAEC\t\tBecome Coder\t\tFemale\n",
      "246\t\t21p31a04p4\t\tTENTU INDRAJA\t\t21p31a04p4@acet.ac.in\t\tECE\t\t2025\t\tACET\t\tBecome Coder\t\tFemale\n",
      "247\t\t21P31A04K7\t\tSatish Chelluboina\t\t21p31a04k7@acet.ac.in\t\tECE\t\t2023\t\tACET\t\tBecome Coder\t\tMale\n",
      "248\t\t21A91A04I3\t\tALLAM PUSHPA DURGA LAKSHMI PRIYA \t\t21a91a04i3@aec.edu.in\t\tECE\t\t2025\t\tAEC\t\tBecome Coder\t\tFemale\n",
      "249\t\t21P31A0484\t\tDUVVARAPU YUVA KUMAR \t\t21p31a0484@acet.ac.in\t\tECE\t\t2025\t\tACET\t\tBecome Coder\t\tMale\n"
     ]
    }
   ],
   "source": [
    "import csv\n",
    "import itertools as it\n",
    "with open(\"C:\\\\Users\\\\DELL\\\\Desktop\\\\Paid Students.csv\",\"r\") as f:\n",
    "    # reader object\n",
    "    data = csv.reader(f)\n",
    "    llist = list(data)\n",
    "    for i in llist:\n",
    "        print(*i, sep ='\\t\\t')"
   ]
  },
  {
   "cell_type": "code",
   "execution_count": 50,
   "id": "441f19f8",
   "metadata": {},
   "outputs": [
    {
     "name": "stdout",
     "output_type": "stream",
     "text": [
      "[['ï»¿S.No', 'Roll Number', 'Name', 'Email', 'Branch', 'Year', 'College', 'Course', 'Gender'], ['1', '21p31a0421', 'Chandini priya Gundubogula', '21p31a0421@acet.ac.in', 'ECE', '2025', 'ACET', 'Become Coder', 'Female'], ['2', '21P31A04C2', 'SINGIREDDY VIJAYA VENKATA LAKSHMI ', '21p31a04c2@acet.ac.in', 'ECE', '2025', 'ACET', 'Become Coder', 'Female'], ['3', '21p31a04o7', 'ROLLA VEERA KRISHNA DEVI GAYATRI', '21p31a04o7@acet.ac.in', 'ECE', '2025', 'ACET', 'Become Coder', 'Female'], ['4', '21p31a0430', 'KOSURI VANDANA ', '21p31a0430@acet.ac.in', 'ECE', '2025', 'ACET', 'Become Coder', 'Female'], ['5', '21p31a0452', 'SATYA ANUSHA SIDDA', '21p31a0452@acet.ac.in', 'ECE', '2025', 'ACET', 'Become Coder', 'FEMALE'], ['6', '21p31a0437', 'MAMIDALA TULASI SAI RAMA SATYA VANI ', '21p31a0437@acet.ac.in', 'ECE', '2025', 'ACET', 'Become Coder', 'Female'], ['7', '21p31a0415', 'CHOPPERLA MONISHA ', '21p31a0415@acet.ac.in', 'ECE', '2025', 'ACET', 'Become Coder', 'Female'], ['8', '21p31a0479', 'CHOPPERLA LEKISHA ', '21p31a0479@acet.ac.in', 'ECE', '2025', 'ACET', 'Become Coder', 'Female'], ['9', '21A91A04L1', 'SRIRAM KAVI', '21a91a04l1@aec.edu.in', 'ECE', '2025', 'AEC', 'Become Coder', 'Male'], ['10', '21P31A0473', 'VIMALA BERI', '21p31a0473@acet.ac.in', 'ECE', '2025', 'ACET', 'Become Coder', 'FEMALE'], ['11', '21p31a04m2', 'Krishna sudeepthi Karri', '21p31a04m2@acet.ac.in', 'ECE', '2025', 'ACET', 'Become Coder', 'Female'], ['12', '21p31a04i1', 'Maheswari Perarapu', '21p31a04i1@acet.ac.in', 'ECE', '2025', 'ACET', 'Become Coder', 'Female'], ['13', '21P31A04E0', 'Pavani Boddu', '21p31a04e0@acet.ac.in', 'ECE', '2025', 'ACET', 'Become Coder', 'Female'], ['14', '21p31a04D1', 'VEERA L H V SAI SREEDHAR ', '21p31a04d1@acet.ac.in', 'ECE', '2025', 'ACET', 'Become Coder', 'Male'], ['15', '21P31A0445', 'PADALA SATYA LAKSHMI DURGA ', '21p31a0445@acet.ac.in', 'ECE', '2025', 'ACET', 'Become Coder', 'Female'], ['16', '21p31a04j7', 'Sai Nikhitha Yedida', '21p31a04j7@acet.ac.in', 'ECE', '2025', 'ACET', 'Become Coder', 'Female'], ['17', '21p31a04q0', 'VIJAYA CHIHNITHA JANGA', '21p31a04q0@acet.ac.in', 'ECE', '2025', 'ACET', 'Become Coder', 'Female'], ['18', '21p31a04l4', 'GOKINA HEMALATHA', '21p31a04l4@acet.ac.in', 'ECE', '2025', 'ACET', 'Become Coder', 'Female'], ['19', '21p31a0448', 'ANITHA PINDI', '21p31a0448@acet.ac.in', 'ECE', '2025', 'ACET', 'Become Coder', 'FEMALE'], ['20', '21P31A0425', 'KANAKALA BHAVISHITHA ', '21p31a0425@acet.ac.in', 'ECE', '2025', 'ACET', 'Become Coder', 'Female'], ['21', '21P31A0460', 'Poorvaja V', '21p31a0460@acet.ac.in', 'ECE', '2025', 'ACET', 'Become Coder', 'Female'], ['22', '21p31a04d2', 'Lakshmi pavani Yarravula', '21p31a04d2@acet.ac.in', 'ECE', '2025', 'ACET', 'Become Coder', 'Female'], ['23', '21p31a0471', 'BATHINA SUNIL PRATAP ', '21p31a0471@acet.ac.in', 'ECE', '2025', 'ACET', 'Become Coder', 'Male'], ['24', '21p31a0489', 'INAKOTI DURGAPRASAD ', '21p31a0489@acet.ac.in', 'ECE', '2025', 'ACET', 'Become Coder', 'Male'], ['25', '21a91a04n6', 'Nandini Peddinti', '21a91a04n6@aec.edu.in', 'ECE', '2025', 'AEC', 'Become Coder', 'Female'], ['26', '21p31a0483', 'DONTHABATHULA POOJA ', '21p31a0483@acet.ac.in', 'ECE', '2025', 'ACET', 'Become Coder', 'Female'], ['27', '21a91a04j7', 'Alekhya Dantuluri', '21a91a04j7@aec.edu.in', 'ECE', '2025', 'AEC', 'Become Coder', 'Female'], ['28', '21p31a0487', 'GUDIPUDI GEETHIKA ', '21p31a0487@acet.ac.in', 'ECE', '2025', 'ACET', 'Become Coder', 'Female'], ['29', '22p35a0409', 'PAVANI PERURI', '22p35a0409@acet.ac.in', 'ECE', '2025', 'ACET', 'Become Coder', 'FEMALE'], ['30', '21p31a0444', 'NUNE BHAVYA SRI ', '21p31a0444@acet.ac.in', 'ECE', '2025', 'ACET', 'Become Coder', 'Female'], ['31', '21p31a0424', 'KALTURI NAVYA SRI ', '21p31a0424@acet.ac.in', 'ECE', '2025', 'ACET', 'Become Coder', 'Female'], ['32', '21p31a0411', 'BHERI SRI BHARGAVI ', '21p31a0411@acet.ac.in', 'ECE', '2025', 'ACET', 'Become Coder', 'Female'], ['33', '21A91A04P3', 'T N S Gayathri', '21a91a04p3@aec.edu.in', 'ECE', '2025', 'AEC', 'Become Coder', 'Female'], ['34', '21p31a0491', 'JEENU BHASKAR ANIL ', '21p31a0491@acet.ac.in', 'ECE', '2025', 'ACET', 'Become Coder', 'Male'], ['35', '21p31a0496', 'KUCHIMANCHI VEERA MAHESH ', '21p31a0496@acet.ac.in', 'ECE', '2025', 'ACET', 'Become Coder', 'Male'], ['36', '21p31a0459', 'VVSSS DEEPTHI MEGHANA PALEPU ', '21p31a0459@acet.ac.in', 'ECE', '2025', 'ACET', 'Become Coder', 'Female'], ['37', '21A91A04O2', 'Satya Pokanati', '21a91a04o2@aec.edu.in', 'ECE', '2025', 'AEC', 'Become Coder', 'Male'], ['38', '21A91A04K9', 'Manikala Karri', '21a91a04k9@aec.edu.in', 'ECE', '2025', 'AEC', 'Become Coder', 'Female'], ['39', '21A91A04L4', 'sudha kommireddy', '21a91a04l4@aec.edu.in', 'ECE', '2025', 'AEC', 'Become Coder', 'Male'], ['40', '21A91A04I8', 'Sravanthi B', '21a91a04i8@aec.edu.in', 'ECE', '2025', 'AEC', 'Become Coder', 'Female'], ['41', '21p31a04a8', 'NATTA AKHILANDESWARI ', '21p31a04a8@acet.ac.in', 'ECE', '2025', 'ACET', 'Become Coder', 'Female'], ['42', '21p31a0493', 'FALGUNI KALLA', '21p31a0493@acet.ac.in', 'ECE', '2025', 'ACET', 'Become Coder', 'FEMALE'], ['43', '21A91A04O7', 'Lakshmi Pavani', '21a91a04o7@aec.edu.in', 'ECE', '2025', 'AEC', 'Become Coder', 'Female'], ['44', '21A91A04L2', 'Lekhanapriya Killi', '21a91a04l2@aec.edu.in', 'ECE', '2025', 'AEC', 'Become Coder', 'Female'], ['45', '21p31a0434', 'LANKA AKHILA ', '21p31a0434@acet.ac.in', 'ECE', '2025', 'ACET', 'Become Coder', 'Female'], ['46', '21p31a04l1', 'PUPPALA GANGA BALASAGAR', '21p31a04l1@acet.ac.in', 'ECE', '2025', 'ACET', 'Become Coder', 'Male'], ['47', '21p31a0470', 'AVALA ESWAR ', '21p31a0470@acet.ac.in', 'ECE', '2025', 'ACET', 'Become Coder', 'Male'], ['48', '21p31a04d5', 'Ramya Ramya', '21p31a04d5@acet.ac.in', 'ECE', '2025', 'ACET', 'Become Coder', 'Male'], ['49', '21p31a04g4', 'Bhavya Tejaswini Kothapalli', '21p31a04g4@acet.ac.in', 'ECE', '2025', 'ACET', 'Become Coder', 'Male'], ['50', '21p31a04f7', 'GUTTULA POOJA PAVANI', '21p31a04f7@acet.ac.in', 'ECE', '2025', 'ACET', 'Become Coder', 'Female'], ['51', '21p31a04g7', 'Kalyani Kalyani', '21p31a04g7@acet.ac.in', 'ECE', '2025', 'ACET', 'Become Coder', 'Male'], ['52', '21p31a0485', 'GAJULA ANITHA SRI ', '21p31a0485@acet.ac.in', 'ECE', '2025', 'ACET', 'Become Coder', 'Male'], ['53', '21p31a04c8', 'VANKA PRAVEEN SIDDHARDHA ', '21p31a04c8@acet.ac.in', 'ECE', '2025', 'ACET', 'Become Coder', 'Male'], ['54', '21p31a0482', 'DASARI VENKATARAMANA ', '21p31a0482@acet.ac.in', 'ECE', '2025', 'ACET', 'Become Coder', 'Male'], ['55', '21p31a04h5', 'OBHINNI TEJA SRI SHIVANI', '21p31a04h5@acet.ac.in', 'ECE', '2025', 'ACET', 'Become Coder', ''], ['56', '21p31a0412', 'CHALLA JNANA SRILATHA ', '21p31a0412@acet.ac.in', 'ECE', '2025', 'ACET', 'Become Coder', 'Female'], ['57', '21A91A04G0', 'PICHCHIKA BHAVYA SRI ', '21a91a04g0@aec.edu.in', 'ECE', '2025', 'AEC', 'Become Coder', 'Female'], ['58', '21p31a0429', 'KONDIPUDI SURYAKALA ', '21p31a0429@acet.ac.in', 'ECE', '2025', 'ACET', 'Become Coder', 'Female'], ['59', '21p31a04a7', 'narla.swapna bharathi swapna', '21p31a04a7@acet.ac.in', 'ECE', '2025', 'ACET', 'Become Coder', 'Female'], ['60', '21A91A04L9', 'Lakshmi swathi Mahankali', '21a91a04l9@aec.edu.in', 'ECE', '2025', 'AEC', 'Become Coder', 'Female'], ['61', '21A91A04I4', 'Venkata Ramana Srividya Angara', '21a91a04i4@aec.edu.in', 'ECE', '2025', 'AEC', 'Become Coder', 'Female'], ['62', '21A91A04P0', 'Pavan Eswar Simma', '21a91a04p0@aec.edu.in', 'ECE', '2025', 'AEC', 'Become Coder', 'Male'], ['63', '22p35a0401', 'LAASYA SAKKURI', '22p35a0401@acet.ac.in', 'ECE', '2025', 'ACET', 'Become Coder', 'FEMALE'], ['64', '21A91A04D1', 'GUTTULA RUPA SATYA VEERENDRI ', '21a91a04d1@aec.edu.in', 'ECE', '2025', 'AEC', 'Become Coder', 'Female'], ['65', '21A91A04A9', 'SHAIK MUNNISHA ', '21a91a04a9@aec.edu.in', 'ECE', '2025', 'AEC', 'Become Coder', 'Female'], ['66', '21A91A0465', 'ARIPIRALA SAI SRI ', '21a91a0465@aec.edu.in', 'ECE', '2025', 'AEC', 'Become Coder', 'Female'], ['67', '21A91A04O9', 'Seelam Pavani', '21a91a04o9@aec.edu.in', 'ECE', '2025', 'AEC', 'Become Coder', 'Female'], ['68', '21A91A04D0', 'GANUGULA SIVA ', '21a91a04d0@aec.edu.in', 'ECE', '2025', 'AEC', 'Become Coder', 'Male'], ['69', '21A91A04J9', 'Shyam Kowshik', '21a91a04j9@aec.edu.in', 'ECE', '2025', 'AEC', 'Become Coder', 'Male'], ['70', '21A91A04M8', 'Bhumika reddy Nallamilli', '21a91a04m8@aec.edu.in', 'ECE', '2025', 'AEC', 'Become Coder', 'Female'], ['71', '21A91A04O4', 'Pullari Arjuna rao', '21a91a04o4@aec.edu.in', 'ECE', '2025', 'AEC', 'Become Coder', 'Male'], ['72', '21p31a04a9', 'OLETI JAYA KASTURI ', '21p31a04a9@acet.ac.in', 'ECE', '2025', 'ACET', 'Become Coder', 'Female'], ['73', '21p31a04b9', 'REDDY SRI LAKSHMI ROHITA KALYANI ', '21p31a04b9@acet.ac.in', 'ECE', '2025', 'ACET', 'Become Coder', 'Female'], ['74', '21p31a04d3', 'ADDAGALLA TULASI', '21p31a04d3@acet.ac.in', 'ECE', '2025', 'ACET', 'Become Coder', ''], ['75', '21p31a0472', 'SRI VENKATA RAMA NAGA TEJA BAVISETTI', '21p31a0472@acet.ac.in', 'ECE', '2025', 'ACET', 'Become Coder', 'Male'], ['76', '21p31a04o5', 'PONTHAPALLI NEELA SAI SANKAR NIVAS', '21p31a04o5@acet.ac.in', 'ECE', '2025', 'ACET', 'Become Coder', 'Male'], ['77', '21p31a0428', 'KONDAPALLI SIMHADRI ', '21p31a0428@acet.ac.in', 'ECE', '2025', 'ACET', 'Become Coder', 'Male'], ['78', '21p31a04a1', 'MOHAMMAD ABDUL AZEEZ KHAN ', '21p31a04a1@acet.ac.in', 'ECE', '2025', 'ACET', 'Become Coder', 'Male'], ['79', '21p31a04h2', 'Kushita Neti', '21p31a04h2@acet.ac.in', 'ECE', '2025', 'ACET', 'Become Coder', 'Female'], ['80', '21A91A04L6', 'chennakesava kondaveete', '21a91a04l6@aec.edu.in', 'ECE', '2025', 'AEC', 'Become Coder', 'Male'], ['81', '22p35a0418', 'KANAKALA HEMA VEERA RAMAKRISHNA', '22p35a0418@acet.ac.in', 'ECE', '2025', 'ACET', 'Become Coder', ''], ['82', '21A91A04P2', 'SYED TASNEEM ', '21a91a04p2@aec.edu.in', 'ECE', '2025', 'AEC', 'Become Coder', 'Female'], ['83', '21A91A04I9', 'BHOGI SATHVIKA ', '21a91a04i9@aec.edu.in', 'ECE', '2025', 'AEC', 'Become Coder', 'Female'], ['84', '21A91A04H4', 'Charan teja Undurthi', '21a91a04h4@aec.edu.in', 'ECE', '2025', 'AEC', 'Become Coder', 'Male'], ['85', '21MH1A04N4', 'Durga Bhavani M', '21mh1a04n4@acoe.edu.in', 'ECE', '2025', 'ACOE', 'Become Coder', 'Female'], ['86', '21A91A04J3', 'Indhumeghana Cheekatla', '21a91a04j3@aec.edu.in', 'ECE', '2025', 'AEC', 'Become Coder', 'Female'], ['87', '21p31a04e4', 'Burra Satyanarayana', '21p31a04e4@acet.ac.in', 'ECE', '2025', 'ACET', 'Become Coder', ''], ['88', '21p31a0432', 'KUNDALA KRISHNA VENI ', '21p31a0432@acet.ac.in', 'ECE', '2025', 'ACET', 'Become Coder', 'Female'], ['89', '21p31a0492', 'KADALI KOUSALYA ', '21p31a0492@acet.ac.in', 'ECE', '2025', 'ACET', 'Become Coder', 'Female'], ['90', '21p31a0476', 'BONAGIRI CHARAN KOUSALYA ', '21p31a0476@acet.ac.in', 'ECE', '2025', 'ACET', 'Become Coder', 'Female'], ['91', '21A91A04D4', 'JAHNAVI SARAGADA ', '21a91a04d4@aec.edu.in', 'ECE', '2025', 'AEC', 'Become Coder', 'Female'], ['92', '21p31a0467', 'ADDALA NIHARIKA ', '21p31a0467@acet.ac.in', 'ECE', '2025', 'ACET', 'Become Coder', 'Female'], ['93', '21A91A04E6', 'N. Harika Harika', '21a91a04e6@aec.edu.in', 'ECE', '2025', 'AEC', 'Become Coder', 'Female'], ['94', '21p31a04i7', 'Vanaja Ryali', '21p31a04i7@acet.ac.in', 'ECE', '2025', 'ACET', 'Become Coder', 'Female'], ['95', '21A91A04L8', 'KUPPALA SRIVALLI', '21a91a04l8@aec.edu.in', 'ECE', '2025', 'AEC', 'Become Coder', 'Female'], ['96', '21p31a04c6', 'VALAVALA SESHU SRI ', '21p31a04c6@acet.ac.in', 'ECE', '2025', 'ACET', 'Become Coder', 'Female'], ['97', '21A91A0413', 'Sneha Aishwarya', '21a91a0413@aec.edu.in', 'ECE', '2025', 'AEC', 'Become Coder', 'Female'], ['98', '21A91A04F1', 'Rakesh Nelli', '21a91a04f1@aec.edu.in', 'ECE', '2025', 'AEC', 'Become Coder', 'Male'], ['99', '21A91A04B5', 'Tekkam Vardhan', '21a91a04b5@aec.edu.in', 'ECE', '2025', 'AEC', 'Become Coder', 'Male'], ['100', '21A91A04I1', 'Kavya sri Achanta', '21a91a04i1@aec.edu.in', 'ECE', '2025', 'AEC', 'Become Coder', 'Female'], ['101', '21A91A04P5', 'Pavithra Thummapala', '21a91a04p5@aec.edu.in', 'ECE', '2025', 'AEC', 'Become Coder', 'Female'], ['102', '21A91A0495', 'PENTA LIKHITHA ', '21a91a0495@aec.edu.in', 'ECE', '2025', 'AEC', 'Become Coder', 'Female'], ['103', '21MH1A04O7', 'SASI KUMAR SHAVUKARU', '21mh1a04o7@acoe.edu.in', 'ECE', '2025', 'ACOE', 'Become Coder', 'Male'], ['104', '21MH1A04L4', 'SHANMUKH SRINIVAS GADIPARTHI', '21mh1a04l4@acoe.edu.in', 'ECE', '2025', 'ACOE', 'Become Coder', 'Male'], ['105', '21MH1A04Q1', 'Yallapu Yaswanth Kumar', '21mh1a04q1@acoe.edu.in', 'ECE', '2023', 'ACOE', 'Become Coder', 'Male'], ['106', '21p31a04n8', 'Durga Srinivas Pasumarthi', '21p31a04n8@acet.ac.in', 'ECE', '2025', 'ACET', 'Become Coder', 'Male'], ['107', '21p31a04n0', 'MENDA GANESH', '21p31a04n0@acet.ac.in', 'ECE', '2025', 'ACET', 'Become Coder', ''], ['108', '21A91A0498', 'PULAPALLI JASHUVADANIEL', '21a91a0498@aec.edu.in', 'ECE', '2025', 'AEC', 'Become Coder', 'Male'], ['109', '21p31a04b6', 'RAMAYANAM SATYA SIVA MANI KRISHNA ', '21p31a04b6@acet.ac.in', 'ECE', '2025', 'ACET', 'Become Coder', 'Male'], ['110', '21p31a0416', 'DANGETI SANTOSH SANVESH ', '21p31a0416@acet.ac.in', 'ECE', '2025', 'ACET', 'Become Coder', 'Male'], ['111', '21p31a0455', 'SUDHARSHAN DASARI JAGANNADHRAO ', '21p31a0455@acet.ac.in', 'ECE', '2025', 'ACET', 'Become Coder', 'Male'], ['112', '21P31A0409', 'BANDI NITESH ', '21p31a0409@acet.ac.in', 'ECE', '2025', 'ACET', 'Become Coder', 'Male'], ['113', '21P31A0449', 'REKADI GREESHMA ', '21p31a0449@acet.ac.in', 'ECE', '2025', 'ACET', 'Become Coder', 'Female'], ['114', '21P31A0422', 'GUTHULA ADITYA VENKATA SAI ', '21p31a0422@acet.ac.in', 'ECE', '2025', 'ACET', 'Become Coder', 'Male'], ['115', '21A91A04H9', 'Dinesh Chandra', '21a91a04h9@aec.edu.in', 'ECE', '2025', 'AEC', 'Become Coder', ''], ['116', '21A91A04H8', 'MEDISETTI VENKATESH ', '21a91a04h8@aec.edu.in', 'ECE', '2025', 'AEC', 'Become Coder', 'Male'], ['117', '21P31A0417', 'GANDI GANGA ', '21p31a0417@acet.ac.in', 'ECE', '2025', 'ACET', 'Become Coder', 'Female'], ['118', '21A91A04M2', 'Rajesh Mardani', '21a91a04m2@aec.edu.in', 'ECE', '2025', 'AEC', 'Become Coder', 'Male'], ['119', '21A91A04H1', 'Ushha Sree Thota', '21a91a04h1@aec.edu.in', 'ECE', '2025', 'AEC', 'Become Coder', ''], ['120', '21A91A04I6', 'Ramya Balusu', '21a91a04i6@aec.edu.in', 'ECE', '2025', 'AEC', 'Become Coder', 'Female'], ['121', '21A91A04N4', 'palla sai yasaswi', '21a91a04n4@aec.edu.in', 'ECE', '2025', 'AEC', 'Become Coder', 'Female'], ['122', '21P31A04Q2', 'Yerubandi UmaBharathi', '21p31a04q2@acet.ac.in', 'ECE', '2025', 'ACET', 'Become Coder', 'Female'], ['123', '22P35A0413', 'KATTAMURI SAI DEVI MAHALAKSHMI', '22p35a0413@acet.ac.in', 'ECE', '2025', 'ACET', 'Become Coder', ''], ['124', '21A91A04B0', 'Sk.mustak Ahamed', '21a91a04b0@aec.edu.in', 'ECE', '2025', 'AEC', 'Become Coder', 'Male'], ['125', '21A91A0470', 'Suvarnaraju Gera', '21a91a0470@aec.edu.in', 'ECE', '2025', 'AEC', 'Become Coder', 'Male'], ['126', '21P31A0451', 'SAGINELA NAVEEN KUMAR ', '21p31a0451@acet.ac.in', 'ECE', '2025', 'ACET', 'Become Coder', 'Male'], ['127', '21A91A04J5', 'bhanu sri chinthalapudi', '21a91a04j5@aec.edu.in', 'ECE', '2025', 'AEC', 'Become Coder', ''], ['128', '21A91A04Q1', 'Jahnavi vemulapalli', '21a91a04q1@aec.edu.in', 'ECE', '2025', 'AEC', 'Become Coder', 'Female'], ['129', '21A91A04M9', 'Priyanka Nallamilli', '21a91a04m9@aec.edu.in', 'ECE', '2025', 'AEC', 'Become Coder', 'Female'], ['130', '21A91A04C8', 'DANGETI Veera Nageswara rao', '21a91a04c8@aec.edu.in', 'ECE', '2025', 'AEC', 'Become Coder', 'MALE'], ['131', '21A91A04F6', 'Bhavani shankar Palli', '21a91a04f6@aec.edu.in', 'ECE', '2025', 'AEC', 'Become Coder', 'Male'], ['132', '21P31A0447', 'PATNALA SAI VENKATA PRABHAKAR ', '21p31a0447@acet.ac.in', 'ECE', '2025', 'ACET', 'Become Coder', 'Male'], ['133', '21P31A0461', 'VELCHURI TARUN VEERA SAI KIRAN', '21p31a0461@acet.ac.in', 'ECE', '2025', 'ACET', 'Become Coder', 'Male'], ['134', '21P31A04E5', 'CHITTABATHULA NITHIN KUMAR', '21p31a04e5@acet.ac.in', 'ECE', '2025', 'ACET', 'Become Coder', 'Male'], ['135', '21P31A04H1', 'MOHAMMAD SAIFF', '21p31a04h1@acet.ac.in', 'ECE', '2025', 'ACET', 'Become Coder', 'Male'], ['136', '21P31A04D7', 'BASWA SATYA TEJASWI', '21p31a04d7@acet.ac.in', 'ECE', '2025', 'ACET', 'Become Coder', 'Female'], ['137', '21P31A04G2', 'Sai pravallika Kola', '21p31a04g2@acet.ac.in', 'ECE', '2025', 'ACET', 'Become Coder', 'Female'], ['138', '21P31A04I9', 'Santhi Swarupa', '21p31a04i9@acet.ac.in', 'ECE', '2025', 'ACET', 'Become Coder', 'Female'], ['139', '21A91A04F7', 'PAMARTHI VIJAY LAKSHMAN KUMAR ', '21a91a04f7@aec.edu.in', 'ECE', '2025', 'AEC', 'Become Coder', 'Male'], ['140', '21A91A0436', 'NAKKA ESWAR SATYA VARUN ', '21a91a0436@aec.edu.in', 'ECE', '2025', 'AEC', 'Become Coder', ''], ['141', '21A91A0477', 'KOMALI SAI GIRISHA ', '21a91a0477@aec.edu.in', 'ECE', '2025', 'AEC', 'Become Coder', 'Female'], ['142', '21A91A0484', 'MOHAMMAD HANEEFA ', '21a91a0484@aec.edu.in', 'ECE', '2025', 'AEC', 'Become Coder', 'Female'], ['143', '21p31a04c7', 'VANACHARLA BALA KRISHNA ', '21p31a04c7@acet.ac.in', 'ECE', '2025', 'ACET', 'Become Coder', 'Male'], ['144', '21p31a0469', 'ARI LALITHA ', '21p31a0469@acet.ac.in', 'ECE', '2025', 'ACET', 'Become Coder', 'Female'], ['145', '21p31a0499', 'LEELA SUNITHA MALIREDDY', '21p31a0499@acet.ac.in', 'ECE', '2025', 'ACET', 'Become Coder', 'FEMALE'], ['146', '22p35a0416', 'NADIKATLA SRINIVAS', '22p35a0416@acet.ac.in', 'ECE', '2025', 'ACET', 'Become Coder', ''], ['147', '21p31a04j0', 'Sneha sri Siriki', '21p31a04j0@acet.ac.in', 'ECE', '2025', 'ACET', 'Become Coder', 'Male'], ['148', '21p31a04c0', 'Risitha Revu', '21p31a04c0@acet.ac.in', 'ECE', '2025', 'ACET', 'Become Coder', 'FEMALE'], ['149', '21p31a04k1', 'ARTHAKATLA ASHA JYOTHI', '21p31a04k1@acet.ac.in', 'ECE', '2025', 'ACET', 'Become Coder', 'Female'], ['150', '21A91A04O0', 'Pavansrisai Pentapati', '21a91a04o0@aec.edu.in', 'ECE', '2025', 'AEC', 'Become Coder', 'Male'], ['151', '21A91A04N3', 'Devi priyanka Osireddy', '21a91a04n3@aec.edu.in', 'ECE', '2025', 'AEC', 'Become Coder', 'Female'], ['152', '21A91A04I0', 'YELLAPU SAI BHANDAVI ', '21a91a04i0@aec.edu.in', 'ECE', '2025', 'AEC', 'Become Coder', 'Female'], ['153', '21A91A04G7', 'TADEPALLI KEERTHI PRIYA ', '21a91a04g7@aec.edu.in', 'ECE', '2025', 'AEC', 'Become Coder', 'Female'], ['154', '21A91A04H6', 'VEMANA SAI NIKHITHA ', '21a91a04h6@aec.edu.in', 'ECE', '2025', 'AEC', 'Become Coder', 'Female'], ['155', '21A91A04N7', 'Ananya Pemmanaboyidi', '21a91a04n7@aec.edu.in', 'ECE', '2025', 'AEC', 'Become Coder', 'Female'], ['156', '21A91A04H0', 'THOTA SATYA SURYA ', '21a91a04h0@aec.edu.in', 'ECE', '2025', 'AEC', 'Become Coder', 'Male'], ['157', '21A91A04D3', 'ILLURI SRAVANI ', '21a91a04d3@aec.edu.in', 'ECE', '2025', 'AEC', 'Become Coder', 'Female'], ['158', '21A91A04F2', 'NIHARIKA CHINTAKULA ', '21a91a04f2@aec.edu.in', 'ECE', '2025', 'AEC', 'Become Coder', 'Female'], ['159', '21A91A04G6', 'SUNKARA ALEKHYA SAI ', '21a91a04g6@aec.edu.in', 'ECE', '2025', 'AEC', 'Become Coder', 'Female'], ['160', '21P31A04L0', 'CHITRA MANASA', '21p31a04l0@acet.ac.in', 'ECE', '2025', 'ACET', 'Become Coder', 'Female'], ['161', '21A91A04J2', 'Aishwarya Chamarthy', '21a91a04j2@aec.edu.in', 'ECE', '2025', 'AEC', 'Become Coder', 'Female'], ['162', '21A91A04L7', 'Koppisetty Sree Naga Devi Sindhusha', '21a91a04l7@aec.edu.in', 'ECE', '2025', 'AEC', 'Become Coder', 'Female'], ['163', '21A91A04J1', 'CHALLAPALLI VAISHNAVI ', '21a91a04j1@aec.edu.in', 'ECE', '2025', 'AEC', 'Become Coder', 'Female'], ['164', '21P31A04K5', 'Boddeti Veerabhadrarao', '21p31a04k5@acet.ac.in', 'ECE', '2025', 'ACET', 'Become Coder', 'Male'], ['165', '21A91A04I5', 'Suvamsa Badarla', '21a91a04i5@aec.edu.in', 'ECE', '2025', 'AEC', 'Become Coder', 'Female'], ['166', '21p31a0466', 'YEPURI SRI VENKATA NIKHIL ', '21p31a0466@acet.ac.in', 'ECE', '2025', 'ACET', 'Become Coder', 'Male'], ['167', '21p31a0456', 'SUJANMULK GOPICHAND ', '21p31a0456@acet.ac.in', 'ECE', '2025', 'ACET', 'Become Coder', 'Male'], ['168', '21A91A04A0', 'PUTTA LOCHANA VIJAYA ', '21a91a04a0@aec.edu.in', 'ECE', '2025', 'AEC', 'Become Coder', 'Female'], ['169', '21A91A0478', 'KOPPISETTI AMRUTHA ', '21a91a0478@aec.edu.in', 'ECE', '2025', 'AEC', 'Become Coder', 'Female'], ['170', '21A91A04B3', 'Jyothi Sunkara', '21a91a04b3@aec.edu.in', 'ECE', '2025', 'AEC', 'Become Coder', 'Female'], ['171', '21A91A04E8', 'NARAVA CHANDRA MOULI ', '21a91a04e8@aec.edu.in', 'ECE', '2025', 'AEC', 'Become Coder', 'Male'], ['172', '21A91A0471', 'GONDELA MADHU SRI LAKSHMI ', '21a91a0471@aec.edu.in', 'ECE', '2025', 'AEC', 'Become Coder', 'Female'], ['173', '21A91A04L0', 'Kasireddi shekar', '21a91a04l0@aec.edu.in', 'ECE', '2025', 'AEC', 'Become Coder', 'Male'], ['174', '21A91A04I2', 'Akana Padmarao', '21a91a04i2@aec.edu.in', 'ECE', '2025', 'AEC', 'Become Coder', ''], ['175', '21A91A04F3', 'NUKALA NAGA SAI RAVITEJA ', '21a91a04f3@aec.edu.in', 'ECE', '2025', 'AEC', 'Become Coder', 'Male'], ['176', '21A91A0485', 'MOHAMMED NASREEN MAIMOON ', '21a91a0485@aec.edu.in', 'ECE', '2025', 'AEC', 'Become Coder', 'Female'], ['177', '21A91A0487', 'NAMANA KAVYA VINEELA ', '21a91a0487@aec.edu.in', 'ECE', '2025', 'AEC', 'Become Coder', 'Female'], ['178', '21A91A0430', 'MATTA PUJITHA ', '21a91a0430@aec.edu.in', 'ECE', '2025', 'AEC', 'Become Coder', 'Female'], ['179', '21A91A0466', 'CHAKKAPALLI DEVI ', '21a91a0466@aec.edu.in', 'ECE', '2025', 'AEC', 'Become Coder', 'Female'], ['180', '21A91A04N9', 'Esther Rani', '21a91a04n9@aec.edu.in', 'ECE', '2025', 'AEC', 'Become Coder', 'Female'], ['181', '21P31A04M5', 'LADDIKA DEVI SRAVYA', '21p31a04m5@acet.ac.in', 'ECE', '2025', 'ACET', 'Become Coder', 'Female'], ['182', '21P31A04O2', 'PENNADA SRI PHANIRATHNAM', '21p31a04o2@acet.ac.in', 'ECE', '2025', 'ACET', 'Become Coder', 'Female'], ['183', '21P31A04G6', 'Swathi Kurakula', '21p31a04g6@acet.ac.in', 'ECE', '2025', 'ACET', 'Become Coder', 'Female'], ['184', '21P31A04I6', 'Hepsiba Reddi', '21p31a04i6@acet.ac.in', 'ECE', '2025', 'ACET', 'Become Coder', 'Male'], ['185', '21A91A04Q4', 'surekha yarra', '21a91a04q4@aec.edu.in', 'ECE', '2025', 'AEC', 'Become Coder', 'Female'], ['186', '21P31A04O0', 'PEDDIREDDY HARIKA', '21p31a04o0@acet.ac.in', 'ECE', '2025', 'ACET', 'Become Coder', 'Female'], ['187', '21A91A04O5', 'Jaya Venkata Naga Sai Sushma Purre', '21a91a04o5@aec.edu.in', 'ECE', '2025', 'AEC', 'Become Coder', 'Female'], ['188', '21A91A04D7', 'KANUBOINA GOPALA KRISHNA ', '21a91a04d7@aec.edu.in', 'ECE', '2025', 'AEC', 'Become Coder', 'Male'], ['189', '21P31A04N2', 'NICHENAKOLLA VASANTHI', '21p31a04n2@acet.ac.in', 'ECE', '2025', 'ACET', 'Become Coder', ''], ['190', '21P31A04I0', 'Vara Prasad Perabathula', '21p31a04i0@acet.ac.in', 'ECE', '2025', 'ACET', 'Become Coder', 'Male'], ['191', '21P31A04F1', 'DUGGIRALA SAI RAM NIVAS', '21p31a04f1@acet.ac.in', 'ECE', '2025', 'ACET', 'Become Coder', ''], ['192', '21P31A04I2', 'PILLA ANIL KUMAR', '21p31a04i2@acet.ac.in', 'ECE', '2025', 'ACET', 'Become Coder', 'Male'], ['193', '21P31A04I8', 'S.v.v.d. Ganapathi', '21p31a04i8@acet.ac.in', 'ECE', '2025', 'ACET', 'Become Coder', 'Male'], ['194', '21P31A04J5', 'Sai teja Vundavilli', '21p31a04j5@acet.ac.in', 'ECE', '2025', 'ACET', 'Become Coder', 'Male'], ['195', '21P31A04G5', 'KURAKULA NITIN', '21p31a04g5@acet.ac.in', 'ECE', '2025', 'ACET', 'Become Coder', 'Male'], ['196', '21p31a04P2', 'TAMILISETTY PRAVALLIKA REDDY', '21p31a04p2@acet.ac.in', 'ECE', '2025', 'ACET', 'Become Coder', 'Female'], ['197', '21A91A0457', 'VELAMARTHI HEMANTH ', '21a91a0457@aec.edu.in', 'ECE', '2025', 'AEC', 'Become Coder', 'MALE'], ['198', '21A91A04O1', 'BHAVYA SRI', '21a91a04o1@aec.edu.in', 'ECE', '2025', 'AEC', 'Become Coder', 'Female'], ['199', '21A91A04N1', 'Ganga Bhavani Naralasetti', '21a91a04n1@aec.edu.in', 'ECE', '2025', 'AEC', 'Become Coder', 'Female'], ['200', '21A91A04P6', 'Tripurari Naga Durga Aditya Sundar', '21a91a04p6@aec.edu.in', 'ECE', '2025', 'AEC', 'Become Coder', 'Male'], ['201', '21A91A04M7', 'satya venkata sai Nakka', '21a91a04m7@aec.edu.in', 'ECE', '2025', 'AEC', 'Become Coder', 'Male'], ['202', '21P31A04L7', 'KADA RAJESWARI', '21p31a04l7@acet.ac.in', 'ECE', '2025', 'ACET', 'Become Coder', 'Female'], ['203', '21P31A04L8', 'BHANUJA SRI VISALA SRAVYA KALAPU', '21p31a04l8@acet.ac.in', 'Ece', '2025', 'ACET', 'Become Coder', ''], ['204', '21P31A0413', 'SARASWATHI CHIEKATLA', '21p31a0413@acet.ac.in', 'ECE', '2025', 'ACET', 'Become Coder', ''], ['205', '21A91A04F5', 'PACHINEELAM ADITYA ', '21a91a04f5@aec.edu.in', 'ECE', '2025', 'AEC', 'Become Coder', 'Male'], ['206', '21A91A0449', 'SHAIK AHAMAD ABDUL KHADAR ', '21a91a0449@aec.edu.in', 'ECE', '2025', 'AEC', 'Become Coder', 'Male'], ['207', '21A91A0422', 'KALIDINDI SRI NAGA RAMESH ', '21a91a0422@aec.edu.in', 'ECE', '2025', 'AEC', 'Become Coder', 'Male'], ['208', '21A91A0451', 'TELLAGORLA GUNABHIRAM YADAV ', '21a91a0451@aec.edu.in', 'ECE', '2025', 'AEC', 'Become Coder', 'Male'], ['209', '21A91A04K8', 'divya lakshmi Kantam', '21a91a04k8@aec.edu.in', 'ECE', '2025', 'AEC', 'Become Coder', 'Female'], ['210', '22P35A0422', 'POLNATI VINAY KUMAR', '22p35a0422@acet.ac.in', 'ECE', '2025', 'ACET', 'Become Coder', ''], ['211', '21P31A04K0', 'AKETI SRI SANDEEP', '21p31a04k0@acet.ac.in', 'ECE', '2025', 'ACET', 'Become Coder', 'Male'], ['212', '21P31A04L9', 'KANCHARANA VAMSI', '21p31a04l9@acet.ac.in', 'ECE', '2025', 'ACET', 'Become Coder', 'Male'], ['213', '21P31A04K3', 'BANDARU SRI VEERA SAI GANESH', '21p31a04k3@acet.ac.in', 'ECE', '2025', 'ACET', 'Become Coder', 'Male'], ['214', '21P31A04N7', 'Karthik Pampana', '21p31a04n7@acet.ac.in', 'ECE', '2025', 'ACET', 'Become Coder', 'Male'], ['215', '21P31A04P8', 'Durga prasad Veduruparthy', '21p31a04p8@acet.ac.in', 'ECE', '2025', 'ACET', 'Become Coder', 'Male'], ['216', '21P31A04D8', 'BERA VAMSI KRISHNA', '21p31a04d8@acet.ac.in', 'ECE', '2025', 'ACET', 'Become Coder', 'Male'], ['217', '21A91A0463', 'ALLAM THRIMURTHULU ', '21a91a0463@aec.edu.in', 'ECE', '2025', 'AEC', 'Become Coder', 'Male'], ['218', '21P31A04I3', 'PILLI RUPAVATHI', '21p31a04i3@acet.ac.in', 'ECE', '2025', 'ACET', 'Become Coder', 'Female'], ['219', '21A91A04I7', 'Sriram Bandaru', '21a91a04i7@aec.edu.in', 'ECE', '2025', 'AEC', 'Become Coder', 'Male'], ['220', '21A91A04K2', 'G.Ganga Sagar', '21a91a04k2@aec.edu.in', 'ECE', '2025', 'AEC', 'Become Coder', 'Male'], ['221', '21A91A04O3', 'Sathwik polineni', '21a91a04o3@aec.edu.in', 'ECE', '2025', 'AEC', 'Become Coder', 'Male'], ['222', '21A91A04K4', 'Vishal Sai Krishna anand', '21a91a04k4@aec.edu.in', 'ECE', '2025', 'AEC', 'Become Coder', 'Male'], ['223', '21P31A04O8', 'SALAGRAMA SRI VAISHNAVI', '21p31a04o8@acet.ac.in', 'ECE', '2025', 'ACET', 'Become Coder', 'Female'], ['224', '21P31A04O6', 'Sai Lakshmi Pusarla', '21p31a04o6@acet.ac.in', 'ECE', '2025', 'ACET', 'Become Coder', 'Female'], ['225', '21A91A04K7', 'Madhan Kandregula', '21a91a04k7@aec.edu.in', 'ECE', '2025', 'AEC', 'Become Coder', 'Male'], ['226', '21P31A04N6', 'PALURI YAGNA SURYA MAHALAKSHMI', '21p31a04n6@acet.ac.in', 'ECE', '2025', 'ACET', 'Become Coder', 'Female'], ['227', '21A91A04L3', 'Hari vinay Koilada', '21a91a04l3@aec.edu.in', 'ECE', '2025', 'AEC', 'Become Coder', 'Male'], ['228', '21A91A0446', 'RAYUDU ABHISHEK ', '21a91a0446@aec.edu.in', 'ECE', '2025', 'AEC', 'Become Coder', 'Male'], ['229', '21A91A04K0', 'Shanmukh Duvvuri', '21a91a04k0@aec.edu.in', 'ECE', '2025', 'AEC', 'Become Coder', 'Male'], ['230', '21A91A0428', 'MANNE L V DURGA ', '21a91a0428@aec.edu.in', 'ECE', '2025', 'AEC', 'Become Coder', ''], ['231', '21A91A04Q0', 'Veera sankara siva sai Elishetti', '21a91a04q0@aec.edu.in', 'ECE', '2025', 'AEC', 'Become Coder', 'Male'], ['232', '21A91A04O6', 'RAYUDU HARSHAVARDHAN ', '21a91a04o6@aec.edu.in', 'ECE', '2025', 'AEC', 'Become Coder', 'Male'], ['233', '21MH1A04K2', 'Areti Bhanu subha venkat', '21mh1a04k2@acoe.edu.in', 'ECE', '2025', 'ACOE', 'Become Coder', 'Male'], ['234', '21p31a04h7', 'MANIKANTA PALEPU', '21p31a04h7@acet.ac.in', 'ECE', '2025', 'ACET', 'Become Coder', 'Male'], ['235', '21mh1a04j2', 'LOVANA VAKADA', '21mh1a04j2@acoe.edu.in', 'ECE', '2025', 'ACOE', 'Become Coder', 'Female'], ['236', '21A91A04N2', 'NEMALA SANDHYA ', '21a91a04n2@aec.edu.in', 'ECE', '2025', 'AEC', 'Become Coder', 'Female'], ['237', '21A91A04H7', 'VENGALADASU VEERA VENKATA SURYA TEJA ', '21a91a04h7@aec.edu.in', 'ECE', '2025', 'AEC', 'Become Coder', 'Male'], ['238', '21A91A0437', 'Ravi Kiran', '21a91a0437@aec.edu.in', 'ECE', '2025', 'AEC', 'Become Coder', 'Male'], ['239', '21MH1A04E6', 'Harika Sangadi', '21mh1a04e6@acoe.edu.in', 'ECE', '2025', 'ACOE', 'Become Coder', 'Female'], ['240', '21A91A04Q2', 'Karishma Vemulapalli', '21a91a04q2@aec.edu.in', 'ECE', '2025', 'AEC', 'Become Coder', 'Female'], ['241', '21P31A04K6', 'BONAM RAMA CHANDRIKA', '21p31a04k6@acet.ac.in', 'ECE', '2025', 'ACET', 'Become Coder', 'Female'], ['242', '21P31A04O4', 'PONNAMALLA SUVARNA', '21p31a04o4@acet.ac.in', 'ECE', '2025', 'ACET', 'Become Coder', 'Female'], ['243', '21A91A04P9', 'Anusha Vajrala', '21a91a04p9@aec.edu.in', 'ECE', '2025', 'AEC', 'Become Coder', ''], ['244', '21P31A0477', 'BYRISETTI HARISH ', '21p31a0477@acet.ac.in', 'ECE', '2025', 'ACET', 'Become Coder', 'Male'], ['245', '21A91A04M5', 'MUKKAPATI CHANDU ', '21a91a04m5@aec.edu.in', 'ECE', '2025', 'AEC', 'Become Coder', 'Female'], ['246', '21p31a04p4', 'TENTU INDRAJA', '21p31a04p4@acet.ac.in', 'ECE', '2025', 'ACET', 'Become Coder', 'Female'], ['247', '21P31A04K7', 'Satish Chelluboina', '21p31a04k7@acet.ac.in', 'ECE', '2023', 'ACET', 'Become Coder', 'Male'], ['248', '21A91A04I3', 'ALLAM PUSHPA DURGA LAKSHMI PRIYA ', '21a91a04i3@aec.edu.in', 'ECE', '2025', 'AEC', 'Become Coder', 'Female'], ['249', '21P31A0484', 'DUVVARAPU YUVA KUMAR ', '21p31a0484@acet.ac.in', 'ECE', '2025', 'ACET', 'Become Coder', 'Male']]\n"
     ]
    }
   ],
   "source": [
    "import csv\n",
    "import itertools as it\n",
    "with open(\"C:\\\\Users\\\\DELL\\\\Desktop\\\\Paid Students.csv\",\"r\") as f:\n",
    "    # reader object\n",
    "    data = csv.reader(f)\n",
    "    print(list(data))"
   ]
  },
  {
   "cell_type": "code",
   "execution_count": null,
   "id": "a0fb7156",
   "metadata": {},
   "outputs": [],
   "source": []
  },
  {
   "cell_type": "code",
   "execution_count": null,
   "id": "2df3507e",
   "metadata": {},
   "outputs": [],
   "source": []
  },
  {
   "cell_type": "code",
   "execution_count": null,
   "id": "ccd56fa0",
   "metadata": {},
   "outputs": [],
   "source": []
  },
  {
   "cell_type": "code",
   "execution_count": null,
   "id": "2b4e765a",
   "metadata": {},
   "outputs": [],
   "source": []
  }
 ],
 "metadata": {
  "kernelspec": {
   "display_name": "Python 3 (ipykernel)",
   "language": "python",
   "name": "python3"
  },
  "language_info": {
   "codemirror_mode": {
    "name": "ipython",
    "version": 3
   },
   "file_extension": ".py",
   "mimetype": "text/x-python",
   "name": "python",
   "nbconvert_exporter": "python",
   "pygments_lexer": "ipython3",
   "version": "3.9.12"
  }
 },
 "nbformat": 4,
 "nbformat_minor": 5
}
