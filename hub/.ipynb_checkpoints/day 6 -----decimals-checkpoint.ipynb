{
 "cells": [
  {
   "cell_type": "markdown",
   "id": "3ebf016c",
   "metadata": {},
   "source": [
    "# Bit Manapulation"
   ]
  },
  {
   "cell_type": "markdown",
   "id": "014b9b92",
   "metadata": {},
   "source": [
    "# AND\n",
    "- compares each bit of first operand with corresponding bit of the second operand and sets the result bit to 1 if both bits are 1 else sets the result bit to 0.\n",
    "- 1011\n",
    "- 1100\n",
    "------\n",
    "- 1000 -->8"
   ]
  },
  {
   "cell_type": "markdown",
   "id": "dcb1e812",
   "metadata": {},
   "source": [
    "# BITWISE OR\n",
    "- compares each bit of first operand with corresponding bit of the second operand and sets the result bit to 1 if atleast one is 1 else sets the result bit to 0.\n"
   ]
  },
  {
   "cell_type": "code",
   "execution_count": null,
   "id": "91c3fb33",
   "metadata": {},
   "outputs": [],
   "source": [
    "----- > bitwise xor\n",
    "1011\n",
    "1100\n",
    "-----\n",
    "0111 --> 7"
   ]
  },
  {
   "cell_type": "code",
   "execution_count": null,
   "id": "da244e74",
   "metadata": {},
   "outputs": [],
   "source": [
    "\n",
    "OP1 | OP2\n",
    "11  | 12\n",
    "-----------------------\n",
    "OP1 | OP2 |  &   |   ^\n",
    "-----------------------\n",
    "1   |  1  |  1   1   0\n",
    "0   |  1  |  0   1   1 \n",
    "1   |  0  |  0   1   1 \n",
    "1   |  1  |  0   1   1\n",
    "-----------------------\n",
    "11  |  12 |  8   15  7"
   ]
  },
  {
   "cell_type": "markdown",
   "id": "2013a696",
   "metadata": {},
   "source": [
    "# shift \n",
    "- << --> leftshift\n",
    "- a << b\n",
    "- you want to shift the bits in A towards lsft for 8 times\n",
    "- >> --> right shift\n",
    "- a << b --> a* 2 ** b (a multiplied by 2 pow b)\n",
    "- 18 <<2 --> 18 * 4 --> 72\n",
    "- a >> b --> a // 2 ** b(a divided by 2 pow b)\n",
    "- 115 >> 2 --> 18 // 4 --> 4"
   ]
  },
  {
   "cell_type": "markdown",
   "id": "d818f9e7",
   "metadata": {},
   "source": []
  },
  {
   "cell_type": "code",
   "execution_count": null,
   "id": "4b6cccc3",
   "metadata": {},
   "outputs": [],
   "source": [
    "76 >> 1\n",
    "bitwise operators are faster than arthematic operators\n"
   ]
  },
  {
   "cell_type": "code",
   "execution_count": 3,
   "id": "003ddb89",
   "metadata": {},
   "outputs": [
    {
     "name": "stdout",
     "output_type": "stream",
     "text": [
      "17\n",
      "no\n"
     ]
    }
   ],
   "source": [
    "e = int(input())\n",
    "if e%2 ==0:\n",
    "    print('yes')\n",
    "else:\n",
    "    print('no')"
   ]
  },
  {
   "cell_type": "code",
   "execution_count": 5,
   "id": "1faad1e5",
   "metadata": {},
   "outputs": [
    {
     "name": "stdout",
     "output_type": "stream",
     "text": [
      "17\n",
      "no\n"
     ]
    }
   ],
   "source": [
    "n = int(input())\n",
    "c = 0\n",
    "for i in range(n):\n",
    "    if 1<<i==n:\n",
    "        c+=1\n",
    "if c>0:\n",
    "    print('yes')\n",
    "else:\n",
    "    print('no')"
   ]
  },
  {
   "cell_type": "code",
   "execution_count": 8,
   "id": "7dbc4589",
   "metadata": {},
   "outputs": [
    {
     "name": "stdout",
     "output_type": "stream",
     "text": [
      "16\n",
      "yes\n"
     ]
    }
   ],
   "source": [
    "n = int(input())\n",
    "if n&(n-1)==0:\n",
    "    print('yes')\n",
    "else:\n",
    "    print('no')"
   ]
  },
  {
   "cell_type": "code",
   "execution_count": 10,
   "id": "a7f7ae72",
   "metadata": {},
   "outputs": [
    {
     "name": "stdout",
     "output_type": "stream",
     "text": [
      "16\n",
      "<function fun at 0x000002A2B3444EE0>\n"
     ]
    }
   ],
   "source": [
    "def fun(n):\n",
    "    if n & (n-1)==0:\n",
    "        print('yes')\n",
    "    else:\n",
    "        print('no')\n",
    "        \n",
    "n=int(input())\n",
    "print(fun)\n"
   ]
  },
  {
   "cell_type": "code",
   "execution_count": null,
   "id": "1d10451e",
   "metadata": {},
   "outputs": [],
   "source": [
    "n - in(input())\n",
    "if n & 1 == 1:\n",
    "    print('odd')\n",
    "else:\n",
    "    print('even')"
   ]
  },
  {
   "cell_type": "code",
   "execution_count": null,
   "id": "3bb2ebc2",
   "metadata": {},
   "outputs": [],
   "source": []
  },
  {
   "cell_type": "code",
   "execution_count": null,
   "id": "afff1a6e",
   "metadata": {},
   "outputs": [],
   "source": []
  },
  {
   "cell_type": "code",
   "execution_count": null,
   "id": "6638526a",
   "metadata": {},
   "outputs": [],
   "source": []
  }
 ],
 "metadata": {
  "kernelspec": {
   "display_name": "Python 3 (ipykernel)",
   "language": "python",
   "name": "python3"
  },
  "language_info": {
   "codemirror_mode": {
    "name": "ipython",
    "version": 3
   },
   "file_extension": ".py",
   "mimetype": "text/x-python",
   "name": "python",
   "nbconvert_exporter": "python",
   "pygments_lexer": "ipython3",
   "version": "3.9.12"
  }
 },
 "nbformat": 4,
 "nbformat_minor": 5
}
