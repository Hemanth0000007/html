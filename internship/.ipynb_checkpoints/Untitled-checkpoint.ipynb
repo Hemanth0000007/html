{
 "cells": [
  {
   "cell_type": "code",
   "execution_count": 12,
   "id": "37c431d7",
   "metadata": {},
   "outputs": [
    {
     "name": "stdout",
     "output_type": "stream",
     "text": [
      "5 4\n",
      "23 4332 1 45 78889\n",
      "[5, 4]\n",
      "[23, 4332, 1, 45, 78889]\n"
     ]
    }
   ],
   "source": [
    "l1=list(map(int,input().split()))\n",
    "l2=list(map(int,input().split()))\n",
    "print(l1)\n",
    "print(l2)"
   ]
  },
  {
   "cell_type": "code",
   "execution_count": 9,
   "id": "779bf339",
   "metadata": {},
   "outputs": [
    {
     "name": "stdout",
     "output_type": "stream",
     "text": [
      "False\n",
      "False\n",
      "False\n",
      "False\n"
     ]
    }
   ],
   "source": [
    "def is_strictly_even(arr):\n",
    "    for i in range(len(arr)):\n",
    "        if i % 2 == 0 and arr[i] % 2 != 0:\n",
    "            return False\n",
    "        elif i % 2 != 0 and arr[i] % 2 == 0:\n",
    "            return False\n",
    "    return True\n",
    "\n",
    "# Test the function\n",
    "array1 = [2, 4, 6, 8, 10]\n",
    "print(is_strictly_even(array1))  # Output: True\n",
    "\n",
    "array2 = [2, 4, 6, 7, 10]\n",
    "print(is_strictly_even(array2))  # Output: False\n",
    "\n",
    "array3 = [1, 3, 5, 7, 9]\n",
    "print(is_strictly_even(array3))  # Output: True (Empty array is considered strictly even)\n",
    "\n",
    "array4 = [2, 4, 6, 8, 10, 11]\n",
    "print(is_strictly_even(array4))  # Output: False\n"
   ]
  },
  {
   "cell_type": "code",
   "execution_count": 11,
   "id": "64aea7ef",
   "metadata": {},
   "outputs": [
    {
     "name": "stdout",
     "output_type": "stream",
     "text": [
      "1 2 3 4 5 6\n",
      "5\n",
      "-1\n",
      "7\n"
     ]
    }
   ],
   "source": [
    "def last_even_index(arr):\n",
    "    last_even_idx = -1  # Initialize with -1 if no even element is found\n",
    "    for i in range(len(arr)):\n",
    "        if arr[i] % 2 == 0:\n",
    "            last_even_idx = i\n",
    "    return last_even_idx\n",
    "\n",
    "# Test the function\n",
    "array1 = list(map(int,input().split()))\n",
    "print(last_even_index(array1))  # Output: 4\n",
    "\n",
    "array2 = [1, 3, 5, 7, 9]\n",
    "print(last_even_index(array2))  # Output: -1 (No even element found)\n",
    "\n",
    "array3 = [1, 2, 3, 4, 5, 6, 7, 8, 9]\n",
    "print(last_even_index(array3))  # Output: 8\n"
   ]
  },
  {
   "cell_type": "code",
   "execution_count": 14,
   "id": "7f3f1d26",
   "metadata": {},
   "outputs": [
    {
     "name": "stdout",
     "output_type": "stream",
     "text": [
      "1 2 3 4 5 6 7\n",
      "6\n",
      "-1\n",
      "8\n"
     ]
    }
   ],
   "source": [
    "def last_odd_index(arr):\n",
    "    last_odd_idx = -1  # Initialize with -1 if no odd element is found\n",
    "    for i in range(len(arr)):\n",
    "        if arr[i] % 2 != 0:\n",
    "            last_odd_idx = i\n",
    "    return last_odd_idx\n",
    "\n",
    "# Test the function\n",
    "array1 = list(map(int,input().split()))\n",
    "print(last_odd_index(array1))  # Output: 4\n",
    "\n",
    "array2 = [2, 4, 6, 8, 10]\n",
    "print(last_odd_index(array2))  # Output: -1 (No odd element found)\n",
    "\n",
    "array3 = [1, 2, 3, 4, 5, 6, 7, 8, 9]\n",
    "print(last_odd_index(array3))  # Output: 8\n"
   ]
  }
 ],
 "metadata": {
  "kernelspec": {
   "display_name": "Python 3 (ipykernel)",
   "language": "python",
   "name": "python3"
  },
  "language_info": {
   "codemirror_mode": {
    "name": "ipython",
    "version": 3
   },
   "file_extension": ".py",
   "mimetype": "text/x-python",
   "name": "python",
   "nbconvert_exporter": "python",
   "pygments_lexer": "ipython3",
   "version": "3.9.12"
  }
 },
 "nbformat": 4,
 "nbformat_minor": 5
}
