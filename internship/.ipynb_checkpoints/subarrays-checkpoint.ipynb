{
 "cells": [
  {
   "cell_type": "markdown",
   "id": "8c64f25c",
   "metadata": {},
   "source": [
    "# subarray(03-07-23)\n"
   ]
  },
  {
   "cell_type": "code",
   "execution_count": 2,
   "id": "b5a58143",
   "metadata": {},
   "outputs": [
    {
     "name": "stdout",
     "output_type": "stream",
     "text": [
      "1 2 3 4 5\n",
      "[1, 2]\n",
      "[1, 2, 3]\n",
      "[1, 2, 3, 4]\n",
      "[1, 2, 3, 4, 5]\n",
      "[2, 3]\n",
      "[2, 3, 4]\n",
      "[2, 3, 4, 5]\n",
      "[3, 4]\n",
      "[3, 4, 5]\n",
      "[4, 5]\n"
     ]
    }
   ],
   "source": [
    "l=list(map(int,input().split()))\n",
    "for i in range(len(l)):\n",
    "    for j in range(i+1,len(l)):\n",
    "        print(l[i:j+1])"
   ]
  },
  {
   "cell_type": "code",
   "execution_count": 3,
   "id": "d0e95532",
   "metadata": {},
   "outputs": [
    {
     "name": "stdout",
     "output_type": "stream",
     "text": [
      "1 2 7 3 10 2 11 1\n",
      "[2, 7, 3]\n",
      "[10, 2]\n",
      "[11, 1]\n"
     ]
    }
   ],
   "source": [
    "l=list(map(int,input().split()))\n",
    "for i in range(len(l)):\n",
    "    for j in range(i,len(l)):\n",
    "        if sum(l[i:j+1])==12:\n",
    "            print(l[i:j+1])"
   ]
  },
  {
   "cell_type": "code",
   "execution_count": 7,
   "id": "42743aa7",
   "metadata": {},
   "outputs": [
    {
     "name": "stdout",
     "output_type": "stream",
     "text": [
      "[1]\n",
      "[1, 3]\n",
      "[1, 3, 10]\n",
      "[1, 3, 10, 13]\n",
      "[1, 3, 10, 13, 23]\n",
      "[1, 3, 10, 13, 23, 25]\n",
      "[1, 3, 10, 13, 23, 25, 36]\n",
      "[1, 3, 10, 13, 23, 25, 36, 37]\n"
     ]
    }
   ],
   "source": [
    "l=[1,2,7,3,10,2,11,1]\n",
    "l1=[]\n",
    "c=0\n",
    "for i in l:\n",
    "    c+=i\n",
    "    l1.append(c)\n",
    "    print(l1)\n",
    "    "
   ]
  },
  {
   "cell_type": "code",
   "execution_count": null,
   "id": "cd314256",
   "metadata": {},
   "outputs": [],
   "source": [
    "l=list(map(int,input().split()))\n",
    "sum_=int(input())\n",
    "prefix=[]\n",
    "x=0\n",
    "for i in range(len(l)):\n",
    "    x = x+ l[i]\n",
    "    prefix.append(x)\n",
    "d="
   ]
  },
  {
   "cell_type": "code",
   "execution_count": 15,
   "id": "68e380ea",
   "metadata": {},
   "outputs": [
    {
     "name": "stdout",
     "output_type": "stream",
     "text": [
      "[[10, 5], [5, 2, 7, 1]]\n"
     ]
    }
   ],
   "source": [
    "# l = [1,2,7,3,10,2,1,11]\n",
    "# sum = 12\n",
    "l = [10,5,2,7,1,9]\n",
    "sum_ = 15\n",
    "prefix = []\n",
    "x =0\n",
    "y=[]\n",
    "\n",
    "for i in range(len(l)):\n",
    "    x = x + l[i]\n",
    "    prefix.append(x)\n",
    "d = {}#val=index,k=sum\n",
    "for i in range(len(prefix)):\n",
    "    d[prefix[i]] = i\n",
    "    if prefix[i] == sum_:\n",
    "        y.append(l[0:i+1])\n",
    "    elif prefix[i]-sum_ in d:\n",
    "        y.append(l[d[prefix[i]-sum_]+1:i+1])\n",
    "c="
   ]
  },
  {
   "cell_type": "markdown",
   "id": "6a7b0e0c",
   "metadata": {},
   "source": [
    "# two pointer(04-07-23)"
   ]
  },
  {
   "cell_type": "code",
   "execution_count": 6,
   "id": "f2c5b0a5",
   "metadata": {},
   "outputs": [
    {
     "name": "stdout",
     "output_type": "stream",
     "text": [
      "1 2 3 4 5 6 7 8 9 10\n",
      "7\n",
      "1 6\n",
      "2 5\n",
      "3 4\n",
      "3\n"
     ]
    }
   ],
   "source": [
    "l = list(map(int,input().split()))\n",
    "sum_ = int(input())\n",
    "i = 0\n",
    "j = len(l) - 1\n",
    "count = 0\n",
    "while i<j:\n",
    "    if l[i] + l[j] == sum_:\n",
    "        count += 1\n",
    "        print(l[i],l[j])\n",
    "        i += 1\n",
    "        j = len(l) - 1\n",
    "    elif l[i] + l[j] < sum_:\n",
    "        i += 1\n",
    "    elif l[i] + l[j] > sum_:\n",
    "        j -= 1\n",
    "print(count)"
   ]
  },
  {
   "cell_type": "code",
   "execution_count": 14,
   "id": "4195216f",
   "metadata": {},
   "outputs": [
    {
     "name": "stdout",
     "output_type": "stream",
     "text": [
      "1 4 45 6 10 8\n",
      "13\n",
      "1 4 8\n"
     ]
    }
   ],
   "source": [
    "l = list(map(int,input().split()))\n",
    "sum_ = int(input())\n",
    "\n",
    "for i in range(len(l)):\n",
    "    x = i+1\n",
    "    y = len(l)-1\n",
    "    while x<y:\n",
    "        if l[i]+l[x]+l[y] == sum_:\n",
    "            print(l[i],l[x],l[y])\n",
    "            break\n",
    "        elif l[i]+l[x]+l[y] > sum_:\n",
    "            y -= 1\n",
    "        elif l[i]+l[x]+l[y] < sum_:\n",
    "            x += 1"
   ]
  },
  {
   "cell_type": "code",
   "execution_count": 4,
   "id": "72065752",
   "metadata": {},
   "outputs": [
    {
     "name": "stdout",
     "output_type": "stream",
     "text": [
      "6\n",
      "0 0 1 2 0 0\n",
      "6\n"
     ]
    }
   ],
   "source": [
    "def count_subarrays_with_zero_sum(n, arr):\n",
    "    count = 0\n",
    "    prefixSum = 0\n",
    "    sumCount = {}\n",
    "    \n",
    "    for i in range(n):\n",
    "        prefixSum += arr[i]\n",
    "        \n",
    "        if prefixSum == 0:\n",
    "            count += 1\n",
    "            \n",
    "        if prefixSum in sumCount:\n",
    "            count += sumCount[prefixSum]\n",
    "        \n",
    "        if prefixSum in sumCount:\n",
    "            sumCount[prefixSum] += 1\n",
    "        else:\n",
    "            sumCount[prefixSum] = 1\n",
    "    \n",
    "    return count\n",
    "\n",
    "\n",
    "# Read input\n",
    "n = int(input())\n",
    "arr = list(map(int, input().split()))\n",
    "\n",
    "# Call the function and print the result\n",
    "result = count_subarrays_with_zero_sum(n, arr)\n",
    "print(result)\n"
   ]
  },
  {
   "cell_type": "code",
   "execution_count": 8,
   "id": "b8ad00c0",
   "metadata": {},
   "outputs": [
    {
     "name": "stdout",
     "output_type": "stream",
     "text": [
      "15 -2 2 -8 1 7 10 23\n",
      "5\n"
     ]
    }
   ],
   "source": [
    "def maxSubarrayWithZeroSum(arr, n):\n",
    "    # Create a dictionary to store prefix sums\n",
    "    prefix_sums = {}\n",
    "\n",
    "    # Initialize variables\n",
    "    max_size = 0\n",
    "    curr_sum = 0\n",
    "\n",
    "    # Iterate through the array\n",
    "    for i in range(n):\n",
    "        curr_sum += arr[i]\n",
    "\n",
    "        # If the current sum is zero, update the max_size\n",
    "        if curr_sum == 0:\n",
    "            max_size = i + 1\n",
    "\n",
    "        # If the current sum is already present in the prefix sums dictionary,\n",
    "        # update the max_size based on the difference in indices\n",
    "        if curr_sum in prefix_sums:\n",
    "            max_size = max(max_size, i - prefix_sums[curr_sum])\n",
    "\n",
    "        # If the current sum is not present in the prefix sums dictionary, add it\n",
    "        if curr_sum not in prefix_sums:\n",
    "            prefix_sums[curr_sum] = i\n",
    "\n",
    "    return max_size\n",
    "\n",
    "# Example\n",
    "arr = list(map(int,input().split()))\n",
    "n = len(arr)\n",
    "print(maxSubarrayWithZeroSum(arr, n))  # Output: 5\n",
    "\n"
   ]
  },
  {
   "cell_type": "markdown",
   "id": "70feaa48",
   "metadata": {},
   "source": [
    "# subarray(05/07/23)\n"
   ]
  },
  {
   "cell_type": "code",
   "execution_count": 2,
   "id": "964ffec2",
   "metadata": {},
   "outputs": [
    {
     "name": "stdout",
     "output_type": "stream",
     "text": [
      "12\n",
      "[2, 5, 12, 22, 24, 35, 36]\n"
     ]
    }
   ],
   "source": [
    "l=[2,3,7,10,2,11,1]\n",
    "s=int(input())\n",
    "prefix=[]\n",
    "c=0\n",
    "for i in l:\n",
    "    c+=i\n",
    "    prefix.append(c)\n",
    "print(prefix)\n",
    "d={}\n",
    "for i in pre:\n",
    "    "
   ]
  },
  {
   "cell_type": "markdown",
   "id": "f27f18a1",
   "metadata": {},
   "source": [
    "# program for print indexs of a sum"
   ]
  },
  {
   "cell_type": "code",
   "execution_count": 20,
   "id": "c065d408",
   "metadata": {},
   "outputs": [
    {
     "name": "stdout",
     "output_type": "stream",
     "text": [
      "12\n",
      "0 2\n",
      "3 4\n",
      "5 6\n"
     ]
    }
   ],
   "source": [
    "l = [2,3,7,10,2,11,1]\n",
    "sum_=int(input())\n",
    "pre = []\n",
    "x=0\n",
    "for i in range(len(l)):\n",
    "    x = x+l[i]\n",
    "    pre.append(x)\n",
    "d={}\n",
    "for i in range(len(pre)):\n",
    "    if pre[i]==sum_:\n",
    "        print(\"0\",i)\n",
    "    elif pre[i]-sum_ in d:\n",
    "        print(d[pre[i]-sum_]+1,i)\n",
    "        \n",
    "    d[pre[i]]=i"
   ]
  },
  {
   "cell_type": "markdown",
   "id": "0f82aab4",
   "metadata": {},
   "source": [
    "# program for print value of a sum"
   ]
  },
  {
   "cell_type": "code",
   "execution_count": 21,
   "id": "6bd4481a",
   "metadata": {},
   "outputs": [
    {
     "name": "stdout",
     "output_type": "stream",
     "text": [
      "12\n",
      "2 3 7\n",
      "10 2\n",
      "11 1\n"
     ]
    }
   ],
   "source": [
    "l = [2,3,7,10,2,11,1]\n",
    "sum_=int(input())\n",
    "pre = []\n",
    "x=0\n",
    "for i in range(len(l)):\n",
    "    x = x+l[i]\n",
    "    pre.append(x)\n",
    "d={}\n",
    "for i in range(len(pre)):\n",
    "    if pre[i]==sum_:\n",
    "        print(*l[:i+1])\n",
    "    elif pre[i]-sum_ in d:\n",
    "        print(*l[d[pre[i]-sum_]+1:i+1])\n",
    "    d[pre[i]]=i"
   ]
  },
  {
   "cell_type": "code",
   "execution_count": 25,
   "id": "7f4e30b7",
   "metadata": {},
   "outputs": [
    {
     "name": "stdout",
     "output_type": "stream",
     "text": [
      "0\n",
      "0\n",
      "0\n"
     ]
    }
   ],
   "source": [
    "l = [2,0,7,0,2,0,1]\n",
    "sum_=0\n",
    "pre = []\n",
    "x=0\n",
    "for i in range(len(l)):\n",
    "    x = x+l[i]\n",
    "    pre.append(x)\n",
    "d={}\n",
    "for i in range(len(pre)):\n",
    "    if pre[i]==sum_:\n",
    "        print(*l[:i+1])\n",
    "    elif pre[i]-sum_ in d:\n",
    "        print(*l[d[pre[i]-sum_]+1:i+1])\n",
    "    d[pre[i]]=i"
   ]
  },
  {
   "cell_type": "code",
   "execution_count": null,
   "id": "d3648157",
   "metadata": {},
   "outputs": [],
   "source": [
    "def findsubarray(self,arr,n):\n",
    "    sum_=0\n",
    "    pre=[]\n",
    "    x=0\n",
    "    for i in range(n):\n",
    "        x=x+arr[i]\n",
    "        pre.append(x)\n",
    "    d={}\n",
    "    count=0\n",
    "    for i in range(n):\n",
    "        if (pre[i]==sum_):\n",
    "            count=count+1\n",
    "        if pre[i]-sum_ in d:\n",
    "            count=count+len(d[pre[i]-sum_])\n",
    "        if pre[i] in d:\n",
    "            x=d[pre[i]]\n",
    "            x.apend(i)\n",
    "            d[pre[i]]=1\n",
    "        else:\n",
    "            d[pre[i]]=[i]\n",
    "    return count"
   ]
  },
  {
   "cell_type": "markdown",
   "id": "0e44cd31",
   "metadata": {},
   "source": [
    "# stack(06/07/23)"
   ]
  },
  {
   "cell_type": "code",
   "execution_count": 5,
   "id": "c531fb49",
   "metadata": {},
   "outputs": [
    {
     "name": "stdout",
     "output_type": "stream",
     "text": [
      "[3, 18, 36, 108, 324, 5832, 11664, 104976]\n"
     ]
    }
   ],
   "source": [
    "l=[3,6,2,3,3,18,2,9]\n",
    "x=1\n",
    "l1=[]\n",
    "for i in l:\n",
    "    x=x*i\n",
    "    l1.append(x)\n",
    "print(l1)"
   ]
  },
  {
   "cell_type": "code",
   "execution_count": 8,
   "id": "1c989fcf",
   "metadata": {},
   "outputs": [
    {
     "name": "stdout",
     "output_type": "stream",
     "text": [
      "['{', '(', ')', '}', '(', '}']\n"
     ]
    }
   ],
   "source": [
    "s=\"{()}(}\"\n",
    "c=0\n",
    "o=0\n",
    "l=[]\n",
    "for i in s:\n",
    "    l.append(i)\n",
    "print(l)"
   ]
  },
  {
   "cell_type": "code",
   "execution_count": 9,
   "id": "3dc9ae31",
   "metadata": {},
   "outputs": [
    {
     "name": "stdout",
     "output_type": "stream",
     "text": [
      "0\n",
      "1\n",
      "2\n",
      "3\n",
      "4\n",
      "5\n"
     ]
    }
   ],
   "source": [
    "s=\"{()}(}\"\n",
    "c=0\n",
    "o=0\n",
    "l=[]\n",
    "for i in s:\n",
    "    l.append(i)\n",
    "for i in range(len(l)):\n",
    "    if l[i] in \"]})\":\n",
    "        "
   ]
  },
  {
   "cell_type": "code",
   "execution_count": 23,
   "id": "365fd001",
   "metadata": {},
   "outputs": [
    {
     "name": "stdout",
     "output_type": "stream",
     "text": [
      "{ } ( { }\n",
      "invalid\n"
     ]
    }
   ],
   "source": [
    "s = input()\n",
    "stack = []\n",
    "c=0\n",
    "for i in s:\n",
    "    if ( i =='[' or i =='{' or i =='('):\n",
    "        stack.append(i)\n",
    "    if c==1:\n",
    "        break\n",
    "    else:\n",
    "        if i == '}':\n",
    "            if len(stack) != 0 and stack[-1] == '{':\n",
    "                stack.pop()\n",
    "            else:\n",
    "                c += 1\n",
    "        if i == ')':\n",
    "            if len(stack) != 0 and stack[-1] == '(':\n",
    "                stack.pop()\n",
    "            else:\n",
    "                c += 1\n",
    "        if i == ']':\n",
    "            if len(stack) != 0 and stack[-1] == '[':\n",
    "                stack.pop()\n",
    "            else:\n",
    "                c += 1\n",
    "if (len(stack)==0 and c==0):\n",
    "    print('valid')\n",
    "else:\n",
    "    print('invalid')"
   ]
  },
  {
   "cell_type": "code",
   "execution_count": 11,
   "id": "2ac12192",
   "metadata": {},
   "outputs": [
    {
     "name": "stdout",
     "output_type": "stream",
     "text": [
      "2\n",
      "( )\n",
      "valid\n"
     ]
    }
   ],
   "source": [
    "s = input()\n",
    "stack = []\n",
    "c=0\n",
    "for i in s:\n",
    "    if ( i =='[' or i =='{' or i =='('):\n",
    "        stack.append(i)\n",
    "    if c==1:\n",
    "        break\n",
    "    else:\n",
    "        if i == '}' or i == ')' or i== ']':\n",
    "            if stack[-1] == '{' or stack[-1] == '(' or  stack[-1] == '[':\n",
    "                stack.pop()\n",
    "            else:\n",
    "                c = 1\n",
    "if (c==0):\n",
    "    print('valid')\n",
    "else:\n",
    "    print('invalid')"
   ]
  },
  {
   "cell_type": "code",
   "execution_count": 14,
   "id": "60d6fcde",
   "metadata": {},
   "outputs": [
    {
     "name": "stdout",
     "output_type": "stream",
     "text": [
      "2\n",
      "2\n"
     ]
    }
   ],
   "source": [
    "n=int(input())\n",
    "for i in range(n):\n",
    "    i+=i\n",
    "print(n)"
   ]
  },
  {
   "cell_type": "code",
   "execution_count": 38,
   "id": "38ad92fd",
   "metadata": {},
   "outputs": [
    {
     "name": "stdout",
     "output_type": "stream",
     "text": [
      "[]\n",
      "[]\n"
     ]
    }
   ],
   "source": [
    "s = \"greekforgreek\"\n",
    "stack = []\n",
    "c=0\n",
    "p=[]\n",
    "for i in s:\n",
    "    if ( i =='a' or i =='b' or i =='c' or i=='d'):\n",
    "        stack.append(i)\n",
    "    if c==1:\n",
    "        break\n",
    "    else:\n",
    "        if i == 'a':\n",
    "            if len(stack) != 0 and stack[-1] == 'a':\n",
    "                stack.pop()\n",
    "            else:\n",
    "                p.append(i)\n",
    "        if i == 'b':\n",
    "            if len(stack) != 0 and stack[-1] == 'b':\n",
    "                stack.pop()\n",
    "            else:\n",
    "                p.append(i)\n",
    "        if i == 'c':\n",
    "            if len(stack) != 0 and stack[-1] == 'c':\n",
    "                stack.pop()\n",
    "            else:\n",
    "                p.append(i)\n",
    "        if i == 'd':\n",
    "            if len(stack) != 0 and stack[-1] == 'd':\n",
    "                stack.pop()\n",
    "            else:\n",
    "                p.append(i)\n",
    "if (len(stack)==0 and c==0):\n",
    "    print(p)\n",
    "else:\n",
    "    print(p)"
   ]
  },
  {
   "cell_type": "code",
   "execution_count": null,
   "id": "d17ea530",
   "metadata": {},
   "outputs": [],
   "source": [
    "#Satcks\n",
    "s=input()\n",
    "l=[]\n",
    "top=-1\n",
    "c=0\n",
    "for i in s:\n",
    "    if i in '{[(':\n",
    "        l.append(i)\n",
    "        c+=1\n",
    "        top+=1\n",
    "    elif i in '}])':\n",
    "        if top==-1:\n",
    "            break\n",
    "        elif i==']' and l[top]=='[' or i=='}' and l[top]=='{' or i==')' and l[top]=='(':\n",
    "            top-=1\n",
    "            l.pop()\n",
    "            c+=1\n",
    "        else:\n",
    "            break\n",
    "if c==len(s) and len(l)==0 :\n",
    "    print('valid')\n",
    "else:\n",
    "    print('Invalid')"
   ]
  },
  {
   "cell_type": "code",
   "execution_count": 5,
   "id": "b2ff81dc",
   "metadata": {},
   "outputs": [
    {
     "name": "stdout",
     "output_type": "stream",
     "text": [
      "10\n",
      "0 1 1 2 3 5 8 13 21 34 55\n"
     ]
    }
   ],
   "source": [
    "n=int(input())\n",
    "l=[0,1]\n",
    "l1=[]\n",
    "for i in l:\n",
    "    l1.append(i)\n",
    "for i in range(n-1):\n",
    "    n=l1[-1]+l1[-2]\n",
    "    l1.append(n)\n",
    "print(*l1)"
   ]
  },
  {
   "cell_type": "code",
   "execution_count": null,
   "id": "81be2450",
   "metadata": {},
   "outputs": [],
   "source": [
    "def reverse_string(string):\n",
    "    reversed_string = ''\n",
    "    for i in range(len(string) - 1, -1, -1):\n",
    "        reversed_string += string[i]\n",
    "    return reversed_string\n",
    "\n",
    "# Example usage\n",
    "n=int(input())\n",
    "for i in range(n):\n",
    "    my_string = input()\n",
    "    reversed_string = reverse_string(my_string)\n",
    "    print(reversed_string)\n"
   ]
  },
  {
   "cell_type": "code",
   "execution_count": 35,
   "id": "cd86f7ff",
   "metadata": {},
   "outputs": [
    {
     "name": "stdout",
     "output_type": "stream",
     "text": [
      "5\n",
      "1 2 3 4 5\n",
      "1 3 5\n"
     ]
    }
   ],
   "source": [
    "def delete_middle_element(stack):\n",
    "    temp_stack = []  # \n",
    "    middle_index = len(stack) // 2\n",
    "\n",
    "    for _ in range(middle_index):\n",
    "        temp_stack.append(stack.pop())\n",
    "        stack.pop()\n",
    "\n",
    "    # Pop remaining elements and push them to tempozz\n",
    "    while stack:\n",
    "        temp_stack.append(stack.pop())\n",
    "\n",
    "    # Assign temporary stack to the original stack\n",
    "    stack[:] = temp_stack[::-1]\n",
    "\n",
    "    return stack\n",
    "\n",
    "# Example usage\n",
    "n=int(input())\n",
    "my_stack = list(map(int,input().split()))\n",
    "updated_stack = delete_middle_element(my_stack)\n",
    "print(*updated_stack)\n"
   ]
  },
  {
   "cell_type": "markdown",
   "id": "913ab655",
   "metadata": {},
   "source": [
    "# stack(07/07/23)"
   ]
  },
  {
   "cell_type": "code",
   "execution_count": 4,
   "id": "95b50d11",
   "metadata": {},
   "outputs": [
    {
     "name": "stdout",
     "output_type": "stream",
     "text": [
      "[4, 1, 9, -1, -1, 9, -1]\n"
     ]
    }
   ],
   "source": [
    "l=[7,4,1,9,10,8,9]\n",
    "x=[]\n",
    "y=[]\n",
    "for i in l:\n",
    "    x.append(i)\n",
    "for i in range(len(l)):\n",
    "    if l[i]<l[i-1]:\n",
    "        y.append(l[i+1])\n",
    "    else:\n",
    "        y.append(-1)\n",
    "print(y)"
   ]
  },
  {
   "cell_type": "code",
   "execution_count": null,
   "id": "ed344804",
   "metadata": {},
   "outputs": [],
   "source": [
    "n=6\n",
    "a={1,5,0,3,4,5}\n",
    "output=-1 1 -1 0 3 4"
   ]
  },
  {
   "cell_type": "code",
   "execution_count": 12,
   "id": "172d3034",
   "metadata": {},
   "outputs": [
    {
     "name": "stdout",
     "output_type": "stream",
     "text": [
      "1 -1 2 -1 5\n"
     ]
    }
   ],
   "source": [
    "n=6\n",
    "arr=[5,6,2,3,1,7]\n",
    "ans = []\n",
    "stack = []\n",
    "for i in range(n):\n",
    "    c=0\n",
    "    if (len(stack)==0):\n",
    "        stack.append(arr[i])\n",
    "    elif (len(stack) and stack[-1]<arr[i]):\n",
    "        ans.append(stack[-1])\n",
    "        stack.append(arr[i])\n",
    "    else:\n",
    "        while(stack[-1]>=arr[i]):\n",
    "            stack.pop()\n",
    "            if(len(stack)==0):\n",
    "                c=1\n",
    "                break\n",
    "        if c==1:\n",
    "            ans.append(-1)\n",
    "            stack.append(arr[i])\n",
    "        else:\n",
    "            ans.append(stack[-1])\n",
    "            stack.append(arr[i])\n",
    "print(*ans[::-1])"
   ]
  },
  {
   "cell_type": "markdown",
   "id": "4a95c37e",
   "metadata": {},
   "source": [
    "# bit manipulation(08/07/23)"
   ]
  },
  {
   "cell_type": "code",
   "execution_count": 5,
   "id": "a8b43c03",
   "metadata": {},
   "outputs": [
    {
     "data": {
      "text/plain": [
       "0"
      ]
     },
     "execution_count": 5,
     "metadata": {},
     "output_type": "execute_result"
    }
   ],
   "source": [
    "1^1"
   ]
  },
  {
   "cell_type": "code",
   "execution_count": null,
   "id": "2f1a92f2",
   "metadata": {},
   "outputs": [],
   "source": [
    "x>>y => x/(2**y)\n",
    "x<<y => x*(2**y)\n",
    "~10 => x => -(x)-1\n",
    "\"^\" -> 1^1 =0 0^1 =1\n",
    "       0^0 =0 1^0 =1"
   ]
  },
  {
   "cell_type": "code",
   "execution_count": 7,
   "id": "d89e49f4",
   "metadata": {},
   "outputs": [
    {
     "data": {
      "text/plain": [
       "15"
      ]
     },
     "execution_count": 7,
     "metadata": {},
     "output_type": "execute_result"
    }
   ],
   "source": [
    "12^3"
   ]
  },
  {
   "cell_type": "code",
   "execution_count": 8,
   "id": "e587d08b",
   "metadata": {},
   "outputs": [
    {
     "name": "stdout",
     "output_type": "stream",
     "text": [
      "15\n",
      "1111\n"
     ]
    }
   ],
   "source": [
    "n"
   ]
  },
  {
   "cell_type": "code",
   "execution_count": 22,
   "id": "88c7387a",
   "metadata": {},
   "outputs": [
    {
     "name": "stdout",
     "output_type": "stream",
     "text": [
      "10\n"
     ]
    }
   ],
   "source": [
    "s='1010'\n",
    "x=s[::-1]\n",
    "r=0\n",
    "for i in range(len(x)):\n",
    "    if x[i]==\"1\":\n",
    "        r+=2**i\n",
    "print(r)"
   ]
  },
  {
   "cell_type": "code",
   "execution_count": 15,
   "id": "6600bf70",
   "metadata": {},
   "outputs": [
    {
     "name": "stdout",
     "output_type": "stream",
     "text": [
      "10\n",
      "0\n"
     ]
    }
   ],
   "source": [
    "def fun(n):\n",
    "    s=0\n",
    "    x=str(s)\n",
    "    while n:\n",
    "        s=s+(n&1)\n",
    "        n=n>>1\n",
    "    return x[::-1]\n",
    "\n",
    "n=int(input())\n",
    "x=fun(n)\n",
    "print(x)"
   ]
  },
  {
   "cell_type": "code",
   "execution_count": 25,
   "id": "3ab35c01",
   "metadata": {},
   "outputs": [
    {
     "data": {
      "text/plain": [
       "4"
      ]
     },
     "execution_count": 25,
     "metadata": {},
     "output_type": "execute_result"
    }
   ],
   "source": [
    "def fun(l):\n",
    "    ans=0\n",
    "    for i in l:\n",
    "        ans =ans ^ i\n",
    "    return ans\n",
    "fun([1,2,3,3,1,2,4])"
   ]
  },
  {
   "cell_type": "code",
   "execution_count": 28,
   "id": "b91d336f",
   "metadata": {},
   "outputs": [
    {
     "name": "stdout",
     "output_type": "stream",
     "text": [
      "1 2 3 1 2 3 4 4\n",
      "0\n"
     ]
    }
   ],
   "source": [
    "def fun(l):\n",
    "    ans=0\n",
    "    for i in l:\n",
    "        ans =ans ^ i\n",
    "    return ans\n",
    "\n",
    "l=list(map(int,input().split()))\n",
    "x=fun(l)\n",
    "print(x)"
   ]
  },
  {
   "cell_type": "code",
   "execution_count": 2,
   "id": "92cca83a",
   "metadata": {},
   "outputs": [
    {
     "data": {
      "text/plain": [
       "2"
      ]
     },
     "execution_count": 2,
     "metadata": {},
     "output_type": "execute_result"
    }
   ],
   "source": [
    "def fun(l,n):\n",
    "    ans=0\n",
    "    for i in range(1,n+1):\n",
    "        ans = ans ^ i\n",
    "    for i in l:\n",
    "        ans = ans ^ i\n",
    "    return ans\n",
    "fun([1,3,4,5],5)\n",
    "\n"
   ]
  },
  {
   "cell_type": "code",
   "execution_count": 30,
   "id": "635a877d",
   "metadata": {},
   "outputs": [
    {
     "name": "stdout",
     "output_type": "stream",
     "text": [
      "10\n",
      "1\n"
     ]
    }
   ],
   "source": [
    "def differ_at_one_bit(num1, num2):\n",
    "    # XOR the two numbers to get a result with bits set where they differ\n",
    "    r = num1 ^ num2\n",
    "    \n",
    "    # Check if the result has only one bit set\n",
    "    if r != 0 and (r & (r - 1)) == 0:\n",
    "        return r\n",
    "\n",
    "    else:\n",
    "        return False\n",
    "\n",
    "# Example usage\n",
    "num1 = 13  # Binary: 101\n",
    "num2 = 9   # Binary: 111\n",
    "c=0\n",
    "print(r)\n",
    "if differ_at_one_bit(num1, num2):\n",
    "    c+=1\n",
    "    print(c)\n",
    "else:\n",
    "    print(c)\n"
   ]
  },
  {
   "cell_type": "markdown",
   "id": "f4887895",
   "metadata": {},
   "source": [
    "# sorting techniques(10/07/23)\n",
    "- bubble sort()\n",
    "- insertion sort()\n",
    "- selection sort()\n",
    "- quick sort()\n",
    "- merge sort()\n",
    "- heap sort()\n",
    "- radix sort()\n",
    "- shell sort()\n",
    "- tin sort()"
   ]
  },
  {
   "cell_type": "code",
   "execution_count": 15,
   "id": "7fe2fb6f",
   "metadata": {
    "scrolled": true
   },
   "outputs": [
    {
     "name": "stdout",
     "output_type": "stream",
     "text": [
      "4 0 7 6 9 1 3\n",
      "0 1 3 4 6 7 9\n"
     ]
    }
   ],
   "source": [
    "l = list(map(int,input().split()))\n",
    "for k in range(len(l)):\n",
    "    for i in range(len(l)-1):\n",
    "        if l[i] > l[i+1]:\n",
    "            l[i],l[i+1]=l[i+1],l[i]\n",
    "print(*l)"
   ]
  },
  {
   "cell_type": "code",
   "execution_count": 16,
   "id": "7653e574",
   "metadata": {},
   "outputs": [
    {
     "name": "stdout",
     "output_type": "stream",
     "text": [
      "4 0 7 6 9 1 3\n",
      "0 1 3 4 6 7 9\n",
      "21\n"
     ]
    }
   ],
   "source": [
    "l = list(map(int,input().split()))\n",
    "x=0\n",
    "for k in range(len(l)):\n",
    "    for i in range(len(l)-1-k):\n",
    "        if l[i] > l[i+1]:\n",
    "            l[i],l[i+1]=l[i+1],l[i]\n",
    "        x+=1\n",
    "        \n",
    "print(*l)\n",
    "print(x)"
   ]
  },
  {
   "cell_type": "code",
   "execution_count": 18,
   "id": "f6b8344f",
   "metadata": {},
   "outputs": [
    {
     "name": "stdout",
     "output_type": "stream",
     "text": [
      "4 0 7 6 9 1 3\n",
      "0 1 3 4 6 7 9\n"
     ]
    }
   ],
   "source": [
    "l = list(map(int,input().split()))\n",
    "for i in range(1,len(l)):\n",
    "    j = i - 1\n",
    "    x = l[i]\n",
    "    while j >= 0 and l[j] > x:\n",
    "        l[j+1] = l[j]\n",
    "        j = j -1\n",
    "    l[j+1] = x\n",
    "print(*l)"
   ]
  },
  {
   "cell_type": "code",
   "execution_count": 19,
   "id": "2c34ba89",
   "metadata": {},
   "outputs": [
    {
     "name": "stdout",
     "output_type": "stream",
     "text": [
      "4 0 7 6 9 1 3\n",
      "0 1 3 4 6 7 9\n",
      "10\n"
     ]
    }
   ],
   "source": [
    "l = list(map(int,input().split()))# 4] [0 7 6 9 1 3\n",
    "c = 0                             # 0 1 2 3 4 5 6\n",
    "for i in range(1,len(l)):#1\n",
    "    j = i - 1#0\n",
    "    x = l[i]#0\n",
    "    while j >= 0 and l[j] > x:#0>=0 and 4 > 0\n",
    "        l[j+1] = l[j] #\n",
    "        j = j -1\n",
    "        c+=1\n",
    "    l[j+1] = x\n",
    "print(*l)\n",
    "print(c)"
   ]
  },
  {
   "cell_type": "markdown",
   "id": "92d9d7e1",
   "metadata": {},
   "source": [
    "# recursion(11/07/23)"
   ]
  },
  {
   "cell_type": "markdown",
   "id": "23cbe657",
   "metadata": {},
   "source": [
    "def fun(n):\n",
    "    if n < 0:\n",
    "        return\n",
    "    fun(n-1)\n",
    "    print(n)\n",
    "    fun(n-2)\n",
    "fun(5)"
   ]
  },
  {
   "cell_type": "code",
   "execution_count": 3,
   "id": "4957b56d",
   "metadata": {},
   "outputs": [
    {
     "data": {
      "text/plain": [
       "15"
      ]
     },
     "execution_count": 3,
     "metadata": {},
     "output_type": "execute_result"
    }
   ],
   "source": [
    "def fun(n):\n",
    "    if n == 1:\n",
    "        return 1\n",
    "    return n + fun(n-1)\n",
    "fun(5)"
   ]
  },
  {
   "cell_type": "code",
   "execution_count": 6,
   "id": "2583d9c4",
   "metadata": {},
   "outputs": [
    {
     "data": {
      "text/plain": [
       "13"
      ]
     },
     "execution_count": 6,
     "metadata": {},
     "output_type": "execute_result"
    }
   ],
   "source": [
    "def fun(n):\n",
    "    if n==0:\n",
    "        return 0\n",
    "    if n==1:\n",
    "        return 1\n",
    "    return fun(n - 1) + fun(n - 2)\n",
    "fun(7)"
   ]
  },
  {
   "cell_type": "code",
   "execution_count": null,
   "id": "e326439e",
   "metadata": {},
   "outputs": [],
   "source": [
    "def fun(s):\n",
    "    "
   ]
  },
  {
   "cell_type": "code",
   "execution_count": null,
   "id": "e04136df",
   "metadata": {},
   "outputs": [],
   "source": []
  },
  {
   "cell_type": "code",
   "execution_count": null,
   "id": "2ac9f7ea",
   "metadata": {},
   "outputs": [],
   "source": []
  },
  {
   "cell_type": "code",
   "execution_count": null,
   "id": "e9db3ade",
   "metadata": {},
   "outputs": [],
   "source": []
  },
  {
   "cell_type": "code",
   "execution_count": null,
   "id": "2de10fa6",
   "metadata": {},
   "outputs": [],
   "source": []
  },
  {
   "cell_type": "code",
   "execution_count": null,
   "id": "ef76fbdc",
   "metadata": {},
   "outputs": [],
   "source": []
  },
  {
   "cell_type": "code",
   "execution_count": null,
   "id": "c07445f9",
   "metadata": {},
   "outputs": [],
   "source": []
  },
  {
   "cell_type": "code",
   "execution_count": null,
   "id": "76b829d8",
   "metadata": {},
   "outputs": [],
   "source": []
  },
  {
   "cell_type": "code",
   "execution_count": null,
   "id": "b842751f",
   "metadata": {},
   "outputs": [],
   "source": []
  },
  {
   "cell_type": "code",
   "execution_count": null,
   "id": "e42c37dd",
   "metadata": {},
   "outputs": [],
   "source": []
  },
  {
   "cell_type": "code",
   "execution_count": null,
   "id": "d334f215",
   "metadata": {},
   "outputs": [],
   "source": []
  },
  {
   "cell_type": "code",
   "execution_count": null,
   "id": "b948dd2a",
   "metadata": {},
   "outputs": [],
   "source": []
  },
  {
   "cell_type": "code",
   "execution_count": null,
   "id": "9f95cd24",
   "metadata": {},
   "outputs": [],
   "source": []
  },
  {
   "cell_type": "code",
   "execution_count": null,
   "id": "157091bb",
   "metadata": {},
   "outputs": [],
   "source": []
  },
  {
   "cell_type": "code",
   "execution_count": null,
   "id": "5464da13",
   "metadata": {},
   "outputs": [],
   "source": []
  },
  {
   "cell_type": "code",
   "execution_count": null,
   "id": "4966a319",
   "metadata": {},
   "outputs": [],
   "source": []
  },
  {
   "cell_type": "code",
   "execution_count": null,
   "id": "7e8dda5e",
   "metadata": {},
   "outputs": [],
   "source": []
  },
  {
   "cell_type": "code",
   "execution_count": null,
   "id": "76a69561",
   "metadata": {},
   "outputs": [],
   "source": []
  },
  {
   "cell_type": "code",
   "execution_count": null,
   "id": "2760c2dc",
   "metadata": {},
   "outputs": [],
   "source": []
  },
  {
   "cell_type": "code",
   "execution_count": null,
   "id": "949bae97",
   "metadata": {},
   "outputs": [],
   "source": []
  },
  {
   "cell_type": "code",
   "execution_count": null,
   "id": "eca9120c",
   "metadata": {},
   "outputs": [],
   "source": []
  },
  {
   "cell_type": "code",
   "execution_count": null,
   "id": "a198e74d",
   "metadata": {},
   "outputs": [],
   "source": []
  }
 ],
 "metadata": {
  "kernelspec": {
   "display_name": "Python 3 (ipykernel)",
   "language": "python",
   "name": "python3"
  },
  "language_info": {
   "codemirror_mode": {
    "name": "ipython",
    "version": 3
   },
   "file_extension": ".py",
   "mimetype": "text/x-python",
   "name": "python",
   "nbconvert_exporter": "python",
   "pygments_lexer": "ipython3",
   "version": "3.9.12"
  }
 },
 "nbformat": 4,
 "nbformat_minor": 5
}
