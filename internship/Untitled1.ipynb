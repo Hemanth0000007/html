{
 "cells": [
  {
   "cell_type": "code",
   "execution_count": 9,
   "id": "8a47b9ad",
   "metadata": {},
   "outputs": [
    {
     "name": "stdout",
     "output_type": "stream",
     "text": [
      "1 2 3\n",
      "4 5 6 \n",
      "7 8 9\n",
      "[[1, 2, 3], [4, 5, 6], [7, 8, 9]]\n",
      "1 2 3 \n",
      "4 5 6 \n",
      "7 8 9 \n"
     ]
    }
   ],
   "source": [
    "r=3\n",
    "c=3\n",
    "mat = []\n",
    "for i in range(r):\n",
    "    l=list(map(int,input().split()))\n",
    "    mat.append(l)\n",
    "print(mat)\n",
    "for i in range(r):\n",
    "    for j in range(c):\n",
    "        print(mat[i][j],end=' ')\n",
    "    print()\n",
    "            \n",
    "     "
   ]
  },
  {
   "cell_type": "code",
   "execution_count": 1,
   "id": "9524053f",
   "metadata": {},
   "outputs": [
    {
     "name": "stdout",
     "output_type": "stream",
     "text": [
      "4 3\n"
     ]
    }
   ],
   "source": [
    "string ='''.....#..\n",
    "#...#...\n",
    ".#.#....\n",
    "..#.....\n",
    ".#.#....\n",
    "#...#...\n",
    ".....#..\n",
    "......#.'''\n",
    "mat = string.split('\\n')\n",
    "for i in range(1,7):\n",
    "    for j in range(1,7):\n",
    "        if mat[i][j] == '#':\n",
    "            if mat[i-1][j-1] == '#' and  mat[i+1][j-1] == '#' and  mat[i+1][j+1] == '#':\n",
    "             print(i+1,j+1)\n",
    "            "
   ]
  },
  {
   "cell_type": "code",
   "execution_count": 7,
   "id": "abb772fd",
   "metadata": {},
   "outputs": [
    {
     "name": "stdout",
     "output_type": "stream",
     "text": [
      "3\n",
      ".....#.. #...#... .#.#.... ..#..... .#.#.... #...#... .....#.. ......#.\n",
      "4 3\n",
      ".....#.. #...#... .#.#.... ..#..... .#.#.... #...#... .....#.. ......#.\n",
      "4 3\n",
      ".....#.. #...#... .#.#.... ..#..... .#.#.... #...#... .....#.. ......#.\n",
      "4 3\n"
     ]
    }
   ],
   "source": [
    "for i in range(int(input())):\n",
    "    string=input()\n",
    "    mat = string.split(' ')\n",
    "    for i in range(1,7):\n",
    "        for j in range(1,7):\n",
    "            if mat[i][j] == '#':\n",
    "                if mat[i-1][j-1] == '#' and  mat[i+1][j-1] == '#' and  mat[i+1][j+1] == '#':\n",
    "                    print(i+1,j+1)\n"
   ]
  },
  {
   "cell_type": "code",
   "execution_count": 10,
   "id": "fffda39c",
   "metadata": {},
   "outputs": [
    {
     "name": "stdout",
     "output_type": "stream",
     "text": [
      "1 2 3\n",
      "4 5 6\n",
      "7 8 9\n",
      "[[1, 2, 3], [4, 5, 6], [7, 8, 9]]\n",
      "1 4 7 \n",
      "2 5 8 \n",
      "3 6 9 \n"
     ]
    }
   ],
   "source": [
    "r=3\n",
    "c=3\n",
    "mat = []\n",
    "for i in range(r):\n",
    "    l=list(map(int,input().split()))\n",
    "    mat.append(l)\n",
    "print(mat)\n",
    "for i in range(r):\n",
    "    for j in range(c):\n",
    "        print(mat[j][i],end=' ')\n",
    "    print()\n",
    "            "
   ]
  },
  {
   "cell_type": "code",
   "execution_count": null,
   "id": "c86392f7",
   "metadata": {},
   "outputs": [],
   "source": []
  },
  {
   "cell_type": "code",
   "execution_count": null,
   "id": "a66aff45",
   "metadata": {},
   "outputs": [],
   "source": []
  },
  {
   "cell_type": "code",
   "execution_count": null,
   "id": "6998b43e",
   "metadata": {},
   "outputs": [],
   "source": []
  },
  {
   "cell_type": "code",
   "execution_count": null,
   "id": "7ad4ca26",
   "metadata": {},
   "outputs": [],
   "source": []
  },
  {
   "cell_type": "code",
   "execution_count": null,
   "id": "5f97fc95",
   "metadata": {},
   "outputs": [],
   "source": []
  },
  {
   "cell_type": "code",
   "execution_count": null,
   "id": "0049894c",
   "metadata": {},
   "outputs": [],
   "source": []
  },
  {
   "cell_type": "code",
   "execution_count": null,
   "id": "61ea3955",
   "metadata": {},
   "outputs": [],
   "source": []
  }
 ],
 "metadata": {
  "kernelspec": {
   "display_name": "Python 3 (ipykernel)",
   "language": "python",
   "name": "python3"
  },
  "language_info": {
   "codemirror_mode": {
    "name": "ipython",
    "version": 3
   },
   "file_extension": ".py",
   "mimetype": "text/x-python",
   "name": "python",
   "nbconvert_exporter": "python",
   "pygments_lexer": "ipython3",
   "version": "3.9.12"
  }
 },
 "nbformat": 4,
 "nbformat_minor": 5
}
