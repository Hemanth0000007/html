{
 "cells": [
  {
   "cell_type": "code",
   "execution_count": 1,
   "id": "3548a5e2",
   "metadata": {},
   "outputs": [
    {
     "name": "stdout",
     "output_type": "stream",
     "text": [
      "100\n",
      "2 3 5 7 11 13 17 19 23 29 31 37 41 43 47 53 59 61 67 71 73 79 83 89 97 "
     ]
    }
   ],
   "source": [
    "import math as m\n",
    "n=int(input())\n",
    "primes = []\n",
    "for i in range (n+1):\n",
    "    primes.append(True)\n",
    "for i in range(2,int(m.sqrt(n))+1):\n",
    "    if (primes[i]==True):\n",
    "        for j in range(i+i,n+1,i):\n",
    "            primes[j]=False\n",
    "for i in range(2,len(primes)):\n",
    "    if (primes[i]==True):\n",
    "        print(i,end=\" \")"
   ]
  },
  {
   "cell_type": "code",
   "execution_count": 2,
   "id": "800a10d8",
   "metadata": {},
   "outputs": [
    {
     "name": "stdout",
     "output_type": "stream",
     "text": [
      "100\n",
      "[2, 3, 4, 5, 6, 7, 8, 9, 10]\n"
     ]
    }
   ],
   "source": [
    "import math as m\n",
    "n=int(input())\n",
    "primes = []\n",
    "for i in range(2,int(m.sqrt(n))+1):\n",
    "    primes.append(i)\n",
    "print(primes)"
   ]
  },
  {
   "cell_type": "code",
   "execution_count": 3,
   "id": "e93ac815",
   "metadata": {},
   "outputs": [
    {
     "name": "stdout",
     "output_type": "stream",
     "text": [
      "173\n",
      "371\n",
      "false\n",
      "29929\n",
      "146731\n"
     ]
    }
   ],
   "source": [
    "n = int(input())\n",
    "rn = int(str(n)[::-1])\n",
    "print(rn)\n",
    "sq=(n**2)\n",
    "rnsq=(rn**2)\n",
    "nrn=rn = int(str(rnsq)[::-1])\n",
    "if sq==nrn:\n",
    "    print(\"true\")\n",
    "else:\n",
    "    print(\"false\")\n",
    "print(sq)\n",
    "print(nrn)"
   ]
  },
  {
   "cell_type": "code",
   "execution_count": 13,
   "id": "e71f17ae",
   "metadata": {},
   "outputs": [
    {
     "name": "stdout",
     "output_type": "stream",
     "text": [
      "346\n",
      "346 is not a Disarium number\n"
     ]
    }
   ],
   "source": [
    "def is_disarium(number):\n",
    "    str_num = str(number)\n",
    "    length = len(str_num)\n",
    "    sum = 0\n",
    "\n",
    "    for i in range(length):\n",
    "        sum += int(str_num[i]) ** (i + 1)\n",
    "\n",
    "    return sum == number\n",
    "\n",
    "# Example usage:\n",
    "num = int(input())\n",
    "if is_disarium(num):\n",
    "    print(f\"{num} is a Disarium number\")\n",
    "else:\n",
    "    print(f\"{num} is not a Disarium number\")\n"
   ]
  },
  {
   "cell_type": "code",
   "execution_count": 14,
   "id": "93344803",
   "metadata": {},
   "outputs": [
    {
     "name": "stdout",
     "output_type": "stream",
     "text": [
      "147\n",
      "30\n"
     ]
    }
   ],
   "source": [
    "def min_steps_to_friend(elephant_house, friend_house):\n",
    "    distance = abs(friend_house - elephant_house)\n",
    "    min_steps = distance // 5\n",
    "    if distance % 5 != 0:\n",
    "        min_steps += 1\n",
    "    return min_steps\n",
    "\n",
    "# Read input\n",
    "elephant_house = int(input())\n",
    "\n",
    "# Calculate and print the minimum number of steps\n",
    "min_steps = min_steps_to_friend(elephant_house, 0)\n",
    "print(min_steps)\n"
   ]
  },
  {
   "cell_type": "code",
   "execution_count": null,
   "id": "8f7b680d",
   "metadata": {},
   "outputs": [],
   "source": []
  },
  {
   "cell_type": "code",
   "execution_count": null,
   "id": "cae88698",
   "metadata": {},
   "outputs": [],
   "source": []
  },
  {
   "cell_type": "code",
   "execution_count": null,
   "id": "510e5323",
   "metadata": {},
   "outputs": [],
   "source": []
  }
 ],
 "metadata": {
  "kernelspec": {
   "display_name": "Python 3 (ipykernel)",
   "language": "python",
   "name": "python3"
  },
  "language_info": {
   "codemirror_mode": {
    "name": "ipython",
    "version": 3
   },
   "file_extension": ".py",
   "mimetype": "text/x-python",
   "name": "python",
   "nbconvert_exporter": "python",
   "pygments_lexer": "ipython3",
   "version": "3.9.12"
  }
 },
 "nbformat": 4,
 "nbformat_minor": 5
}
